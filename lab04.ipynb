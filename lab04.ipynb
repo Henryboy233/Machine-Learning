{
 "cells": [
  {
   "cell_type": "markdown",
   "id": "7429699b",
   "metadata": {},
   "source": [
    "# CITS5508 - Lab4"
   ]
  },
  {
   "cell_type": "markdown",
   "id": "cd2fb94c",
   "metadata": {},
   "source": [
    "### Henry Liu ( 22672083 )"
   ]
  },
  {
   "cell_type": "markdown",
   "id": "8b7c787b",
   "metadata": {},
   "source": [
    "## Introduction"
   ]
  },
  {
   "cell_type": "markdown",
   "id": "96990b86",
   "metadata": {},
   "source": [
    "This lab4 consists of two small projects. In the first project, I train a Voting regressor for\n",
    "a small regression problem; in the second project, I train (i) two Random Forest models using\n",
    "the original data and using the reduced-dimensional data respectively; and (ii) a Bagging regressor. "
   ]
  },
  {
   "cell_type": "markdown",
   "id": "9b2bc6da",
   "metadata": {},
   "source": [
    "## Setup libraries and load data set"
   ]
  },
  {
   "cell_type": "code",
   "execution_count": 1,
   "id": "b7e69f44",
   "metadata": {},
   "outputs": [],
   "source": [
    "import os\n",
    "import tarfile\n",
    "import urllib.request\n",
    "import pandas as pd\n",
    "%matplotlib inline\n",
    "import matplotlib.pyplot as plt\n",
    "import numpy as np\n",
    "import csv"
   ]
  },
  {
   "cell_type": "code",
   "execution_count": 2,
   "id": "7bf55879",
   "metadata": {},
   "outputs": [],
   "source": [
    "# Python ≥3.5 is required\n",
    "import sys\n",
    "assert sys.version_info >= (3, 5)\n",
    "\n",
    "# Scikit-Learn ≥0.20 is required\n",
    "import sklearn\n",
    "assert sklearn.__version__ >= \"0.20\"\n",
    "\n",
    "# Common imports\n",
    "import numpy as np\n",
    "import os\n",
    "\n",
    "# to make this notebook's output stable across runs\n",
    "np.random.seed(1212)\n",
    "\n",
    "# To plot pretty figures\n",
    "%matplotlib inline\n",
    "import matplotlib as mpl\n",
    "import matplotlib.pyplot as plt\n",
    "mpl.rc('axes', labelsize=14)\n",
    "mpl.rc('xtick', labelsize=12)\n",
    "mpl.rc('ytick', labelsize=12)\n",
    "\n",
    "# Where to save the figures\n",
    "PROJECT_ROOT_DIR = \".\"\n",
    "CHAPTER_ID = \"decision_trees\"\n",
    "IMAGES_PATH = os.path.join(PROJECT_ROOT_DIR, \"images\", CHAPTER_ID)\n",
    "os.makedirs(IMAGES_PATH, exist_ok=True)\n",
    "\n",
    "def save_fig(fig_id, tight_layout=True, fig_extension=\"png\", resolution=300):\n",
    "    path = os.path.join(IMAGES_PATH, fig_id + \".\" + fig_extension)\n",
    "    print(\"Saving figure\", fig_id)\n",
    "    if tight_layout:\n",
    "        plt.tight_layout()\n",
    "    plt.savefig(path, format=fig_extension, dpi=resolution)"
   ]
  },
  {
   "cell_type": "markdown",
   "id": "56444a77",
   "metadata": {},
   "source": [
    "## Project 1"
   ]
  },
  {
   "cell_type": "markdown",
   "id": "9348b3cc",
   "metadata": {},
   "source": [
    "### Take a quick look at the data structure"
   ]
  },
  {
   "cell_type": "code",
   "execution_count": 3,
   "id": "078a6453",
   "metadata": {},
   "outputs": [],
   "source": [
    "data_origin1 = pd.read_csv(\"slump_test.data\")"
   ]
  },
  {
   "cell_type": "code",
   "execution_count": 4,
   "id": "fa58f085",
   "metadata": {},
   "outputs": [
    {
     "data": {
      "text/html": [
       "<div>\n",
       "<style scoped>\n",
       "    .dataframe tbody tr th:only-of-type {\n",
       "        vertical-align: middle;\n",
       "    }\n",
       "\n",
       "    .dataframe tbody tr th {\n",
       "        vertical-align: top;\n",
       "    }\n",
       "\n",
       "    .dataframe thead th {\n",
       "        text-align: right;\n",
       "    }\n",
       "</style>\n",
       "<table border=\"1\" class=\"dataframe\">\n",
       "  <thead>\n",
       "    <tr style=\"text-align: right;\">\n",
       "      <th></th>\n",
       "      <th>No</th>\n",
       "      <th>Cement</th>\n",
       "      <th>Slag</th>\n",
       "      <th>Fly ash</th>\n",
       "      <th>Water</th>\n",
       "      <th>SP</th>\n",
       "      <th>Coarse Aggr.</th>\n",
       "      <th>Fine Aggr.</th>\n",
       "      <th>SLUMP(cm)</th>\n",
       "      <th>FLOW(cm)</th>\n",
       "      <th>Compressive Strength (28-day)(Mpa)</th>\n",
       "    </tr>\n",
       "  </thead>\n",
       "  <tbody>\n",
       "    <tr>\n",
       "      <th>0</th>\n",
       "      <td>1</td>\n",
       "      <td>273.0</td>\n",
       "      <td>82.0</td>\n",
       "      <td>105.0</td>\n",
       "      <td>210.0</td>\n",
       "      <td>9.0</td>\n",
       "      <td>904.0</td>\n",
       "      <td>680.0</td>\n",
       "      <td>23.0</td>\n",
       "      <td>62.0</td>\n",
       "      <td>34.99</td>\n",
       "    </tr>\n",
       "    <tr>\n",
       "      <th>1</th>\n",
       "      <td>2</td>\n",
       "      <td>163.0</td>\n",
       "      <td>149.0</td>\n",
       "      <td>191.0</td>\n",
       "      <td>180.0</td>\n",
       "      <td>12.0</td>\n",
       "      <td>843.0</td>\n",
       "      <td>746.0</td>\n",
       "      <td>0.0</td>\n",
       "      <td>20.0</td>\n",
       "      <td>41.14</td>\n",
       "    </tr>\n",
       "    <tr>\n",
       "      <th>2</th>\n",
       "      <td>3</td>\n",
       "      <td>162.0</td>\n",
       "      <td>148.0</td>\n",
       "      <td>191.0</td>\n",
       "      <td>179.0</td>\n",
       "      <td>16.0</td>\n",
       "      <td>840.0</td>\n",
       "      <td>743.0</td>\n",
       "      <td>1.0</td>\n",
       "      <td>20.0</td>\n",
       "      <td>41.81</td>\n",
       "    </tr>\n",
       "    <tr>\n",
       "      <th>3</th>\n",
       "      <td>4</td>\n",
       "      <td>162.0</td>\n",
       "      <td>148.0</td>\n",
       "      <td>190.0</td>\n",
       "      <td>179.0</td>\n",
       "      <td>19.0</td>\n",
       "      <td>838.0</td>\n",
       "      <td>741.0</td>\n",
       "      <td>3.0</td>\n",
       "      <td>21.5</td>\n",
       "      <td>42.08</td>\n",
       "    </tr>\n",
       "    <tr>\n",
       "      <th>4</th>\n",
       "      <td>5</td>\n",
       "      <td>154.0</td>\n",
       "      <td>112.0</td>\n",
       "      <td>144.0</td>\n",
       "      <td>220.0</td>\n",
       "      <td>10.0</td>\n",
       "      <td>923.0</td>\n",
       "      <td>658.0</td>\n",
       "      <td>20.0</td>\n",
       "      <td>64.0</td>\n",
       "      <td>26.82</td>\n",
       "    </tr>\n",
       "  </tbody>\n",
       "</table>\n",
       "</div>"
      ],
      "text/plain": [
       "   No  Cement   Slag  Fly ash  Water    SP  Coarse Aggr.  Fine Aggr.  \\\n",
       "0   1   273.0   82.0    105.0  210.0   9.0         904.0       680.0   \n",
       "1   2   163.0  149.0    191.0  180.0  12.0         843.0       746.0   \n",
       "2   3   162.0  148.0    191.0  179.0  16.0         840.0       743.0   \n",
       "3   4   162.0  148.0    190.0  179.0  19.0         838.0       741.0   \n",
       "4   5   154.0  112.0    144.0  220.0  10.0         923.0       658.0   \n",
       "\n",
       "   SLUMP(cm)  FLOW(cm)  Compressive Strength (28-day)(Mpa)  \n",
       "0       23.0      62.0                               34.99  \n",
       "1        0.0      20.0                               41.14  \n",
       "2        1.0      20.0                               41.81  \n",
       "3        3.0      21.5                               42.08  \n",
       "4       20.0      64.0                               26.82  "
      ]
     },
     "execution_count": 4,
     "metadata": {},
     "output_type": "execute_result"
    }
   ],
   "source": [
    "data_origin1.head()"
   ]
  },
  {
   "cell_type": "markdown",
   "id": "14a138a3",
   "metadata": {},
   "source": [
    "**Because we have three output in origin data,Output variables (3):SLUMP (cm), FLOW (cm), 28-day Compressive Strength (Mpa) and we only need to use the last one -- Mpa, so I create the data only with one output Mpa and drop the festure 'No' below.**"
   ]
  },
  {
   "cell_type": "code",
   "execution_count": 5,
   "id": "efa82236",
   "metadata": {},
   "outputs": [],
   "source": [
    "def cleaning(data_origin,data_tune):\n",
    "    data_tune = data_origin.drop(\"No\", axis=1)\n",
    "    data_tune = data_tune.drop(\"SLUMP(cm)\", axis=1)\n",
    "    data_tune = data_tune.drop(\"FLOW(cm)\", axis=1)\n",
    "    return data_tune\n"
   ]
  },
  {
   "cell_type": "code",
   "execution_count": 6,
   "id": "f422269c",
   "metadata": {},
   "outputs": [],
   "source": [
    "data_tune = data_origin1\n",
    "data_tune = cleaning(data_origin1,data_tune)"
   ]
  },
  {
   "cell_type": "code",
   "execution_count": 7,
   "id": "f29557df",
   "metadata": {},
   "outputs": [
    {
     "data": {
      "text/html": [
       "<div>\n",
       "<style scoped>\n",
       "    .dataframe tbody tr th:only-of-type {\n",
       "        vertical-align: middle;\n",
       "    }\n",
       "\n",
       "    .dataframe tbody tr th {\n",
       "        vertical-align: top;\n",
       "    }\n",
       "\n",
       "    .dataframe thead th {\n",
       "        text-align: right;\n",
       "    }\n",
       "</style>\n",
       "<table border=\"1\" class=\"dataframe\">\n",
       "  <thead>\n",
       "    <tr style=\"text-align: right;\">\n",
       "      <th></th>\n",
       "      <th>Cement</th>\n",
       "      <th>Slag</th>\n",
       "      <th>Fly ash</th>\n",
       "      <th>Water</th>\n",
       "      <th>SP</th>\n",
       "      <th>Coarse Aggr.</th>\n",
       "      <th>Fine Aggr.</th>\n",
       "      <th>Compressive Strength (28-day)(Mpa)</th>\n",
       "    </tr>\n",
       "  </thead>\n",
       "  <tbody>\n",
       "    <tr>\n",
       "      <th>0</th>\n",
       "      <td>273.0</td>\n",
       "      <td>82.0</td>\n",
       "      <td>105.0</td>\n",
       "      <td>210.0</td>\n",
       "      <td>9.0</td>\n",
       "      <td>904.0</td>\n",
       "      <td>680.0</td>\n",
       "      <td>34.99</td>\n",
       "    </tr>\n",
       "    <tr>\n",
       "      <th>1</th>\n",
       "      <td>163.0</td>\n",
       "      <td>149.0</td>\n",
       "      <td>191.0</td>\n",
       "      <td>180.0</td>\n",
       "      <td>12.0</td>\n",
       "      <td>843.0</td>\n",
       "      <td>746.0</td>\n",
       "      <td>41.14</td>\n",
       "    </tr>\n",
       "    <tr>\n",
       "      <th>2</th>\n",
       "      <td>162.0</td>\n",
       "      <td>148.0</td>\n",
       "      <td>191.0</td>\n",
       "      <td>179.0</td>\n",
       "      <td>16.0</td>\n",
       "      <td>840.0</td>\n",
       "      <td>743.0</td>\n",
       "      <td>41.81</td>\n",
       "    </tr>\n",
       "    <tr>\n",
       "      <th>3</th>\n",
       "      <td>162.0</td>\n",
       "      <td>148.0</td>\n",
       "      <td>190.0</td>\n",
       "      <td>179.0</td>\n",
       "      <td>19.0</td>\n",
       "      <td>838.0</td>\n",
       "      <td>741.0</td>\n",
       "      <td>42.08</td>\n",
       "    </tr>\n",
       "    <tr>\n",
       "      <th>4</th>\n",
       "      <td>154.0</td>\n",
       "      <td>112.0</td>\n",
       "      <td>144.0</td>\n",
       "      <td>220.0</td>\n",
       "      <td>10.0</td>\n",
       "      <td>923.0</td>\n",
       "      <td>658.0</td>\n",
       "      <td>26.82</td>\n",
       "    </tr>\n",
       "    <tr>\n",
       "      <th>...</th>\n",
       "      <td>...</td>\n",
       "      <td>...</td>\n",
       "      <td>...</td>\n",
       "      <td>...</td>\n",
       "      <td>...</td>\n",
       "      <td>...</td>\n",
       "      <td>...</td>\n",
       "      <td>...</td>\n",
       "    </tr>\n",
       "    <tr>\n",
       "      <th>98</th>\n",
       "      <td>248.3</td>\n",
       "      <td>101.0</td>\n",
       "      <td>239.1</td>\n",
       "      <td>168.9</td>\n",
       "      <td>7.7</td>\n",
       "      <td>954.2</td>\n",
       "      <td>640.6</td>\n",
       "      <td>49.97</td>\n",
       "    </tr>\n",
       "    <tr>\n",
       "      <th>99</th>\n",
       "      <td>248.0</td>\n",
       "      <td>101.0</td>\n",
       "      <td>239.9</td>\n",
       "      <td>169.1</td>\n",
       "      <td>7.7</td>\n",
       "      <td>949.9</td>\n",
       "      <td>644.1</td>\n",
       "      <td>50.23</td>\n",
       "    </tr>\n",
       "    <tr>\n",
       "      <th>100</th>\n",
       "      <td>258.8</td>\n",
       "      <td>88.0</td>\n",
       "      <td>239.6</td>\n",
       "      <td>175.3</td>\n",
       "      <td>7.6</td>\n",
       "      <td>938.9</td>\n",
       "      <td>646.0</td>\n",
       "      <td>50.50</td>\n",
       "    </tr>\n",
       "    <tr>\n",
       "      <th>101</th>\n",
       "      <td>297.1</td>\n",
       "      <td>40.9</td>\n",
       "      <td>239.9</td>\n",
       "      <td>194.0</td>\n",
       "      <td>7.5</td>\n",
       "      <td>908.9</td>\n",
       "      <td>651.8</td>\n",
       "      <td>49.17</td>\n",
       "    </tr>\n",
       "    <tr>\n",
       "      <th>102</th>\n",
       "      <td>348.7</td>\n",
       "      <td>0.1</td>\n",
       "      <td>223.1</td>\n",
       "      <td>208.5</td>\n",
       "      <td>9.6</td>\n",
       "      <td>786.2</td>\n",
       "      <td>758.1</td>\n",
       "      <td>48.77</td>\n",
       "    </tr>\n",
       "  </tbody>\n",
       "</table>\n",
       "<p>103 rows × 8 columns</p>\n",
       "</div>"
      ],
      "text/plain": [
       "     Cement   Slag  Fly ash  Water    SP  Coarse Aggr.  Fine Aggr.  \\\n",
       "0     273.0   82.0    105.0  210.0   9.0         904.0       680.0   \n",
       "1     163.0  149.0    191.0  180.0  12.0         843.0       746.0   \n",
       "2     162.0  148.0    191.0  179.0  16.0         840.0       743.0   \n",
       "3     162.0  148.0    190.0  179.0  19.0         838.0       741.0   \n",
       "4     154.0  112.0    144.0  220.0  10.0         923.0       658.0   \n",
       "..      ...    ...      ...    ...   ...           ...         ...   \n",
       "98    248.3  101.0    239.1  168.9   7.7         954.2       640.6   \n",
       "99    248.0  101.0    239.9  169.1   7.7         949.9       644.1   \n",
       "100   258.8   88.0    239.6  175.3   7.6         938.9       646.0   \n",
       "101   297.1   40.9    239.9  194.0   7.5         908.9       651.8   \n",
       "102   348.7    0.1    223.1  208.5   9.6         786.2       758.1   \n",
       "\n",
       "     Compressive Strength (28-day)(Mpa)  \n",
       "0                                 34.99  \n",
       "1                                 41.14  \n",
       "2                                 41.81  \n",
       "3                                 42.08  \n",
       "4                                 26.82  \n",
       "..                                  ...  \n",
       "98                                49.97  \n",
       "99                                50.23  \n",
       "100                               50.50  \n",
       "101                               49.17  \n",
       "102                               48.77  \n",
       "\n",
       "[103 rows x 8 columns]"
      ]
     },
     "execution_count": 7,
     "metadata": {},
     "output_type": "execute_result"
    }
   ],
   "source": [
    "\"\"\"\n",
    "attributes = ['Cement','Slag','Fly ash','Water','SP','Coarse Aggr.','Fine Aggr.','Compressive Strength (28-day)(Mpa)']\n",
    "\"\"\"\n",
    "data_tune\n"
   ]
  },
  {
   "cell_type": "code",
   "execution_count": 8,
   "id": "32d9ce6b",
   "metadata": {},
   "outputs": [
    {
     "name": "stdout",
     "output_type": "stream",
     "text": [
      "<class 'pandas.core.frame.DataFrame'>\n",
      "RangeIndex: 103 entries, 0 to 102\n",
      "Data columns (total 8 columns):\n",
      " #   Column                              Non-Null Count  Dtype  \n",
      "---  ------                              --------------  -----  \n",
      " 0   Cement                              103 non-null    float64\n",
      " 1   Slag                                103 non-null    float64\n",
      " 2   Fly ash                             103 non-null    float64\n",
      " 3   Water                               103 non-null    float64\n",
      " 4   SP                                  103 non-null    float64\n",
      " 5   Coarse Aggr.                        103 non-null    float64\n",
      " 6   Fine Aggr.                          103 non-null    float64\n",
      " 7   Compressive Strength (28-day)(Mpa)  103 non-null    float64\n",
      "dtypes: float64(8)\n",
      "memory usage: 6.6 KB\n"
     ]
    }
   ],
   "source": [
    "data_tune.info()"
   ]
  },
  {
   "cell_type": "code",
   "execution_count": 9,
   "id": "23c6dc01",
   "metadata": {},
   "outputs": [
    {
     "name": "stdout",
     "output_type": "stream",
     "text": [
      "<class 'pandas.core.frame.DataFrame'>\n",
      "RangeIndex: 103 entries, 0 to 102\n",
      "Data columns (total 8 columns):\n",
      " #   Column                              Non-Null Count  Dtype  \n",
      "---  ------                              --------------  -----  \n",
      " 0   Cement                              103 non-null    float64\n",
      " 1   Slag                                103 non-null    float64\n",
      " 2   Fly ash                             103 non-null    float64\n",
      " 3   Water                               103 non-null    float64\n",
      " 4   SP                                  103 non-null    float64\n",
      " 5   Coarse Aggr.                        103 non-null    float64\n",
      " 6   Fine Aggr.                          103 non-null    float64\n",
      " 7   Compressive Strength (28-day)(Mpa)  103 non-null    float64\n",
      "dtypes: float64(8)\n",
      "memory usage: 6.6 KB\n"
     ]
    }
   ],
   "source": [
    "data_tune.info()"
   ]
  },
  {
   "cell_type": "code",
   "execution_count": 10,
   "id": "d29465f3",
   "metadata": {},
   "outputs": [],
   "source": [
    "#data_frame = data_origin[attributes]"
   ]
  },
  {
   "cell_type": "code",
   "execution_count": 11,
   "id": "27371ca4",
   "metadata": {},
   "outputs": [],
   "source": [
    "#data_frame.head()"
   ]
  },
  {
   "cell_type": "code",
   "execution_count": 12,
   "id": "5dbec568",
   "metadata": {},
   "outputs": [
    {
     "data": {
      "text/plain": [
       "0      34.99\n",
       "1      41.14\n",
       "2      41.81\n",
       "3      42.08\n",
       "4      26.82\n",
       "       ...  \n",
       "98     49.97\n",
       "99     50.23\n",
       "100    50.50\n",
       "101    49.17\n",
       "102    48.77\n",
       "Name: Compressive Strength (28-day)(Mpa), Length: 103, dtype: float64"
      ]
     },
     "execution_count": 12,
     "metadata": {},
     "output_type": "execute_result"
    }
   ],
   "source": [
    "y = data_tune['Compressive Strength (28-day)(Mpa)']\n",
    "y\n"
   ]
  },
  {
   "cell_type": "code",
   "execution_count": 13,
   "id": "b64d1414",
   "metadata": {},
   "outputs": [
    {
     "data": {
      "text/html": [
       "<div>\n",
       "<style scoped>\n",
       "    .dataframe tbody tr th:only-of-type {\n",
       "        vertical-align: middle;\n",
       "    }\n",
       "\n",
       "    .dataframe tbody tr th {\n",
       "        vertical-align: top;\n",
       "    }\n",
       "\n",
       "    .dataframe thead th {\n",
       "        text-align: right;\n",
       "    }\n",
       "</style>\n",
       "<table border=\"1\" class=\"dataframe\">\n",
       "  <thead>\n",
       "    <tr style=\"text-align: right;\">\n",
       "      <th></th>\n",
       "      <th>Cement</th>\n",
       "      <th>Slag</th>\n",
       "      <th>Fly ash</th>\n",
       "      <th>Water</th>\n",
       "      <th>SP</th>\n",
       "      <th>Coarse Aggr.</th>\n",
       "      <th>Fine Aggr.</th>\n",
       "    </tr>\n",
       "  </thead>\n",
       "  <tbody>\n",
       "    <tr>\n",
       "      <th>0</th>\n",
       "      <td>273.0</td>\n",
       "      <td>82.0</td>\n",
       "      <td>105.0</td>\n",
       "      <td>210.0</td>\n",
       "      <td>9.0</td>\n",
       "      <td>904.0</td>\n",
       "      <td>680.0</td>\n",
       "    </tr>\n",
       "    <tr>\n",
       "      <th>1</th>\n",
       "      <td>163.0</td>\n",
       "      <td>149.0</td>\n",
       "      <td>191.0</td>\n",
       "      <td>180.0</td>\n",
       "      <td>12.0</td>\n",
       "      <td>843.0</td>\n",
       "      <td>746.0</td>\n",
       "    </tr>\n",
       "    <tr>\n",
       "      <th>2</th>\n",
       "      <td>162.0</td>\n",
       "      <td>148.0</td>\n",
       "      <td>191.0</td>\n",
       "      <td>179.0</td>\n",
       "      <td>16.0</td>\n",
       "      <td>840.0</td>\n",
       "      <td>743.0</td>\n",
       "    </tr>\n",
       "    <tr>\n",
       "      <th>3</th>\n",
       "      <td>162.0</td>\n",
       "      <td>148.0</td>\n",
       "      <td>190.0</td>\n",
       "      <td>179.0</td>\n",
       "      <td>19.0</td>\n",
       "      <td>838.0</td>\n",
       "      <td>741.0</td>\n",
       "    </tr>\n",
       "    <tr>\n",
       "      <th>4</th>\n",
       "      <td>154.0</td>\n",
       "      <td>112.0</td>\n",
       "      <td>144.0</td>\n",
       "      <td>220.0</td>\n",
       "      <td>10.0</td>\n",
       "      <td>923.0</td>\n",
       "      <td>658.0</td>\n",
       "    </tr>\n",
       "    <tr>\n",
       "      <th>...</th>\n",
       "      <td>...</td>\n",
       "      <td>...</td>\n",
       "      <td>...</td>\n",
       "      <td>...</td>\n",
       "      <td>...</td>\n",
       "      <td>...</td>\n",
       "      <td>...</td>\n",
       "    </tr>\n",
       "    <tr>\n",
       "      <th>98</th>\n",
       "      <td>248.3</td>\n",
       "      <td>101.0</td>\n",
       "      <td>239.1</td>\n",
       "      <td>168.9</td>\n",
       "      <td>7.7</td>\n",
       "      <td>954.2</td>\n",
       "      <td>640.6</td>\n",
       "    </tr>\n",
       "    <tr>\n",
       "      <th>99</th>\n",
       "      <td>248.0</td>\n",
       "      <td>101.0</td>\n",
       "      <td>239.9</td>\n",
       "      <td>169.1</td>\n",
       "      <td>7.7</td>\n",
       "      <td>949.9</td>\n",
       "      <td>644.1</td>\n",
       "    </tr>\n",
       "    <tr>\n",
       "      <th>100</th>\n",
       "      <td>258.8</td>\n",
       "      <td>88.0</td>\n",
       "      <td>239.6</td>\n",
       "      <td>175.3</td>\n",
       "      <td>7.6</td>\n",
       "      <td>938.9</td>\n",
       "      <td>646.0</td>\n",
       "    </tr>\n",
       "    <tr>\n",
       "      <th>101</th>\n",
       "      <td>297.1</td>\n",
       "      <td>40.9</td>\n",
       "      <td>239.9</td>\n",
       "      <td>194.0</td>\n",
       "      <td>7.5</td>\n",
       "      <td>908.9</td>\n",
       "      <td>651.8</td>\n",
       "    </tr>\n",
       "    <tr>\n",
       "      <th>102</th>\n",
       "      <td>348.7</td>\n",
       "      <td>0.1</td>\n",
       "      <td>223.1</td>\n",
       "      <td>208.5</td>\n",
       "      <td>9.6</td>\n",
       "      <td>786.2</td>\n",
       "      <td>758.1</td>\n",
       "    </tr>\n",
       "  </tbody>\n",
       "</table>\n",
       "<p>103 rows × 7 columns</p>\n",
       "</div>"
      ],
      "text/plain": [
       "     Cement   Slag  Fly ash  Water    SP  Coarse Aggr.  Fine Aggr.\n",
       "0     273.0   82.0    105.0  210.0   9.0         904.0       680.0\n",
       "1     163.0  149.0    191.0  180.0  12.0         843.0       746.0\n",
       "2     162.0  148.0    191.0  179.0  16.0         840.0       743.0\n",
       "3     162.0  148.0    190.0  179.0  19.0         838.0       741.0\n",
       "4     154.0  112.0    144.0  220.0  10.0         923.0       658.0\n",
       "..      ...    ...      ...    ...   ...           ...         ...\n",
       "98    248.3  101.0    239.1  168.9   7.7         954.2       640.6\n",
       "99    248.0  101.0    239.9  169.1   7.7         949.9       644.1\n",
       "100   258.8   88.0    239.6  175.3   7.6         938.9       646.0\n",
       "101   297.1   40.9    239.9  194.0   7.5         908.9       651.8\n",
       "102   348.7    0.1    223.1  208.5   9.6         786.2       758.1\n",
       "\n",
       "[103 rows x 7 columns]"
      ]
     },
     "execution_count": 13,
     "metadata": {},
     "output_type": "execute_result"
    }
   ],
   "source": [
    "features = ['Cement','Slag','Fly ash','Water','SP','Coarse Aggr.','Fine Aggr.']\n",
    "X = data_tune[features]\n",
    "X"
   ]
  },
  {
   "cell_type": "code",
   "execution_count": 14,
   "id": "a418f271",
   "metadata": {},
   "outputs": [],
   "source": [
    "# convert csv file to dict(key-value pairs each row)\n",
    "def row_csv2dict(csv_file):\n",
    "    dict_club={}\n",
    "    with open(csv_file)as f:\n",
    "        reader=csv.reader(f,delimiter=',')\n",
    "        for row in reader:\n",
    "            dict_club[row[0]]=row[1],row[2],row[3],row[4],row[5],row[6],row[7],row[10]\n",
    "    return dict_club"
   ]
  },
  {
   "cell_type": "code",
   "execution_count": 15,
   "id": "b3dc8561",
   "metadata": {},
   "outputs": [],
   "source": [
    "#data_list = row_csv2dict('slump_test.data')"
   ]
  },
  {
   "cell_type": "code",
   "execution_count": 16,
   "id": "95499719",
   "metadata": {},
   "outputs": [],
   "source": [
    "#data_list"
   ]
  },
  {
   "cell_type": "code",
   "execution_count": 17,
   "id": "58820e5a",
   "metadata": {},
   "outputs": [],
   "source": [
    "#del data_list['No']"
   ]
  },
  {
   "cell_type": "code",
   "execution_count": 18,
   "id": "d1128ffe",
   "metadata": {},
   "outputs": [],
   "source": [
    "#data_list"
   ]
  },
  {
   "cell_type": "code",
   "execution_count": 19,
   "id": "e6c7b8de",
   "metadata": {},
   "outputs": [],
   "source": [
    "#data = data_frame.to_numpy()"
   ]
  },
  {
   "cell_type": "markdown",
   "id": "2ba17f6b",
   "metadata": {},
   "source": [
    "**Split training set and test set**"
   ]
  },
  {
   "cell_type": "code",
   "execution_count": 20,
   "id": "abbb4648",
   "metadata": {},
   "outputs": [],
   "source": [
    "from sklearn.model_selection import train_test_split\n",
    "\n",
    "\n",
    "training_x_data1, testing_x_data1,training_y_data1, testing_y_data1 = train_test_split(X,y, test_size=0.2, random_state=1212)\n",
    "\n"
   ]
  },
  {
   "cell_type": "code",
   "execution_count": 21,
   "id": "7794f102",
   "metadata": {},
   "outputs": [],
   "source": [
    "X_train, X_test, y_train, y_test = training_x_data1.to_numpy(),testing_x_data1.to_numpy(),training_y_data1.to_numpy(),testing_y_data1.to_numpy()"
   ]
  },
  {
   "cell_type": "markdown",
   "id": "89637107",
   "metadata": {},
   "source": [
    "**Create voting classifiers**"
   ]
  },
  {
   "cell_type": "code",
   "execution_count": 22,
   "id": "828e64b3",
   "metadata": {},
   "outputs": [],
   "source": [
    "from sklearn.svm import SVR\n",
    "from sklearn.ensemble import VotingRegressor\n",
    "from sklearn.linear_model import LinearRegression\n",
    "from sklearn.linear_model import SGDRegressor\n",
    "\n",
    "lin_reg = LinearRegression(fit_intercept=True, normalize='deprecated', copy_X=True, n_jobs=None, positive=False)\n",
    "SGD_reg = SGDRegressor(penalty='l2', alpha=0.0001, l1_ratio=0.15, fit_intercept=True, max_iter=1000, tol=0.001, shuffle=True, verbose=0, epsilon=0.1, random_state=None, learning_rate='invscaling', eta0=0.01, power_t=0.25, early_stopping=False, validation_fraction=0.1, n_iter_no_change=5, warm_start=False, average=False)\n",
    "svm_reg = SVR(kernel='rbf', degree=3, gamma='scale', coef0=0.0, tol=0.001, C=1.0, epsilon=0.1, shrinking=True, cache_size=200, verbose=False, max_iter=- 1)\n",
    "\n",
    "\n",
    "\n",
    "voting_reg = VotingRegressor(\n",
    "    estimators=[('lc', lin_reg), ('SGD', SGD_reg), ('svm', svm_reg)])"
   ]
  },
  {
   "cell_type": "code",
   "execution_count": 23,
   "id": "ada32b3f",
   "metadata": {},
   "outputs": [
    {
     "data": {
      "text/plain": [
       "VotingRegressor(estimators=[('lc', LinearRegression()), ('SGD', SGDRegressor()),\n",
       "                            ('svm', SVR())])"
      ]
     },
     "execution_count": 23,
     "metadata": {},
     "output_type": "execute_result"
    }
   ],
   "source": [
    "voting_reg.fit(X_train.astype('float'),y_train.astype('float'))"
   ]
  },
  {
   "cell_type": "code",
   "execution_count": 24,
   "id": "9c67a55e",
   "metadata": {},
   "outputs": [
    {
     "data": {
      "text/plain": [
       "array([[1.4300e+02, 1.3100e+02, 1.6800e+02, 2.1700e+02, 6.0000e+00,\n",
       "        8.9100e+02, 6.7200e+02],\n",
       "       [1.4800e+02, 1.0900e+02, 1.3900e+02, 1.9300e+02, 7.0000e+00,\n",
       "        7.6800e+02, 9.0200e+02],\n",
       "       [1.6000e+02, 1.4600e+02, 1.8800e+02, 2.0300e+02, 1.1000e+01,\n",
       "        8.2900e+02, 7.1000e+02],\n",
       "       [1.7200e+02, 1.6210e+02, 2.3850e+02, 1.6600e+02, 7.4000e+00,\n",
       "        9.5330e+02, 6.4140e+02],\n",
       "       [2.7800e+02, 0.0000e+00, 1.1700e+02, 2.0500e+02, 9.0000e+00,\n",
       "        8.7500e+02, 7.9900e+02],\n",
       "       [1.4330e+02, 9.1800e+01, 2.3980e+02, 2.0080e+02, 6.2000e+00,\n",
       "        9.6480e+02, 6.4710e+02],\n",
       "       [1.4600e+02, 1.0600e+02, 1.3700e+02, 2.0900e+02, 6.0000e+00,\n",
       "        8.7500e+02, 7.6500e+02],\n",
       "       [1.6200e+02, 1.4800e+02, 1.9100e+02, 1.7900e+02, 1.6000e+01,\n",
       "        8.4000e+02, 7.4300e+02],\n",
       "       [1.5900e+02, 1.9300e+02, 0.0000e+00, 2.0800e+02, 1.2000e+01,\n",
       "        8.2100e+02, 8.1800e+02],\n",
       "       [1.6530e+02, 1.4320e+02, 2.3830e+02, 2.0040e+02, 7.1000e+00,\n",
       "        8.8320e+02, 6.5260e+02],\n",
       "       [3.6600e+02, 0.0000e+00, 1.8700e+02, 1.9100e+02, 7.0000e+00,\n",
       "        8.2400e+02, 7.5700e+02],\n",
       "       [2.5200e+02, 7.6000e+01, 9.7000e+01, 1.9400e+02, 8.0000e+00,\n",
       "        8.3500e+02, 8.2100e+02],\n",
       "       [3.3600e+02, 1.3400e+02, 0.0000e+00, 2.2200e+02, 6.0000e+00,\n",
       "        7.5600e+02, 7.8700e+02],\n",
       "       [1.6500e+02, 1.5000e+02, 0.0000e+00, 1.8200e+02, 1.2000e+01,\n",
       "        1.0230e+03, 7.2900e+02],\n",
       "       [1.4200e+02, 1.3000e+02, 1.6700e+02, 2.1500e+02, 6.0000e+00,\n",
       "        7.3500e+02, 8.3600e+02],\n",
       "       [1.9430e+02, 3.0000e-01, 2.4000e+02, 2.3420e+02, 8.9000e+00,\n",
       "        7.8060e+02, 8.1130e+02],\n",
       "       [3.1300e+02, 1.2400e+02, 0.0000e+00, 2.0500e+02, 1.1000e+01,\n",
       "        8.4600e+02, 7.5800e+02],\n",
       "       [2.9530e+02, 0.0000e+00, 2.3990e+02, 2.3620e+02, 8.3000e+00,\n",
       "        7.8030e+02, 7.2290e+02],\n",
       "       [1.4050e+02, 6.1100e+01, 2.3890e+02, 1.8250e+02, 5.7000e+00,\n",
       "        1.0177e+03, 6.8140e+02],\n",
       "       [3.2000e+02, 1.2700e+02, 1.6400e+02, 2.1100e+02, 6.0000e+00,\n",
       "        7.2100e+02, 7.2300e+02],\n",
       "       [2.9100e+02, 1.0500e+02, 0.0000e+00, 2.0500e+02, 6.0000e+00,\n",
       "        8.5900e+02, 7.9700e+02],\n",
       "       [3.1000e+02, 0.0000e+00, 1.4300e+02, 1.6800e+02, 1.0000e+01,\n",
       "        9.1400e+02, 8.0400e+02],\n",
       "       [2.9800e+02, 1.0700e+02, 1.3700e+02, 2.0100e+02, 6.0000e+00,\n",
       "        8.7800e+02, 6.5500e+02],\n",
       "       [3.4900e+02, 0.0000e+00, 1.7800e+02, 2.3000e+02, 6.0000e+00,\n",
       "        7.8500e+02, 7.2100e+02],\n",
       "       [1.4000e+02, 1.4000e+00, 1.9810e+02, 1.7490e+02, 4.4000e+00,\n",
       "        1.0499e+03, 7.8050e+02],\n",
       "       [1.4500e+02, 1.7700e+02, 2.2700e+02, 2.0900e+02, 1.1000e+01,\n",
       "        7.5200e+02, 7.1500e+02],\n",
       "       [3.1400e+02, 0.0000e+00, 1.6100e+02, 2.0700e+02, 6.0000e+00,\n",
       "        8.5100e+02, 7.5700e+02],\n",
       "       [3.0400e+02, 0.0000e+00, 1.4000e+02, 2.1400e+02, 6.0000e+00,\n",
       "        8.9500e+02, 7.2200e+02],\n",
       "       [1.5030e+02, 1.1140e+02, 2.3880e+02, 1.6730e+02, 6.5000e+00,\n",
       "        9.9950e+02, 6.7050e+02],\n",
       "       [2.4800e+02, 1.0100e+02, 2.3990e+02, 1.6910e+02, 7.7000e+00,\n",
       "        9.4990e+02, 6.4410e+02],\n",
       "       [2.9800e+02, 1.0700e+02, 0.0000e+00, 1.8600e+02, 6.0000e+00,\n",
       "        8.7900e+02, 8.1500e+02],\n",
       "       [1.4500e+02, 0.0000e+00, 2.2700e+02, 2.4000e+02, 6.0000e+00,\n",
       "        7.5000e+02, 8.5300e+02],\n",
       "       [3.1000e+02, 0.0000e+00, 1.4300e+02, 2.1800e+02, 1.0000e+01,\n",
       "        7.8700e+02, 8.0400e+02],\n",
       "       [1.5540e+02, 1.2210e+02, 2.4000e+02, 1.7990e+02, 6.7000e+00,\n",
       "        9.6680e+02, 6.5250e+02],\n",
       "       [3.0380e+02, 2.0000e-01, 2.3980e+02, 2.3640e+02, 8.3000e+00,\n",
       "        7.8010e+02, 7.1530e+02],\n",
       "       [2.1560e+02, 1.1290e+02, 2.3900e+02, 1.9870e+02, 7.4000e+00,\n",
       "        8.8400e+02, 6.4910e+02],\n",
       "       [1.4000e+02, 1.2800e+02, 1.6400e+02, 1.8300e+02, 1.2000e+01,\n",
       "        8.7100e+02, 7.7500e+02],\n",
       "       [1.4000e+02, 1.2800e+02, 1.6400e+02, 2.3700e+02, 6.0000e+00,\n",
       "        8.6900e+02, 6.5600e+02],\n",
       "       [1.4020e+02, 3.0500e+01, 2.3900e+02, 1.6940e+02, 5.3000e+00,\n",
       "        1.0284e+03, 7.4270e+02],\n",
       "       [2.6500e+02, 8.6000e+01, 1.1100e+02, 1.9500e+02, 6.0000e+00,\n",
       "        8.3300e+02, 7.9000e+02],\n",
       "       [2.5880e+02, 8.8000e+01, 2.3960e+02, 1.7530e+02, 7.6000e+00,\n",
       "        9.3890e+02, 6.4600e+02],\n",
       "       [1.4200e+02, 1.3000e+02, 1.6700e+02, 1.7400e+02, 1.1000e+01,\n",
       "        8.8300e+02, 7.8500e+02],\n",
       "       [3.1800e+02, 1.2600e+02, 0.0000e+00, 2.1000e+02, 6.0000e+00,\n",
       "        8.6100e+02, 7.3700e+02],\n",
       "       [2.4830e+02, 1.0100e+02, 2.3910e+02, 1.6890e+02, 7.7000e+00,\n",
       "        9.5420e+02, 6.4060e+02],\n",
       "       [1.6600e+02, 0.0000e+00, 2.6000e+02, 1.8300e+02, 1.3000e+01,\n",
       "        8.5900e+02, 8.2700e+02],\n",
       "       [2.9710e+02, 4.0900e+01, 2.3990e+02, 1.9400e+02, 7.5000e+00,\n",
       "        9.0890e+02, 6.5180e+02],\n",
       "       [1.7280e+02, 1.5830e+02, 2.3950e+02, 1.6640e+02, 7.4000e+00,\n",
       "        9.5260e+02, 6.4410e+02],\n",
       "       [2.7600e+02, 9.0000e+01, 1.1600e+02, 1.8000e+02, 9.0000e+00,\n",
       "        8.7000e+02, 7.6800e+02],\n",
       "       [1.4800e+02, 1.8000e+02, 0.0000e+00, 1.8300e+02, 1.1000e+01,\n",
       "        9.7200e+02, 7.5700e+02],\n",
       "       [3.1300e+02, 1.1200e+02, 0.0000e+00, 2.2000e+02, 1.0000e+01,\n",
       "        7.9400e+02, 7.8900e+02],\n",
       "       [1.5300e+02, 0.0000e+00, 2.3900e+02, 2.0000e+02, 6.0000e+00,\n",
       "        1.0020e+03, 6.8400e+02],\n",
       "       [1.5200e+02, 1.3900e+02, 1.7800e+02, 1.6800e+02, 1.8000e+01,\n",
       "        9.4400e+02, 6.9500e+02],\n",
       "       [3.0700e+02, 1.1000e+02, 0.0000e+00, 1.8900e+02, 1.0000e+01,\n",
       "        9.0400e+02, 7.6500e+02],\n",
       "       [1.5040e+02, 1.1090e+02, 2.3970e+02, 1.6810e+02, 6.5000e+00,\n",
       "        1.0002e+03, 6.6720e+02],\n",
       "       [2.7300e+02, 8.2000e+01, 1.0500e+02, 2.1000e+02, 9.0000e+00,\n",
       "        9.0400e+02, 6.8000e+02],\n",
       "       [2.8000e+02, 9.2000e+01, 1.1800e+02, 2.0700e+02, 9.0000e+00,\n",
       "        8.8300e+02, 6.7900e+02],\n",
       "       [1.4500e+02, 1.0600e+02, 1.3600e+02, 2.0800e+02, 1.0000e+01,\n",
       "        7.5100e+02, 8.8300e+02],\n",
       "       [2.8800e+02, 0.0000e+00, 1.2100e+02, 1.7700e+02, 7.0000e+00,\n",
       "        9.0800e+02, 8.2900e+02],\n",
       "       [2.8700e+02, 9.4000e+01, 1.2100e+02, 1.8800e+02, 9.0000e+00,\n",
       "        9.0400e+02, 6.9600e+02],\n",
       "       [3.3200e+02, 0.0000e+00, 1.7000e+02, 1.6000e+02, 6.0000e+00,\n",
       "        9.0000e+02, 8.0600e+02],\n",
       "       [3.2200e+02, 1.1600e+02, 0.0000e+00, 1.9600e+02, 1.0000e+01,\n",
       "        8.1800e+02, 8.1300e+02],\n",
       "       [1.4110e+02, 6.0000e-01, 2.0950e+02, 1.8880e+02, 4.6000e+00,\n",
       "        9.9610e+02, 7.8920e+02],\n",
       "       [1.5900e+02, 0.0000e+00, 1.8700e+02, 1.7600e+02, 1.1000e+01,\n",
       "        9.9000e+02, 7.8900e+02],\n",
       "       [2.9100e+02, 1.0400e+02, 0.0000e+00, 2.3100e+02, 9.0000e+00,\n",
       "        8.5700e+02, 7.2500e+02],\n",
       "       [2.9600e+02, 9.7000e+01, 0.0000e+00, 2.1900e+02, 9.0000e+00,\n",
       "        9.3200e+02, 6.8500e+02],\n",
       "       [3.0500e+02, 1.0000e+02, 0.0000e+00, 1.9600e+02, 1.0000e+01,\n",
       "        9.5900e+02, 7.0500e+02],\n",
       "       [1.4020e+02, 4.4800e+01, 2.3490e+02, 1.7130e+02, 5.5000e+00,\n",
       "        1.0476e+03, 7.0400e+02],\n",
       "       [1.5900e+02, 0.0000e+00, 2.4800e+02, 1.7500e+02, 1.2000e+01,\n",
       "        1.0410e+03, 6.8300e+02],\n",
       "       [2.9500e+02, 1.0600e+02, 1.3600e+02, 2.0600e+02, 1.1000e+01,\n",
       "        7.5000e+02, 7.6600e+02],\n",
       "       [3.7400e+02, 0.0000e+00, 0.0000e+00, 1.9000e+02, 7.0000e+00,\n",
       "        1.0130e+03, 7.3000e+02],\n",
       "       [2.9900e+02, 1.0700e+02, 0.0000e+00, 2.1000e+02, 1.0000e+01,\n",
       "        8.8100e+02, 7.4500e+02],\n",
       "       [1.4700e+02, 8.9000e+01, 1.1500e+02, 2.0200e+02, 9.0000e+00,\n",
       "        8.6000e+02, 8.2900e+02],\n",
       "       [1.5600e+02, 0.0000e+00, 2.4300e+02, 1.8000e+02, 1.1000e+01,\n",
       "        1.0220e+03, 6.9800e+02],\n",
       "       [1.6020e+02, 3.0000e-01, 2.4000e+02, 2.3350e+02, 9.2000e+00,\n",
       "        7.8100e+02, 8.4110e+02],\n",
       "       [2.9500e+02, 1.0600e+02, 1.3600e+02, 2.0800e+02, 6.0000e+00,\n",
       "        8.7100e+02, 6.5000e+02],\n",
       "       [2.7400e+02, 8.9000e+01, 1.1500e+02, 2.0200e+02, 9.0000e+00,\n",
       "        7.5900e+02, 8.2700e+02],\n",
       "       [3.5400e+02, 0.0000e+00, 0.0000e+00, 2.3400e+02, 6.0000e+00,\n",
       "        9.5900e+02, 6.9100e+02],\n",
       "       [1.4010e+02, 4.2000e+00, 2.1590e+02, 1.9390e+02, 4.7000e+00,\n",
       "        1.0495e+03, 7.1010e+02],\n",
       "       [1.6000e+02, 0.0000e+00, 2.5000e+02, 1.6800e+02, 1.2000e+01,\n",
       "        1.0490e+03, 6.8800e+02],\n",
       "       [3.2200e+02, 0.0000e+00, 1.4900e+02, 1.8600e+02, 8.0000e+00,\n",
       "        9.5100e+02, 7.0900e+02],\n",
       "       [3.0800e+02, 1.1100e+02, 1.4200e+02, 2.1700e+02, 1.0000e+01,\n",
       "        7.8300e+02, 6.8600e+02],\n",
       "       [1.5200e+02, 0.0000e+00, 2.3700e+02, 2.0400e+02, 6.0000e+00,\n",
       "        7.8500e+02, 8.9200e+02]])"
      ]
     },
     "execution_count": 24,
     "metadata": {},
     "output_type": "execute_result"
    }
   ],
   "source": [
    "X_train.astype('float')"
   ]
  },
  {
   "cell_type": "code",
   "execution_count": 25,
   "id": "31e22fa0",
   "metadata": {},
   "outputs": [],
   "source": [
    "training_x1_data1 = training_x_data1['SP']"
   ]
  },
  {
   "cell_type": "code",
   "execution_count": 26,
   "id": "abac3901",
   "metadata": {},
   "outputs": [
    {
     "data": {
      "text/plain": [
       "array([ 6. ,  7. , 11. ,  7.4,  9. ,  6.2,  6. , 16. , 12. ,  7.1,  7. ,\n",
       "        8. ,  6. , 12. ,  6. ,  8.9, 11. ,  8.3,  5.7,  6. ,  6. , 10. ,\n",
       "        6. ,  6. ,  4.4, 11. ,  6. ,  6. ,  6.5,  7.7,  6. ,  6. , 10. ,\n",
       "        6.7,  8.3,  7.4, 12. ,  6. ,  5.3,  6. ,  7.6, 11. ,  6. ,  7.7,\n",
       "       13. ,  7.5,  7.4,  9. , 11. , 10. ,  6. , 18. , 10. ,  6.5,  9. ,\n",
       "        9. , 10. ,  7. ,  9. ,  6. , 10. ,  4.6, 11. ,  9. ,  9. , 10. ,\n",
       "        5.5, 12. , 11. ,  7. , 10. ,  9. , 11. ,  9.2,  6. ,  9. ,  6. ,\n",
       "        4.7, 12. ,  8. , 10. ,  6. ])"
      ]
     },
     "execution_count": 26,
     "metadata": {},
     "output_type": "execute_result"
    }
   ],
   "source": [
    "X1_train = training_x1_data1.to_numpy()\n",
    "X1_train"
   ]
  },
  {
   "cell_type": "code",
   "execution_count": 27,
   "id": "c3c7758c",
   "metadata": {},
   "outputs": [
    {
     "data": {
      "text/plain": [
       "array([26.42, 28.03, 33.51, 41.54, 32.71, 27.09, 27.89, 41.81, 19.19,\n",
       "       32.84, 52.65, 33.11, 31.9 , 18.26, 31.37, 38.46, 29.63, 44.08,\n",
       "       30.97, 46.36, 27.62, 49.3 , 41.27, 43.95, 30.83, 35.66, 41.14,\n",
       "       38.46, 38.19, 50.23, 30.97, 36.59, 36.19, 35.52, 44.48, 39.13,\n",
       "       33.38, 29.5 , 36.32, 37.39, 50.5 , 36.72, 31.77, 49.97, 40.34,\n",
       "       49.17, 41.81, 44.08, 18.52, 28.16, 28.29, 38.86, 31.5 , 37.92,\n",
       "       34.99, 37.39, 26.02, 39.93, 43.01, 58.53, 29.77, 30.43, 32.57,\n",
       "       30.43, 29.23, 29.77, 33.78, 35.39, 41.01, 32.44, 28.29, 25.21,\n",
       "       33.78, 36.19, 39.4 , 35.52, 33.91, 26.42, 37.66, 45.42, 42.08,\n",
       "       32.71])"
      ]
     },
     "execution_count": 27,
     "metadata": {},
     "output_type": "execute_result"
    }
   ],
   "source": [
    "y_train.astype('float')"
   ]
  },
  {
   "cell_type": "code",
   "execution_count": 28,
   "id": "9ce15e02",
   "metadata": {},
   "outputs": [
    {
     "name": "stdout",
     "output_type": "stream",
     "text": [
      "2.1702853951806804\n",
      "[27.98580292 46.3548761  41.87221062 29.19557629 34.83173941 38.97022616\n",
      " 48.32260875 38.81586875 25.47180172 52.21039291 28.46228132 36.66469306\n",
      " 41.40058847 38.7798156  33.59631343 42.46421422 32.34083639 16.94520267\n",
      " 37.61678241 45.5283688  32.74898785]\n",
      "[28.7  45.69 41.27 33.51 34.18 38.59 52.65 42.08 26.82 48.77 26.28 34.99\n",
      " 41.01 36.46 32.04 43.54 34.45 17.19 41.14 45.82 34.05]\n",
      "727990022826301.2\n",
      "[-8.29805243e+14 -5.21365620e+14 -8.19523761e+14 -7.69565188e+14\n",
      " -7.55071086e+14 -4.21496757e+14 -5.20688779e+14 -8.08007988e+14\n",
      " -6.70103929e+14 -4.56786728e+14 -3.82982822e+14 -3.38392685e+14\n",
      " -5.86055907e+14 -9.90380503e+14 -9.70889064e+14 -8.09880827e+14\n",
      " -9.13330377e+14 -1.05592343e+15 -8.10472971e+14 -5.14867653e+14\n",
      " -7.21454442e+14]\n",
      "[28.7  45.69 41.27 33.51 34.18 38.59 52.65 42.08 26.82 48.77 26.28 34.99\n",
      " 41.01 36.46 32.04 43.54 34.45 17.19 41.14 45.82 34.05]\n",
      "7.935544821975108\n",
      "[34.52390363 35.66232766 35.38286626 35.29223881 34.79419842 35.56398021\n",
      " 35.62842327 35.1547853  34.815304   36.46052299 35.27557163 35.43371372\n",
      " 35.66436303 34.24681594 34.35657236 35.0895437  35.42217999 33.17942771\n",
      " 35.13659879 35.66722358 34.64510054]\n",
      "[28.7  45.69 41.27 33.51 34.18 38.59 52.65 42.08 26.82 48.77 26.28 34.99\n",
      " 41.01 36.46 32.04 43.54 34.45 17.19 41.14 45.82 34.05]\n",
      "790449890077289.5\n",
      "[-7.36816384e+14 -8.53946010e+14 -8.71957265e+14 -6.97007591e+14\n",
      " -8.28456139e+14 -8.00244642e+14 -8.68008313e+14 -7.33610801e+14\n",
      " -6.81994554e+14 -8.64407937e+14 -6.36386403e+14 -6.55223147e+14\n",
      " -7.06706703e+14 -9.65554828e+14 -9.34010863e+14 -8.58114680e+14\n",
      " -7.20856020e+14 -7.65687738e+14 -7.38819470e+14 -8.54701786e+14\n",
      " -7.17673569e+14]\n",
      "[28.7  45.69 41.27 33.51 34.18 38.59 52.65 42.08 26.82 48.77 26.28 34.99\n",
      " 41.01 36.46 32.04 43.54 34.45 17.19 41.14 45.82 34.05]\n"
     ]
    }
   ],
   "source": [
    "from sklearn import metrics\n",
    "\n",
    "for reg in (lin_reg, SGD_reg, svm_reg, voting_reg):\n",
    "    reg.fit(X_train, y_train)\n",
    "    y_pred = reg.predict(X_test)\n",
    "    print(np.sqrt(metrics.mean_squared_error(y_test,y_pred)))\n",
    "    print(y_pred)\n",
    "    print(y_test)"
   ]
  },
  {
   "cell_type": "markdown",
   "id": "bf020dd4",
   "metadata": {},
   "source": [
    "**We list three base estimators here, (i) a linear SVM regressor, (ii) a linear regressor (using the LinearRegression class), and (iii) a Stochastic Gradient Descent regressor. We can predict that linear regressor is the best, because its RMSE is the least. While other are very large, i.e., 754227617625207.4 for SGD_reg, 7.935544821975108 for svm_reg,and 172106469739175.94 for voting_reg**"
   ]
  },
  {
   "cell_type": "code",
   "execution_count": null,
   "id": "2c0b35a2",
   "metadata": {},
   "outputs": [],
   "source": []
  },
  {
   "cell_type": "markdown",
   "id": "aa878a69",
   "metadata": {},
   "source": [
    "## Project 2"
   ]
  },
  {
   "cell_type": "markdown",
   "id": "2e91dbdf",
   "metadata": {},
   "source": [
    "**An Abalone dataset has 4177 instances with 8 attributes and a column that describes the age, represented in terms of the number of rings, of the abalones. For any new test instance, we want our regressor to be able to predict this value.**"
   ]
  },
  {
   "cell_type": "code",
   "execution_count": 29,
   "id": "dcc7ab71",
   "metadata": {},
   "outputs": [],
   "source": [
    "data_origin2 = pd.read_csv(\"abalone.data\")"
   ]
  },
  {
   "cell_type": "code",
   "execution_count": 30,
   "id": "129dd789",
   "metadata": {},
   "outputs": [
    {
     "data": {
      "text/html": [
       "<div>\n",
       "<style scoped>\n",
       "    .dataframe tbody tr th:only-of-type {\n",
       "        vertical-align: middle;\n",
       "    }\n",
       "\n",
       "    .dataframe tbody tr th {\n",
       "        vertical-align: top;\n",
       "    }\n",
       "\n",
       "    .dataframe thead th {\n",
       "        text-align: right;\n",
       "    }\n",
       "</style>\n",
       "<table border=\"1\" class=\"dataframe\">\n",
       "  <thead>\n",
       "    <tr style=\"text-align: right;\">\n",
       "      <th></th>\n",
       "      <th>M</th>\n",
       "      <th>0.455</th>\n",
       "      <th>0.365</th>\n",
       "      <th>0.095</th>\n",
       "      <th>0.514</th>\n",
       "      <th>0.2245</th>\n",
       "      <th>0.101</th>\n",
       "      <th>0.15</th>\n",
       "      <th>15</th>\n",
       "    </tr>\n",
       "  </thead>\n",
       "  <tbody>\n",
       "    <tr>\n",
       "      <th>0</th>\n",
       "      <td>M</td>\n",
       "      <td>0.350</td>\n",
       "      <td>0.265</td>\n",
       "      <td>0.090</td>\n",
       "      <td>0.2255</td>\n",
       "      <td>0.0995</td>\n",
       "      <td>0.0485</td>\n",
       "      <td>0.070</td>\n",
       "      <td>7</td>\n",
       "    </tr>\n",
       "    <tr>\n",
       "      <th>1</th>\n",
       "      <td>F</td>\n",
       "      <td>0.530</td>\n",
       "      <td>0.420</td>\n",
       "      <td>0.135</td>\n",
       "      <td>0.6770</td>\n",
       "      <td>0.2565</td>\n",
       "      <td>0.1415</td>\n",
       "      <td>0.210</td>\n",
       "      <td>9</td>\n",
       "    </tr>\n",
       "    <tr>\n",
       "      <th>2</th>\n",
       "      <td>M</td>\n",
       "      <td>0.440</td>\n",
       "      <td>0.365</td>\n",
       "      <td>0.125</td>\n",
       "      <td>0.5160</td>\n",
       "      <td>0.2155</td>\n",
       "      <td>0.1140</td>\n",
       "      <td>0.155</td>\n",
       "      <td>10</td>\n",
       "    </tr>\n",
       "    <tr>\n",
       "      <th>3</th>\n",
       "      <td>I</td>\n",
       "      <td>0.330</td>\n",
       "      <td>0.255</td>\n",
       "      <td>0.080</td>\n",
       "      <td>0.2050</td>\n",
       "      <td>0.0895</td>\n",
       "      <td>0.0395</td>\n",
       "      <td>0.055</td>\n",
       "      <td>7</td>\n",
       "    </tr>\n",
       "    <tr>\n",
       "      <th>4</th>\n",
       "      <td>I</td>\n",
       "      <td>0.425</td>\n",
       "      <td>0.300</td>\n",
       "      <td>0.095</td>\n",
       "      <td>0.3515</td>\n",
       "      <td>0.1410</td>\n",
       "      <td>0.0775</td>\n",
       "      <td>0.120</td>\n",
       "      <td>8</td>\n",
       "    </tr>\n",
       "  </tbody>\n",
       "</table>\n",
       "</div>"
      ],
      "text/plain": [
       "   M  0.455  0.365  0.095   0.514  0.2245   0.101   0.15  15\n",
       "0  M  0.350  0.265  0.090  0.2255  0.0995  0.0485  0.070   7\n",
       "1  F  0.530  0.420  0.135  0.6770  0.2565  0.1415  0.210   9\n",
       "2  M  0.440  0.365  0.125  0.5160  0.2155  0.1140  0.155  10\n",
       "3  I  0.330  0.255  0.080  0.2050  0.0895  0.0395  0.055   7\n",
       "4  I  0.425  0.300  0.095  0.3515  0.1410  0.0775  0.120   8"
      ]
     },
     "execution_count": 30,
     "metadata": {},
     "output_type": "execute_result"
    }
   ],
   "source": [
    "'''\n",
    "Attribute Information:\n",
    "\n",
    "Given is the attribute name, attribute type, the measurement unit and a brief description. The number of rings is the value to predict: either as a continuous value or as a classification problem.\n",
    "\n",
    "Name / Data Type / Measurement Unit / Description\n",
    "-----------------------------\n",
    "Sex / nominal / -- / M, F, and I (infant)\n",
    "Length / continuous / mm / Longest shell measurement\n",
    "Diameter / continuous / mm / perpendicular to length\n",
    "Height / continuous / mm / with meat in shell\n",
    "Whole weight / continuous / grams / whole abalone\n",
    "Shucked weight / continuous / grams / weight of meat\n",
    "Viscera weight / continuous / grams / gut weight (after bleeding)\n",
    "Shell weight / continuous / grams / after being dried\n",
    "Rings / integer / -- / +1.5 gives the age in years\n",
    "'''\n",
    "data_origin2.head()"
   ]
  },
  {
   "cell_type": "markdown",
   "id": "160838dc",
   "metadata": {},
   "source": [
    "**Drop the text column**"
   ]
  },
  {
   "cell_type": "markdown",
   "id": "84de0ce1",
   "metadata": {},
   "source": [
    "*Here I remove the first column of data text column in accordance with lab04's experimental requirements, and because the data to be predicted is the last column of age, that is, the number of rings, I also separate it out when dividing the training test set*"
   ]
  },
  {
   "cell_type": "code",
   "execution_count": 31,
   "id": "7a95e66c",
   "metadata": {},
   "outputs": [],
   "source": [
    "#data_origin2, data2_origin#remove M, data2#remove rings(15), data_rings# rings\n",
    "data2_origin = data_origin2.drop(\"M\", axis = 1)\n",
    "data2 = data2_origin.drop('15',axis = 1)\n",
    "data_rings = data_origin2['15']"
   ]
  },
  {
   "cell_type": "code",
   "execution_count": 32,
   "id": "55434dc9",
   "metadata": {},
   "outputs": [
    {
     "data": {
      "text/html": [
       "<div>\n",
       "<style scoped>\n",
       "    .dataframe tbody tr th:only-of-type {\n",
       "        vertical-align: middle;\n",
       "    }\n",
       "\n",
       "    .dataframe tbody tr th {\n",
       "        vertical-align: top;\n",
       "    }\n",
       "\n",
       "    .dataframe thead th {\n",
       "        text-align: right;\n",
       "    }\n",
       "</style>\n",
       "<table border=\"1\" class=\"dataframe\">\n",
       "  <thead>\n",
       "    <tr style=\"text-align: right;\">\n",
       "      <th></th>\n",
       "      <th>0.455</th>\n",
       "      <th>0.365</th>\n",
       "      <th>0.095</th>\n",
       "      <th>0.514</th>\n",
       "      <th>0.2245</th>\n",
       "      <th>0.101</th>\n",
       "      <th>0.15</th>\n",
       "    </tr>\n",
       "  </thead>\n",
       "  <tbody>\n",
       "    <tr>\n",
       "      <th>0</th>\n",
       "      <td>0.350</td>\n",
       "      <td>0.265</td>\n",
       "      <td>0.090</td>\n",
       "      <td>0.2255</td>\n",
       "      <td>0.0995</td>\n",
       "      <td>0.0485</td>\n",
       "      <td>0.070</td>\n",
       "    </tr>\n",
       "    <tr>\n",
       "      <th>1</th>\n",
       "      <td>0.530</td>\n",
       "      <td>0.420</td>\n",
       "      <td>0.135</td>\n",
       "      <td>0.6770</td>\n",
       "      <td>0.2565</td>\n",
       "      <td>0.1415</td>\n",
       "      <td>0.210</td>\n",
       "    </tr>\n",
       "    <tr>\n",
       "      <th>2</th>\n",
       "      <td>0.440</td>\n",
       "      <td>0.365</td>\n",
       "      <td>0.125</td>\n",
       "      <td>0.5160</td>\n",
       "      <td>0.2155</td>\n",
       "      <td>0.1140</td>\n",
       "      <td>0.155</td>\n",
       "    </tr>\n",
       "    <tr>\n",
       "      <th>3</th>\n",
       "      <td>0.330</td>\n",
       "      <td>0.255</td>\n",
       "      <td>0.080</td>\n",
       "      <td>0.2050</td>\n",
       "      <td>0.0895</td>\n",
       "      <td>0.0395</td>\n",
       "      <td>0.055</td>\n",
       "    </tr>\n",
       "    <tr>\n",
       "      <th>4</th>\n",
       "      <td>0.425</td>\n",
       "      <td>0.300</td>\n",
       "      <td>0.095</td>\n",
       "      <td>0.3515</td>\n",
       "      <td>0.1410</td>\n",
       "      <td>0.0775</td>\n",
       "      <td>0.120</td>\n",
       "    </tr>\n",
       "  </tbody>\n",
       "</table>\n",
       "</div>"
      ],
      "text/plain": [
       "   0.455  0.365  0.095   0.514  0.2245   0.101   0.15\n",
       "0  0.350  0.265  0.090  0.2255  0.0995  0.0485  0.070\n",
       "1  0.530  0.420  0.135  0.6770  0.2565  0.1415  0.210\n",
       "2  0.440  0.365  0.125  0.5160  0.2155  0.1140  0.155\n",
       "3  0.330  0.255  0.080  0.2050  0.0895  0.0395  0.055\n",
       "4  0.425  0.300  0.095  0.3515  0.1410  0.0775  0.120"
      ]
     },
     "execution_count": 32,
     "metadata": {},
     "output_type": "execute_result"
    }
   ],
   "source": [
    "data2.head()"
   ]
  },
  {
   "cell_type": "code",
   "execution_count": 33,
   "id": "28fd19a6",
   "metadata": {},
   "outputs": [
    {
     "name": "stdout",
     "output_type": "stream",
     "text": [
      "<class 'pandas.core.frame.DataFrame'>\n",
      "RangeIndex: 4176 entries, 0 to 4175\n",
      "Data columns (total 7 columns):\n",
      " #   Column  Non-Null Count  Dtype  \n",
      "---  ------  --------------  -----  \n",
      " 0   0.455   4176 non-null   float64\n",
      " 1   0.365   4176 non-null   float64\n",
      " 2   0.095   4176 non-null   float64\n",
      " 3   0.514   4176 non-null   float64\n",
      " 4   0.2245  4176 non-null   float64\n",
      " 5   0.101   4176 non-null   float64\n",
      " 6   0.15    4176 non-null   float64\n",
      "dtypes: float64(7)\n",
      "memory usage: 228.5 KB\n"
     ]
    }
   ],
   "source": [
    "data2.info()"
   ]
  },
  {
   "cell_type": "code",
   "execution_count": 34,
   "id": "6fcbc232",
   "metadata": {},
   "outputs": [
    {
     "data": {
      "text/html": [
       "<div>\n",
       "<style scoped>\n",
       "    .dataframe tbody tr th:only-of-type {\n",
       "        vertical-align: middle;\n",
       "    }\n",
       "\n",
       "    .dataframe tbody tr th {\n",
       "        vertical-align: top;\n",
       "    }\n",
       "\n",
       "    .dataframe thead th {\n",
       "        text-align: right;\n",
       "    }\n",
       "</style>\n",
       "<table border=\"1\" class=\"dataframe\">\n",
       "  <thead>\n",
       "    <tr style=\"text-align: right;\">\n",
       "      <th></th>\n",
       "      <th>0.455</th>\n",
       "      <th>0.365</th>\n",
       "      <th>0.095</th>\n",
       "      <th>0.514</th>\n",
       "      <th>0.2245</th>\n",
       "      <th>0.101</th>\n",
       "      <th>0.15</th>\n",
       "    </tr>\n",
       "  </thead>\n",
       "  <tbody>\n",
       "    <tr>\n",
       "      <th>count</th>\n",
       "      <td>4176.000000</td>\n",
       "      <td>4176.000000</td>\n",
       "      <td>4176.000000</td>\n",
       "      <td>4176.000000</td>\n",
       "      <td>4176.00000</td>\n",
       "      <td>4176.000000</td>\n",
       "      <td>4176.000000</td>\n",
       "    </tr>\n",
       "    <tr>\n",
       "      <th>mean</th>\n",
       "      <td>0.524009</td>\n",
       "      <td>0.407892</td>\n",
       "      <td>0.139527</td>\n",
       "      <td>0.828818</td>\n",
       "      <td>0.35940</td>\n",
       "      <td>0.180613</td>\n",
       "      <td>0.238852</td>\n",
       "    </tr>\n",
       "    <tr>\n",
       "      <th>std</th>\n",
       "      <td>0.120103</td>\n",
       "      <td>0.099250</td>\n",
       "      <td>0.041826</td>\n",
       "      <td>0.490424</td>\n",
       "      <td>0.22198</td>\n",
       "      <td>0.109620</td>\n",
       "      <td>0.139213</td>\n",
       "    </tr>\n",
       "    <tr>\n",
       "      <th>min</th>\n",
       "      <td>0.075000</td>\n",
       "      <td>0.055000</td>\n",
       "      <td>0.000000</td>\n",
       "      <td>0.002000</td>\n",
       "      <td>0.00100</td>\n",
       "      <td>0.000500</td>\n",
       "      <td>0.001500</td>\n",
       "    </tr>\n",
       "    <tr>\n",
       "      <th>25%</th>\n",
       "      <td>0.450000</td>\n",
       "      <td>0.350000</td>\n",
       "      <td>0.115000</td>\n",
       "      <td>0.441500</td>\n",
       "      <td>0.18600</td>\n",
       "      <td>0.093375</td>\n",
       "      <td>0.130000</td>\n",
       "    </tr>\n",
       "    <tr>\n",
       "      <th>50%</th>\n",
       "      <td>0.545000</td>\n",
       "      <td>0.425000</td>\n",
       "      <td>0.140000</td>\n",
       "      <td>0.799750</td>\n",
       "      <td>0.33600</td>\n",
       "      <td>0.171000</td>\n",
       "      <td>0.234000</td>\n",
       "    </tr>\n",
       "    <tr>\n",
       "      <th>75%</th>\n",
       "      <td>0.615000</td>\n",
       "      <td>0.480000</td>\n",
       "      <td>0.165000</td>\n",
       "      <td>1.153250</td>\n",
       "      <td>0.50200</td>\n",
       "      <td>0.253000</td>\n",
       "      <td>0.329000</td>\n",
       "    </tr>\n",
       "    <tr>\n",
       "      <th>max</th>\n",
       "      <td>0.815000</td>\n",
       "      <td>0.650000</td>\n",
       "      <td>1.130000</td>\n",
       "      <td>2.825500</td>\n",
       "      <td>1.48800</td>\n",
       "      <td>0.760000</td>\n",
       "      <td>1.005000</td>\n",
       "    </tr>\n",
       "  </tbody>\n",
       "</table>\n",
       "</div>"
      ],
      "text/plain": [
       "             0.455        0.365        0.095        0.514      0.2245  \\\n",
       "count  4176.000000  4176.000000  4176.000000  4176.000000  4176.00000   \n",
       "mean      0.524009     0.407892     0.139527     0.828818     0.35940   \n",
       "std       0.120103     0.099250     0.041826     0.490424     0.22198   \n",
       "min       0.075000     0.055000     0.000000     0.002000     0.00100   \n",
       "25%       0.450000     0.350000     0.115000     0.441500     0.18600   \n",
       "50%       0.545000     0.425000     0.140000     0.799750     0.33600   \n",
       "75%       0.615000     0.480000     0.165000     1.153250     0.50200   \n",
       "max       0.815000     0.650000     1.130000     2.825500     1.48800   \n",
       "\n",
       "             0.101         0.15  \n",
       "count  4176.000000  4176.000000  \n",
       "mean      0.180613     0.238852  \n",
       "std       0.109620     0.139213  \n",
       "min       0.000500     0.001500  \n",
       "25%       0.093375     0.130000  \n",
       "50%       0.171000     0.234000  \n",
       "75%       0.253000     0.329000  \n",
       "max       0.760000     1.005000  "
      ]
     },
     "execution_count": 34,
     "metadata": {},
     "output_type": "execute_result"
    }
   ],
   "source": [
    "data2.describe()"
   ]
  },
  {
   "cell_type": "markdown",
   "id": "83b722da",
   "metadata": {},
   "source": [
    "**Split training set and test set**"
   ]
  },
  {
   "cell_type": "code",
   "execution_count": 35,
   "id": "06a513c4",
   "metadata": {},
   "outputs": [],
   "source": [
    "from sklearn.model_selection import train_test_split\n",
    "\n",
    "#X_train, X_test = train_test_split(data2_origin, test_size=0.15, random_state=1212)\n",
    "X_train, X_test = train_test_split(data2, test_size=0.15, random_state=1212)\n",
    "\n",
    "y_train, y_test = train_test_split(data_rings, test_size=0.15, random_state=1212)\n"
   ]
  },
  {
   "cell_type": "code",
   "execution_count": 36,
   "id": "abdb4dc4",
   "metadata": {},
   "outputs": [
    {
     "data": {
      "text/html": [
       "<div>\n",
       "<style scoped>\n",
       "    .dataframe tbody tr th:only-of-type {\n",
       "        vertical-align: middle;\n",
       "    }\n",
       "\n",
       "    .dataframe tbody tr th {\n",
       "        vertical-align: top;\n",
       "    }\n",
       "\n",
       "    .dataframe thead th {\n",
       "        text-align: right;\n",
       "    }\n",
       "</style>\n",
       "<table border=\"1\" class=\"dataframe\">\n",
       "  <thead>\n",
       "    <tr style=\"text-align: right;\">\n",
       "      <th></th>\n",
       "      <th>0.455</th>\n",
       "      <th>0.365</th>\n",
       "      <th>0.095</th>\n",
       "      <th>0.514</th>\n",
       "      <th>0.2245</th>\n",
       "      <th>0.101</th>\n",
       "      <th>0.15</th>\n",
       "    </tr>\n",
       "  </thead>\n",
       "  <tbody>\n",
       "    <tr>\n",
       "      <th>171</th>\n",
       "      <td>0.525</td>\n",
       "      <td>0.435</td>\n",
       "      <td>0.155</td>\n",
       "      <td>1.0650</td>\n",
       "      <td>0.4860</td>\n",
       "      <td>0.2330</td>\n",
       "      <td>0.2850</td>\n",
       "    </tr>\n",
       "    <tr>\n",
       "      <th>2282</th>\n",
       "      <td>0.435</td>\n",
       "      <td>0.345</td>\n",
       "      <td>0.120</td>\n",
       "      <td>0.4475</td>\n",
       "      <td>0.2210</td>\n",
       "      <td>0.1120</td>\n",
       "      <td>0.1250</td>\n",
       "    </tr>\n",
       "    <tr>\n",
       "      <th>2679</th>\n",
       "      <td>0.615</td>\n",
       "      <td>0.475</td>\n",
       "      <td>0.175</td>\n",
       "      <td>1.1030</td>\n",
       "      <td>0.4635</td>\n",
       "      <td>0.3095</td>\n",
       "      <td>0.2725</td>\n",
       "    </tr>\n",
       "    <tr>\n",
       "      <th>4009</th>\n",
       "      <td>0.610</td>\n",
       "      <td>0.475</td>\n",
       "      <td>0.150</td>\n",
       "      <td>1.1420</td>\n",
       "      <td>0.6200</td>\n",
       "      <td>0.2370</td>\n",
       "      <td>0.2450</td>\n",
       "    </tr>\n",
       "    <tr>\n",
       "      <th>2214</th>\n",
       "      <td>0.455</td>\n",
       "      <td>0.350</td>\n",
       "      <td>0.140</td>\n",
       "      <td>0.5725</td>\n",
       "      <td>0.1965</td>\n",
       "      <td>0.1325</td>\n",
       "      <td>0.1750</td>\n",
       "    </tr>\n",
       "    <tr>\n",
       "      <th>...</th>\n",
       "      <td>...</td>\n",
       "      <td>...</td>\n",
       "      <td>...</td>\n",
       "      <td>...</td>\n",
       "      <td>...</td>\n",
       "      <td>...</td>\n",
       "      <td>...</td>\n",
       "    </tr>\n",
       "    <tr>\n",
       "      <th>3213</th>\n",
       "      <td>0.570</td>\n",
       "      <td>0.495</td>\n",
       "      <td>0.160</td>\n",
       "      <td>1.0915</td>\n",
       "      <td>0.4520</td>\n",
       "      <td>0.2750</td>\n",
       "      <td>0.3150</td>\n",
       "    </tr>\n",
       "    <tr>\n",
       "      <th>1125</th>\n",
       "      <td>0.560</td>\n",
       "      <td>0.430</td>\n",
       "      <td>0.145</td>\n",
       "      <td>0.8995</td>\n",
       "      <td>0.4640</td>\n",
       "      <td>0.1775</td>\n",
       "      <td>0.2340</td>\n",
       "    </tr>\n",
       "    <tr>\n",
       "      <th>2626</th>\n",
       "      <td>0.275</td>\n",
       "      <td>0.205</td>\n",
       "      <td>0.070</td>\n",
       "      <td>0.1055</td>\n",
       "      <td>0.4950</td>\n",
       "      <td>0.0190</td>\n",
       "      <td>0.0315</td>\n",
       "    </tr>\n",
       "    <tr>\n",
       "      <th>1690</th>\n",
       "      <td>0.625</td>\n",
       "      <td>0.470</td>\n",
       "      <td>0.155</td>\n",
       "      <td>1.1955</td>\n",
       "      <td>0.6430</td>\n",
       "      <td>0.2055</td>\n",
       "      <td>0.3145</td>\n",
       "    </tr>\n",
       "    <tr>\n",
       "      <th>1160</th>\n",
       "      <td>0.610</td>\n",
       "      <td>0.485</td>\n",
       "      <td>0.160</td>\n",
       "      <td>1.0145</td>\n",
       "      <td>0.5315</td>\n",
       "      <td>0.2120</td>\n",
       "      <td>0.2415</td>\n",
       "    </tr>\n",
       "  </tbody>\n",
       "</table>\n",
       "<p>3549 rows × 7 columns</p>\n",
       "</div>"
      ],
      "text/plain": [
       "      0.455  0.365  0.095   0.514  0.2245   0.101    0.15\n",
       "171   0.525  0.435  0.155  1.0650  0.4860  0.2330  0.2850\n",
       "2282  0.435  0.345  0.120  0.4475  0.2210  0.1120  0.1250\n",
       "2679  0.615  0.475  0.175  1.1030  0.4635  0.3095  0.2725\n",
       "4009  0.610  0.475  0.150  1.1420  0.6200  0.2370  0.2450\n",
       "2214  0.455  0.350  0.140  0.5725  0.1965  0.1325  0.1750\n",
       "...     ...    ...    ...     ...     ...     ...     ...\n",
       "3213  0.570  0.495  0.160  1.0915  0.4520  0.2750  0.3150\n",
       "1125  0.560  0.430  0.145  0.8995  0.4640  0.1775  0.2340\n",
       "2626  0.275  0.205  0.070  0.1055  0.4950  0.0190  0.0315\n",
       "1690  0.625  0.470  0.155  1.1955  0.6430  0.2055  0.3145\n",
       "1160  0.610  0.485  0.160  1.0145  0.5315  0.2120  0.2415\n",
       "\n",
       "[3549 rows x 7 columns]"
      ]
     },
     "execution_count": 36,
     "metadata": {},
     "output_type": "execute_result"
    }
   ],
   "source": [
    "X_train"
   ]
  },
  {
   "cell_type": "code",
   "execution_count": 37,
   "id": "6964e818",
   "metadata": {},
   "outputs": [
    {
     "data": {
      "text/plain": [
       "171      8\n",
       "2282     7\n",
       "2679    10\n",
       "4009     9\n",
       "2214    10\n",
       "        ..\n",
       "3213    14\n",
       "1125     9\n",
       "2626     5\n",
       "1690    12\n",
       "1160     8\n",
       "Name: 15, Length: 3549, dtype: int64"
      ]
     },
     "execution_count": 37,
     "metadata": {},
     "output_type": "execute_result"
    }
   ],
   "source": [
    "y_train"
   ]
  },
  {
   "cell_type": "markdown",
   "id": "fa109114",
   "metadata": {},
   "source": [
    "**Random Forest**"
   ]
  },
  {
   "cell_type": "code",
   "execution_count": 38,
   "id": "66b33890",
   "metadata": {},
   "outputs": [],
   "source": [
    "from sklearn.ensemble import RandomForestRegressor\n",
    "\n",
    "rnd_reg_origin = RandomForestRegressor(n_estimators=500,min_samples_split=2,min_samples_leaf=1,max_features='auto',  bootstrap=True,max_samples=100,random_state=1212)"
   ]
  },
  {
   "cell_type": "code",
   "execution_count": 39,
   "id": "96d89406",
   "metadata": {},
   "outputs": [
    {
     "name": "stdout",
     "output_type": "stream",
     "text": [
      "2.266178763513101\n"
     ]
    }
   ],
   "source": [
    "rnd_reg_origin.fit(X_train, y_train)\n",
    "y_pred = rnd_reg_origin.predict(X_test)\n",
    "y_pred = y_pred.astype('int')\n",
    "print(np.sqrt(metrics.mean_squared_error(y_test,y_pred)))\n",
    "#print(y_pred)\n",
    "#print(y_test)"
   ]
  },
  {
   "cell_type": "code",
   "execution_count": 43,
   "id": "2a7be8d7",
   "metadata": {},
   "outputs": [],
   "source": [
    "y_pred_rf = rnd_reg_origin.predict(X_test)"
   ]
  },
  {
   "cell_type": "code",
   "execution_count": 44,
   "id": "903a4f26",
   "metadata": {},
   "outputs": [
    {
     "data": {
      "text/plain": [
       "array([12.138, 10.79 ,  7.81 ,  6.632, 12.192, 11.476, 10.454,  7.038,\n",
       "       11.38 ,  7.568, 10.542,  9.594,  9.28 ,  4.952,  8.966, 12.176,\n",
       "       11.302, 10.472, 12.06 , 13.32 ,  7.244, 10.542,  8.276, 10.038,\n",
       "       11.35 , 11.824,  6.976,  6.11 , 13.202,  9.892,  9.138, 11.066,\n",
       "       12.834,  9.81 , 10.182, 10.79 ,  7.148,  9.382, 10.358,  9.79 ,\n",
       "       10.916, 10.7  , 12.468, 10.562, 11.29 , 11.394,  9.372,  8.982,\n",
       "        9.896,  8.55 , 11.574, 13.29 , 12.618,  7.452,  9.464, 10.002,\n",
       "        9.244, 11.3  , 13.792, 10.284,  8.822, 10.264,  7.518, 10.106,\n",
       "        9.724, 12.382, 11.006,  9.696,  7.158, 14.306,  7.456,  5.26 ,\n",
       "       11.576, 12.076, 10.998,  9.334, 10.644,  7.13 ,  5.022,  4.524,\n",
       "       11.008,  9.616,  9.508, 11.382,  9.85 ,  9.818, 11.008,  9.294,\n",
       "       11.752, 11.986,  6.85 , 11.028,  9.046,  7.712,  9.872,  9.798,\n",
       "        9.552,  9.358, 13.344, 11.486,  8.666, 11.342,  8.8  ,  8.86 ,\n",
       "        6.362,  8.632, 11.23 , 10.322, 12.708, 10.308, 12.236, 10.888,\n",
       "       10.204,  9.784, 11.112,  7.976, 13.052,  9.774,  9.17 , 10.64 ,\n",
       "       11.744,  9.808,  6.932, 12.238,  6.526, 12.546, 13.084,  9.886,\n",
       "       11.836, 10.474,  9.592,  9.146,  6.21 ,  9.542,  9.534,  7.644,\n",
       "       10.2  , 13.424,  9.76 , 11.896,  7.604,  7.878, 10.048,  7.35 ,\n",
       "       10.736,  4.61 , 10.3  , 13.696,  9.142, 12.366, 11.45 ,  8.588,\n",
       "        9.854,  4.532,  7.992,  7.962, 10.26 ,  9.542, 11.442,  6.676,\n",
       "        9.434, 10.698,  7.362, 13.478, 10.526, 13.256, 10.224, 11.558,\n",
       "       10.714,  7.17 ,  8.316, 11.784, 11.636, 10.692,  7.48 ,  9.284,\n",
       "        9.302, 13.782, 10.09 ,  8.096, 10.764,  8.3  , 11.096, 14.36 ,\n",
       "        5.222, 11.9  ,  7.576,  8.532,  7.78 , 11.742, 10.788, 10.306,\n",
       "       12.892,  9.914,  7.692,  7.104, 15.91 ,  9.976,  7.648, 11.496,\n",
       "       13.126, 11.442, 10.772, 11.404,  8.378,  7.524, 11.432, 11.22 ,\n",
       "        8.08 ,  6.032, 10.452, 11.8  , 11.044,  7.478,  8.132,  9.284,\n",
       "        8.426,  8.19 , 10.22 , 11.728, 11.282, 10.616, 12.008, 10.524,\n",
       "        9.826, 10.646,  8.838,  7.062,  8.866, 12.228,  9.384, 10.42 ,\n",
       "       10.454, 10.304,  9.3  , 10.468,  7.3  ,  9.408, 12.57 ,  8.758,\n",
       "        7.27 , 10.42 , 13.39 , 10.588, 10.544,  5.776,  5.028,  9.514,\n",
       "        9.52 , 10.56 , 10.49 ,  7.228,  9.346,  8.254,  9.366,  9.508,\n",
       "       15.064, 10.512,  8.574,  7.394,  9.688, 10.344,  9.156, 11.168,\n",
       "       11.978,  6.542,  8.926,  6.558, 11.808, 11.842, 12.638,  7.862,\n",
       "       14.988,  9.36 , 10.09 , 12.408, 13.758, 11.604, 10.774, 10.664,\n",
       "        8.304,  8.378,  8.816, 11.682,  4.996,  9.244, 11.828, 10.904,\n",
       "       14.594,  4.566,  7.58 ,  7.944, 12.126, 10.65 ,  5.984,  7.622,\n",
       "        8.096,  9.612, 11.998,  9.486, 10.09 , 12.296, 11.568,  8.882,\n",
       "       10.598,  6.938,  9.806, 13.37 ,  8.61 , 11.882, 10.246, 13.708,\n",
       "        8.296,  9.686, 13.366, 10.736, 10.314,  8.838, 13.108,  9.446,\n",
       "       10.268, 11.03 , 10.952,  9.062, 14.348,  7.06 , 10.592, 11.356,\n",
       "        5.716,  7.338, 13.71 ,  8.682, 11.87 ,  9.142, 10.416,  7.844,\n",
       "        4.412, 10.328, 12.714, 11.894,  9.624, 13.916,  4.458,  9.228,\n",
       "       13.254,  9.66 ,  8.458,  9.956, 10.34 ,  6.572,  8.68 ,  9.354,\n",
       "        9.618,  9.646,  8.312,  8.426,  7.706, 14.03 ,  9.228,  4.84 ,\n",
       "       12.104,  9.42 , 11.706,  5.134, 11.066, 13.068, 12.468,  7.59 ,\n",
       "       12.45 ,  6.654, 11.128, 13.24 , 10.47 ,  8.106, 12.084,  5.92 ,\n",
       "        8.102, 10.596,  9.726, 12.648,  6.29 ,  7.084,  8.326, 10.338,\n",
       "       12.844, 11.608,  9.926, 10.074, 12.542,  9.314,  8.332,  9.704,\n",
       "        8.532, 13.74 , 11.348,  9.83 , 12.158,  8.106, 13.022, 10.822,\n",
       "        9.13 ,  9.59 , 11.352,  7.814, 10.374,  8.766, 10.632,  7.548,\n",
       "        7.73 ,  8.876,  9.982, 12.51 , 11.078,  7.476,  9.462,  8.946,\n",
       "        9.476, 11.434, 10.982, 11.6  ,  7.722, 15.992,  7.316,  7.198,\n",
       "       12.178, 12.676,  6.686,  9.748,  7.622, 11.276,  5.864,  8.116,\n",
       "        7.016,  4.814,  7.98 , 12.548,  9.47 , 14.822,  6.834,  6.88 ,\n",
       "        8.164,  9.694,  7.246,  8.824, 11.466,  9.236, 11.976, 10.918,\n",
       "        7.482,  9.992,  4.354,  8.264, 10.742, 11.124, 10.45 , 10.884,\n",
       "       11.354,  9.96 ,  6.816, 10.262,  9.208,  7.794, 10.51 ,  7.32 ,\n",
       "       12.17 , 11.432, 10.44 , 12.156,  8.406,  7.946, 11.14 , 10.918,\n",
       "       11.346, 12.772, 11.492, 13.164,  6.388, 15.032, 11.96 ,  8.772,\n",
       "        7.358,  4.51 ,  9.724,  8.24 ,  8.822,  9.278,  6.996,  7.632,\n",
       "        8.346, 12.708, 10.686, 11.154, 10.13 , 12.176, 10.346,  9.772,\n",
       "       11.148,  7.254,  4.824,  8.338, 13.808, 12.328, 11.53 ,  7.39 ,\n",
       "       11.534,  9.874, 12.05 ,  7.522,  8.128,  8.396,  9.946, 10.432,\n",
       "        7.432, 13.606,  7.408,  8.29 , 14.492, 11.736, 10.938,  9.236,\n",
       "        9.184, 10.878,  8.434,  5.778, 10.746,  7.782, 10.22 , 12.05 ,\n",
       "        9.91 ,  7.338,  8.02 ,  4.596,  7.498,  9.042, 11.36 , 11.604,\n",
       "        6.77 , 11.538, 10.478,  7.176, 10.4  , 11.226,  8.18 , 11.202,\n",
       "       12.418, 11.418, 10.522,  8.24 ,  9.118, 10.314, 10.266, 12.698,\n",
       "       11.416, 11.328,  8.756,  9.092,  4.318,  7.464,  4.796,  7.28 ,\n",
       "       10.346, 12.578, 10.33 , 10.302,  7.334,  7.734,  8.074, 10.44 ,\n",
       "       10.412,  9.734,  9.694,  8.394,  8.266, 11.868, 14.444, 10.92 ,\n",
       "       12.616,  9.438, 11.422, 10.15 ,  9.36 , 10.994,  9.26 , 11.288,\n",
       "       11.508,  6.282, 11.254, 10.768,  9.594,  5.276,  6.68 , 10.728,\n",
       "       10.544,  9.614, 13.862, 12.916, 12.46 ,  9.306,  9.168,  8.262,\n",
       "        9.554,  9.81 , 11.014, 11.344,  7.4  ,  8.8  ,  5.368, 11.512,\n",
       "        8.964, 11.138, 11.384,  6.306,  9.782,  9.854, 12.144,  8.114,\n",
       "        7.998, 13.532,  4.642, 11.056,  9.732, 11.49 , 11.068, 12.846,\n",
       "       11.25 , 11.822, 12.22 ])"
      ]
     },
     "execution_count": 44,
     "metadata": {},
     "output_type": "execute_result"
    }
   ],
   "source": [
    "y_pred_rf"
   ]
  },
  {
   "cell_type": "markdown",
   "id": "39c4cf73",
   "metadata": {},
   "source": [
    "**Use the feature importances obtained from the training process to trim the feature dimension of the data.**"
   ]
  },
  {
   "cell_type": "code",
   "execution_count": 46,
   "id": "50ae3597",
   "metadata": {},
   "outputs": [
    {
     "data": {
      "text/plain": [
       "array([0.06854694, 0.07887933, 0.14048135, 0.07702806, 0.1311699 ,\n",
       "       0.11847777, 0.38541665])"
      ]
     },
     "execution_count": 46,
     "metadata": {},
     "output_type": "execute_result"
    }
   ],
   "source": [
    "rnd_reg_origin.feature_importances_"
   ]
  },
  {
   "cell_type": "markdown",
   "id": "013f36af",
   "metadata": {},
   "source": [
    "*Through the above output, we can clearly see that the percentage of many special claims in feature importances are less than 5%, leaving only 0.15 for the last 0.7905525 and 0.2245 for the penultimate third 0.14320221*"
   ]
  },
  {
   "cell_type": "code",
   "execution_count": 47,
   "id": "4490ee8a",
   "metadata": {},
   "outputs": [
    {
     "name": "stderr",
     "output_type": "stream",
     "text": [
      "/var/folders/_z/d5rjv38n0ds0tp8bhdpvq35h0000gn/T/ipykernel_57023/4240323757.py:4: SettingWithCopyWarning: \n",
      "A value is trying to be set on a copy of a slice from a DataFrame.\n",
      "Try using .loc[row_indexer,col_indexer] = value instead\n",
      "\n",
      "See the caveats in the documentation: https://pandas.pydata.org/pandas-docs/stable/user_guide/indexing.html#returning-a-view-versus-a-copy\n",
      "  data2_new.loc[:,'None1'] = 0\n",
      "/var/folders/_z/d5rjv38n0ds0tp8bhdpvq35h0000gn/T/ipykernel_57023/4240323757.py:5: SettingWithCopyWarning: \n",
      "A value is trying to be set on a copy of a slice from a DataFrame.\n",
      "Try using .loc[row_indexer,col_indexer] = value instead\n",
      "\n",
      "See the caveats in the documentation: https://pandas.pydata.org/pandas-docs/stable/user_guide/indexing.html#returning-a-view-versus-a-copy\n",
      "  data2_new.loc[:,'None2'] = 0\n",
      "/var/folders/_z/d5rjv38n0ds0tp8bhdpvq35h0000gn/T/ipykernel_57023/4240323757.py:6: SettingWithCopyWarning: \n",
      "A value is trying to be set on a copy of a slice from a DataFrame.\n",
      "Try using .loc[row_indexer,col_indexer] = value instead\n",
      "\n",
      "See the caveats in the documentation: https://pandas.pydata.org/pandas-docs/stable/user_guide/indexing.html#returning-a-view-versus-a-copy\n",
      "  data2_new.loc[:,'None3'] = 0\n",
      "/var/folders/_z/d5rjv38n0ds0tp8bhdpvq35h0000gn/T/ipykernel_57023/4240323757.py:7: SettingWithCopyWarning: \n",
      "A value is trying to be set on a copy of a slice from a DataFrame.\n",
      "Try using .loc[row_indexer,col_indexer] = value instead\n",
      "\n",
      "See the caveats in the documentation: https://pandas.pydata.org/pandas-docs/stable/user_guide/indexing.html#returning-a-view-versus-a-copy\n",
      "  data2_new.loc[:,'None4'] = 0\n",
      "/var/folders/_z/d5rjv38n0ds0tp8bhdpvq35h0000gn/T/ipykernel_57023/4240323757.py:8: SettingWithCopyWarning: \n",
      "A value is trying to be set on a copy of a slice from a DataFrame.\n",
      "Try using .loc[row_indexer,col_indexer] = value instead\n",
      "\n",
      "See the caveats in the documentation: https://pandas.pydata.org/pandas-docs/stable/user_guide/indexing.html#returning-a-view-versus-a-copy\n",
      "  data2_new.loc[:,'None5'] = 0\n"
     ]
    }
   ],
   "source": [
    "#Shell weight 0.15， Shucked weight0.2245\n",
    "data2_features = ['0.15','0.2245']\n",
    "data2_new = data_origin2[data2_features]\n",
    "data2_new.loc[:,'None1'] = 0\n",
    "data2_new.loc[:,'None2'] = 0\n",
    "data2_new.loc[:,'None3'] = 0\n",
    "data2_new.loc[:,'None4'] = 0\n",
    "data2_new.loc[:,'None5'] = 0"
   ]
  },
  {
   "cell_type": "code",
   "execution_count": 48,
   "id": "d1c33b8f",
   "metadata": {},
   "outputs": [
    {
     "data": {
      "text/html": [
       "<div>\n",
       "<style scoped>\n",
       "    .dataframe tbody tr th:only-of-type {\n",
       "        vertical-align: middle;\n",
       "    }\n",
       "\n",
       "    .dataframe tbody tr th {\n",
       "        vertical-align: top;\n",
       "    }\n",
       "\n",
       "    .dataframe thead th {\n",
       "        text-align: right;\n",
       "    }\n",
       "</style>\n",
       "<table border=\"1\" class=\"dataframe\">\n",
       "  <thead>\n",
       "    <tr style=\"text-align: right;\">\n",
       "      <th></th>\n",
       "      <th>0.15</th>\n",
       "      <th>0.2245</th>\n",
       "      <th>None1</th>\n",
       "      <th>None2</th>\n",
       "      <th>None3</th>\n",
       "      <th>None4</th>\n",
       "      <th>None5</th>\n",
       "    </tr>\n",
       "  </thead>\n",
       "  <tbody>\n",
       "    <tr>\n",
       "      <th>0</th>\n",
       "      <td>0.070</td>\n",
       "      <td>0.0995</td>\n",
       "      <td>0</td>\n",
       "      <td>0</td>\n",
       "      <td>0</td>\n",
       "      <td>0</td>\n",
       "      <td>0</td>\n",
       "    </tr>\n",
       "    <tr>\n",
       "      <th>1</th>\n",
       "      <td>0.210</td>\n",
       "      <td>0.2565</td>\n",
       "      <td>0</td>\n",
       "      <td>0</td>\n",
       "      <td>0</td>\n",
       "      <td>0</td>\n",
       "      <td>0</td>\n",
       "    </tr>\n",
       "    <tr>\n",
       "      <th>2</th>\n",
       "      <td>0.155</td>\n",
       "      <td>0.2155</td>\n",
       "      <td>0</td>\n",
       "      <td>0</td>\n",
       "      <td>0</td>\n",
       "      <td>0</td>\n",
       "      <td>0</td>\n",
       "    </tr>\n",
       "    <tr>\n",
       "      <th>3</th>\n",
       "      <td>0.055</td>\n",
       "      <td>0.0895</td>\n",
       "      <td>0</td>\n",
       "      <td>0</td>\n",
       "      <td>0</td>\n",
       "      <td>0</td>\n",
       "      <td>0</td>\n",
       "    </tr>\n",
       "    <tr>\n",
       "      <th>4</th>\n",
       "      <td>0.120</td>\n",
       "      <td>0.1410</td>\n",
       "      <td>0</td>\n",
       "      <td>0</td>\n",
       "      <td>0</td>\n",
       "      <td>0</td>\n",
       "      <td>0</td>\n",
       "    </tr>\n",
       "  </tbody>\n",
       "</table>\n",
       "</div>"
      ],
      "text/plain": [
       "    0.15  0.2245  None1  None2  None3  None4  None5\n",
       "0  0.070  0.0995      0      0      0      0      0\n",
       "1  0.210  0.2565      0      0      0      0      0\n",
       "2  0.155  0.2155      0      0      0      0      0\n",
       "3  0.055  0.0895      0      0      0      0      0\n",
       "4  0.120  0.1410      0      0      0      0      0"
      ]
     },
     "execution_count": 48,
     "metadata": {},
     "output_type": "execute_result"
    }
   ],
   "source": [
    "data2_new.head()"
   ]
  },
  {
   "cell_type": "code",
   "execution_count": 49,
   "id": "3479f2a4",
   "metadata": {},
   "outputs": [],
   "source": [
    "X_new_train, X_new_test = train_test_split(data2_new, test_size=0.15, random_state=1212)"
   ]
  },
  {
   "cell_type": "code",
   "execution_count": 50,
   "id": "0a294392",
   "metadata": {},
   "outputs": [],
   "source": [
    "from sklearn.ensemble import RandomForestRegressor\n",
    "\n",
    "rnd_reg_new = RandomForestRegressor(n_estimators=500,min_samples_split=2,min_samples_leaf=1,max_features='auto',  bootstrap=True,max_samples=100,random_state=1212)"
   ]
  },
  {
   "cell_type": "code",
   "execution_count": 51,
   "id": "299f16a9",
   "metadata": {},
   "outputs": [
    {
     "name": "stdout",
     "output_type": "stream",
     "text": [
      "2.266178763513101\n"
     ]
    }
   ],
   "source": [
    "from sklearn import *\n",
    "rnd_reg_new.fit(X_new_train, y_train)\n",
    "y_pred_new = rnd_reg_new.predict(X_new_test)\n",
    "y_pred_new = y_pred.astype('int')\n",
    "print(np.sqrt(metrics.mean_squared_error(y_test,y_pred_new)))\n",
    "#print(y_pred)\n",
    "#print(y_test)"
   ]
  },
  {
   "cell_type": "markdown",
   "id": "949ffe44",
   "metadata": {},
   "source": [
    "**In above result, we expect to see a slight increase of RMSE for the reduced-dimensional data, but for reality there is no change is 2.266178763513101**"
   ]
  },
  {
   "cell_type": "code",
   "execution_count": 52,
   "id": "bdfce5a5",
   "metadata": {},
   "outputs": [
    {
     "data": {
      "image/png": "[encoded data removed]",
      "text/plain": [
       "<Figure size 432x288 with 1 Axes>"
      ]
     },
     "metadata": {
      "needs_background": "light"
     },
     "output_type": "display_data"
    }
   ],
   "source": [
    "import matplotlib.pyplot as plt\n",
    "import numpy as np\n",
    "\n",
    "plt.scatter(y_test, y_pred_new, color = 'hotpink')\n",
    "\n",
    "plt.scatter(y_test, y_pred, color = '#88c999')\n",
    "\n",
    "plt.show()"
   ]
  },
  {
   "cell_type": "code",
   "execution_count": 53,
   "id": "3ce8e510",
   "metadata": {},
   "outputs": [
    {
     "data": {
      "text/plain": [
       "<matplotlib.collections.PathCollection at 0x7ff5c382efa0>"
      ]
     },
     "execution_count": 53,
     "metadata": {},
     "output_type": "execute_result"
    },
    {
     "data": {
      "image/png": "[encoded data removed]",
      "text/plain": [
       "<Figure size 432x288 with 1 Axes>"
      ]
     },
     "metadata": {
      "needs_background": "light"
     },
     "output_type": "display_data"
    }
   ],
   "source": [
    "plt.scatter(y_pred, y_pred_new, color = 'cyan')"
   ]
  },
  {
   "cell_type": "code",
   "execution_count": 54,
   "id": "fb755120",
   "metadata": {},
   "outputs": [
    {
     "data": {
      "text/plain": [
       "<matplotlib.collections.PathCollection at 0x7ff5c38b7ac0>"
      ]
     },
     "execution_count": 54,
     "metadata": {},
     "output_type": "execute_result"
    },
    {
     "data": {
      "image/png": "[encoded data removed]",
      "text/plain": [
       "<Figure size 432x288 with 1 Axes>"
      ]
     },
     "metadata": {
      "needs_background": "light"
     },
     "output_type": "display_data"
    }
   ],
   "source": [
    "plt.scatter(y_pred_new, y_pred, color = 'beige')"
   ]
  },
  {
   "cell_type": "markdown",
   "id": "50c7932e",
   "metadata": {},
   "source": [
    "### Bagging"
   ]
  },
  {
   "cell_type": "code",
   "execution_count": 55,
   "id": "9b9e5e90",
   "metadata": {},
   "outputs": [],
   "source": [
    "from sklearn.ensemble import BaggingRegressor\n",
    "from sklearn.svm import SVR\n",
    "bag_reg = BaggingRegressor(\n",
    "    SVR(), n_estimators=500,\n",
    "    max_samples=100, bootstrap=True, random_state=1212)\n",
    "bag_reg.fit(X_train, y_train)\n",
    "y_pred = bag_reg.predict(X_test)"
   ]
  },
  {
   "cell_type": "code",
   "execution_count": 56,
   "id": "de779ea4",
   "metadata": {},
   "outputs": [
    {
     "data": {
      "text/plain": [
       "array([10.8801667 ,  9.80173839,  7.41524226,  6.82885206, 10.94571221,\n",
       "        8.77477835, 10.29090633,  6.90311605, 10.321793  ,  7.14006801,\n",
       "        8.59041205,  9.64473436,  8.35084514,  6.3482438 ,  8.85466669,\n",
       "       10.56787391,  9.85742911, 10.34248592, 11.00031123, 10.49119867,\n",
       "        7.22570292,  9.96442448,  7.49384986,  9.99566314,  9.4915996 ,\n",
       "        9.05282609,  6.71729604,  6.49697611, 10.77836017, 10.13274978,\n",
       "        9.19841096, 10.75788382,  9.44482238,  8.44375196, 10.46475522,\n",
       "        9.59832686,  7.32542584,  8.8026782 ,  9.33978754,  9.85815263,\n",
       "        8.8624692 , 10.42761679, 10.92140099, 10.04572936, 10.41236704,\n",
       "       10.75802312,  9.50912698,  8.2236175 ,  9.77097387,  7.77847915,\n",
       "        9.95721179, 11.06904419, 11.15289093,  7.53997955,  8.18313454,\n",
       "        9.04198809,  9.55289338, 10.66899624, 11.26101024, 10.49463875,\n",
       "        8.37713787,  9.3130703 ,  7.33655421, 10.21359211,  9.33005105,\n",
       "       10.15280671, 10.73465804, 10.36024576,  7.10266851, 11.29827679,\n",
       "        7.08727114,  6.39857535, 10.78397771,  9.87947146,  9.97905864,\n",
       "        8.54394951, 10.44980253,  7.38165584,  6.36363371,  6.30916735,\n",
       "       10.71794789,  9.4725013 ,  8.99835212, 10.36418277,  9.53661399,\n",
       "        9.29126727, 10.53582217,  8.87658431,  9.69425432, 10.60291905,\n",
       "        6.86637758, 10.69394269,  9.23089352,  7.34942748,  9.7523163 ,\n",
       "       10.0756623 , 10.02180503,  9.1481204 , 11.24542055, 10.64397996,\n",
       "        8.73532903, 10.7251218 ,  7.82615169,  9.62710143,  6.57516553,\n",
       "        9.24868565, 10.55277388, 10.46778813, 10.88958901, 10.41736764,\n",
       "       10.68250274, 10.53234971, 10.05825892,  8.87021072, 10.69122589,\n",
       "        8.11142888, 10.43154816,  9.74722802,  8.05536335, 10.39395836,\n",
       "       10.72929636,  9.05222698,  6.96839214, 11.00545037,  6.62173407,\n",
       "        9.954851  ,  9.87806032,  9.45563703, 10.82516077, 10.6516122 ,\n",
       "        9.67336971,  8.86848684,  6.56302227,  9.67598699, 10.06967553,\n",
       "        7.50649047,  9.94017928, 10.9787477 , 10.0503061 , 11.06340131,\n",
       "        7.86149849,  7.53905866,  8.15092808,  7.21201981, 10.65027209,\n",
       "        6.32201471, 10.2066781 , 10.710162  ,  8.82192268, 11.12296295,\n",
       "       10.85355589,  8.52828808, 10.07350104,  6.30814492,  8.55092613,\n",
       "        7.97833154, 10.13915769,  9.88511348,  9.31592318,  6.66025172,\n",
       "        9.0028141 , 10.38748612,  7.16117773, 11.17057003,  9.92792906,\n",
       "        9.85207102, 10.16680949, 10.68588667,  9.11703182,  6.86639905,\n",
       "        7.62864719, 10.27954167, 10.40629908, 10.59550169,  7.70987475,\n",
       "        7.96348766,  9.73007042, 10.34375425,  9.29036295,  7.50923474,\n",
       "       10.63106499,  7.13520877, 10.73719667, 11.20656997,  6.39949886,\n",
       "       10.85634598,  7.72585359,  9.04114786,  7.30854274, 10.27660574,\n",
       "       10.50612975, 10.41977687, 10.13721643,  9.65854582,  7.71894854,\n",
       "        7.1757398 , 11.43651374,  9.88583314,  7.39890546, 10.5838355 ,\n",
       "       11.08738215, 10.14258549, 10.11581496, 10.59204211,  8.69749664,\n",
       "        7.26137214, 10.16870727, 10.89846995,  7.68155286,  6.4961888 ,\n",
       "        9.77145523, 10.72424849, 10.16626519,  7.41455248,  8.34712637,\n",
       "        8.18412683,  7.71445152,  7.51933862, 10.28694811, 10.6766213 ,\n",
       "        9.30643344, 10.19870561, 10.58037707, 10.59692075,  9.64742839,\n",
       "       10.41327745,  8.43109338,  7.0695178 ,  8.44817626, 10.69133133,\n",
       "        8.92600419, 10.04611498, 10.41932229, 10.25748336,  8.52358171,\n",
       "       10.25111451,  7.39621075,  7.72333499, 10.46883442,  7.98906264,\n",
       "        6.86322532,  8.35437313, 10.33749829, 10.07540559,  9.97696732,\n",
       "        6.4859222 ,  6.36730855,  8.23695741,  9.57969303, 10.24156726,\n",
       "       10.29965119,  6.80323796,  9.2487229 ,  7.63660373,  9.44147695,\n",
       "        9.0121276 , 10.92325926, 10.60955963,  8.62126987,  7.22842226,\n",
       "        8.88830581,  9.10265992,  9.99913017, 10.06567117, 10.90441712,\n",
       "        6.54592151,  9.5536645 ,  6.62329714, 10.94451276, 10.99417231,\n",
       "       10.29346083,  7.0588886 , 11.18622479,  8.37835635,  9.00635509,\n",
       "        8.56990693, 10.76064288, 10.89714507,  8.86249374, 10.02171304,\n",
       "        8.47891326,  7.95264344,  8.08842122, 10.69589682,  6.34874249,\n",
       "        8.77485451, 11.01175951, 10.65607489, 11.09626682,  6.30734983,\n",
       "        7.21197565,  7.56117971, 10.03651923, 10.69202338,  6.54175928,\n",
       "        7.69977186,  8.65932208,  9.06257006, 11.07120081,  9.82350501,\n",
       "       10.12774797, 10.93156565,  9.90680893,  8.54850655, 10.24342182,\n",
       "        6.67641477,  8.4131012 , 11.10351931,  8.94797364, 10.91656075,\n",
       "       10.27192469, 10.60267558,  8.04763567,  9.31617982,  9.98432454,\n",
       "       10.42971349, 10.21867863,  7.94652473, 10.67006303,  9.98410982,\n",
       "       10.20054678, 10.63862858, 10.75156909,  8.41843102, 11.03512466,\n",
       "        6.94785715, 10.81504713, 10.33104686,  6.45610258,  7.20399319,\n",
       "       10.88707213,  8.17701856, 10.30839541,  8.31091893,  9.00215179,\n",
       "        7.10764403,  6.30370798, 10.23744536, 11.08353586, 10.95193262,\n",
       "        9.16370517, 10.87825649,  6.30272611,  8.80340954, 10.9718903 ,\n",
       "        9.99743782,  8.80794044, 10.17743542, 10.16846409,  6.60855337,\n",
       "        7.81286084,  9.83354803,  9.20572077,  8.16536239,  8.89916371,\n",
       "        8.72833125,  7.53902656, 11.09052219,  9.62361812,  6.32631301,\n",
       "       10.92569383,  9.29993013, 10.97801818,  6.37129348,  9.79480771,\n",
       "       10.42780166, 11.20298613,  7.60898839, 10.65276598,  6.75803825,\n",
       "       10.70652593, 10.45986363, 10.12343535,  7.65928928, 10.85776348,\n",
       "        6.50399347,  7.80850558,  9.91303814,  8.82386713, 11.15582629,\n",
       "        6.56405143,  7.05046788,  8.2196684 , 10.41289651, 11.10245698,\n",
       "       10.26572946,  9.86112618,  9.98337076, 10.73742537,  9.02279622,\n",
       "        7.69576982,  8.76487609,  8.75861519, 10.48408815, 10.74045981,\n",
       "       10.11605036, 10.74569553,  8.54232181, 10.3801499 , 10.51321779,\n",
       "        8.0939639 ,  9.96090141,  9.33734486,  7.99170634, 10.21205859,\n",
       "        8.39277045, 10.07945481,  6.77646231,  7.30139633,  8.33668215,\n",
       "       10.08240094, 10.88346973,  9.56190616,  7.03228743,  9.85969252,\n",
       "        8.73775651,  8.70126348,  9.26857872, 10.58532171, 10.62249845,\n",
       "        7.63676788, 11.31923467,  7.47150574,  6.86960884,  9.91194104,\n",
       "       11.09135536,  6.80327756,  9.69833147,  7.26369358,  9.33684738,\n",
       "        6.50768565,  7.33401308,  6.76616439,  6.33277263,  7.48353588,\n",
       "       10.53743332,  9.12299276, 11.23739967,  6.95152752,  6.80823588,\n",
       "        8.61644439,  9.65958231,  6.89095141,  8.36716391, 10.75487872,\n",
       "        8.40815283, 10.12803431,  9.94477994,  7.3659683 , 10.26656538,\n",
       "        6.31550619,  8.77596316,  9.20675814,  8.13388661, 10.41793562,\n",
       "        9.4659277 ,  9.30045919,  9.27492411,  6.6329631 , 10.23538318,\n",
       "        9.87553053,  7.48070315,  9.74461695,  7.32043649, 10.80036637,\n",
       "       10.99524783, 10.4674786 , 11.02784354,  8.69963281,  7.95266179,\n",
       "        8.52685317, 10.29584784, 10.40044617,  9.09531035, 10.59800332,\n",
       "       11.00637698,  6.61551527, 11.39132654, 10.47994832,  8.86091938,\n",
       "        7.22841154,  6.30789633,  7.9797101 ,  8.38220209,  8.09565901,\n",
       "        9.60548337,  6.94778055,  7.39461249,  8.54205589, 10.5438274 ,\n",
       "       10.40550255, 10.47814391, 10.14020626, 10.99139109,  8.69974096,\n",
       "        9.74471515, 10.81359142,  7.33743694,  6.33528029,  8.68602359,\n",
       "       10.55809761, 10.32025373, 10.84702218,  6.75719959, 11.12246498,\n",
       "       10.30283237, 10.78587515,  7.76734082,  8.00243774,  8.60162625,\n",
       "       10.03577976,  8.35148585,  7.21107758, 10.51595956,  7.11649989,\n",
       "        7.95715887, 11.38819387,  9.06001364, 10.39958356,  9.22211721,\n",
       "        8.05453508,  9.47660737,  8.20012285,  6.48976052, 10.45492652,\n",
       "        7.1983225 , 10.15025521, 10.18133801, 10.20695906,  7.72504166,\n",
       "        7.71768508,  6.32002025,  7.10435437,  8.66806955, 10.64625693,\n",
       "       10.22460098,  6.65041317, 10.05118423,  8.92091027,  6.92003301,\n",
       "       10.44809503,  9.22244907,  8.33972907, 10.6644692 , 10.88121378,\n",
       "       10.79021356, 10.49408699,  7.45548098,  9.82607088, 10.35940962,\n",
       "       10.29732364, 11.00163863,  9.70454312, 10.88639041,  8.19861113,\n",
       "        7.27909938,  6.32861628,  6.92385666,  6.33594957,  7.15039841,\n",
       "        9.97358475, 10.64601309, 10.11488252,  8.42363888,  7.0926238 ,\n",
       "        7.45515116,  8.60014235,  9.99603416, 10.27089885,  9.50495957,\n",
       "        9.41450769,  8.28291939,  8.49413319, 10.21619765, 11.18661715,\n",
       "        8.89066864, 10.25084619,  9.02357709, 10.57317754,  9.32583461,\n",
       "        8.35098912, 10.06267444,  9.63683965, 10.7369665 ,  8.96220612,\n",
       "        6.58854579,  9.41028434, 10.08759632,  9.51507628,  6.39733071,\n",
       "        6.6071367 , 10.16947492, 10.29103015,  9.3183097 , 10.63090729,\n",
       "       10.8442529 , 10.2888689 ,  8.83608676,  9.72872007,  7.34651267,\n",
       "        9.75007945,  9.33520974, 10.55373553,  8.92398065,  7.13119899,\n",
       "        7.49816566,  6.42280705, 10.86276844,  8.38645751, 10.06672607,\n",
       "        8.91331122,  6.49050297,  9.01753481,  8.57636043, 10.85097604,\n",
       "        7.74507894,  8.49045681, 10.93694286,  6.32287421, 10.73336191,\n",
       "        8.89259068, 10.55397638, 10.3739553 , 10.76038764, 10.5654465 ,\n",
       "       10.79535421, 10.7360555 ])"
      ]
     },
     "execution_count": 56,
     "metadata": {},
     "output_type": "execute_result"
    }
   ],
   "source": [
    "y_pred"
   ]
  },
  {
   "cell_type": "code",
   "execution_count": 57,
   "id": "b6009d66",
   "metadata": {},
   "outputs": [
    {
     "name": "stdout",
     "output_type": "stream",
     "text": [
      "2.723521838001764\n"
     ]
    }
   ],
   "source": [
    "print(np.sqrt(metrics.mean_squared_error(y_test,y_pred)))"
   ]
  },
  {
   "cell_type": "code",
   "execution_count": 58,
   "id": "26643111",
   "metadata": {},
   "outputs": [],
   "source": [
    "from matplotlib.colors import ListedColormap\n",
    "\n",
    "def plot_randomforest_boundary(reg, X, y, axes=[0, 100, 30, 50], alpha=0.5, contour=True):\n",
    "    x1s = np.linspace(axes[0], axes[1], 20)\n",
    "    x2s = np.linspace(axes[2], axes[3], 20)\n",
    "    x1, x2 = np.meshgrid(x1s, x2s)\n",
    "    X_new = np.c_[x1.ravel(), x2.ravel()]\n",
    "    y_pred = reg.predict(X_new).reshape(x1.shape)\n",
    "    custom_cmap = ListedColormap(['#fafab0','#9898ff','#a0faa0'])\n",
    "    plt.contourf(x1, x2, y_pred, alpha=0.3, cmap=custom_cmap)\n",
    "    if contour:\n",
    "        custom_cmap2 = ListedColormap(['#7d7d58','#4c4c7f','#507d50'])\n",
    "        plt.contour(x1, x2, y_pred, cmap=custom_cmap2, alpha=0.8)\n",
    "    plt.plot(X[:, 0][y==0], X[:, 1][y==0], \"yo\", alpha=alpha)\n",
    "    plt.plot(X[:, 0][y==1], X[:, 1][y==1], \"bs\", alpha=alpha)\n",
    "    plt.axis(axes)\n",
    "    plt.xlabel(r\"$x_1$\", fontsize=18)\n",
    "    plt.ylabel(r\"$x_2$\", fontsize=18, rotation=0)"
   ]
  },
  {
   "cell_type": "code",
   "execution_count": 59,
   "id": "3a010bdf",
   "metadata": {},
   "outputs": [],
   "source": [
    "\n",
    "'''\n",
    "fig, axes = plt.subplots(ncols=2, figsize=(10,4), sharey=True)\n",
    "plt.sca(axes[0])\n",
    "plot_decision_boundary(rnd_reg_new, X_train.to_numpy(), y_train)\n",
    "plt.title(\"Random Forest\", fontsize=14)\n",
    "plt.sca(axes[1])\n",
    "plot_decision_boundary(bag_reg, X_train.to_numpy(), y_train)\n",
    "plt.title(\"Random Forest with Bagging\", fontsize=14)\n",
    "plt.ylabel(\"\")\n",
    "save_fig(\"decision_tree_without_and_with_bagging_plot\")\n",
    "plt.show()\n",
    "'''\n",
    "X_array = X.to_numpy()"
   ]
  },
  {
   "cell_type": "code",
   "execution_count": 60,
   "id": "bb9b68b2",
   "metadata": {},
   "outputs": [
    {
     "data": {
      "text/plain": [
       "array([[2.7300e+02, 8.2000e+01, 1.0500e+02, 2.1000e+02, 9.0000e+00,\n",
       "        9.0400e+02, 6.8000e+02],\n",
       "       [1.6300e+02, 1.4900e+02, 1.9100e+02, 1.8000e+02, 1.2000e+01,\n",
       "        8.4300e+02, 7.4600e+02],\n",
       "       [1.6200e+02, 1.4800e+02, 1.9100e+02, 1.7900e+02, 1.6000e+01,\n",
       "        8.4000e+02, 7.4300e+02],\n",
       "       [1.6200e+02, 1.4800e+02, 1.9000e+02, 1.7900e+02, 1.9000e+01,\n",
       "        8.3800e+02, 7.4100e+02],\n",
       "       [1.5400e+02, 1.1200e+02, 1.4400e+02, 2.2000e+02, 1.0000e+01,\n",
       "        9.2300e+02, 6.5800e+02],\n",
       "       [1.4700e+02, 8.9000e+01, 1.1500e+02, 2.0200e+02, 9.0000e+00,\n",
       "        8.6000e+02, 8.2900e+02],\n",
       "       [1.5200e+02, 1.3900e+02, 1.7800e+02, 1.6800e+02, 1.8000e+01,\n",
       "        9.4400e+02, 6.9500e+02],\n",
       "       [1.4500e+02, 0.0000e+00, 2.2700e+02, 2.4000e+02, 6.0000e+00,\n",
       "        7.5000e+02, 8.5300e+02],\n",
       "       [1.5200e+02, 0.0000e+00, 2.3700e+02, 2.0400e+02, 6.0000e+00,\n",
       "        7.8500e+02, 8.9200e+02],\n",
       "       [3.0400e+02, 0.0000e+00, 1.4000e+02, 2.1400e+02, 6.0000e+00,\n",
       "        8.9500e+02, 7.2200e+02],\n",
       "       [1.4500e+02, 1.0600e+02, 1.3600e+02, 2.0800e+02, 1.0000e+01,\n",
       "        7.5100e+02, 8.8300e+02],\n",
       "       [1.4800e+02, 1.0900e+02, 1.3900e+02, 1.9300e+02, 7.0000e+00,\n",
       "        7.6800e+02, 9.0200e+02],\n",
       "       [1.4200e+02, 1.3000e+02, 1.6700e+02, 2.1500e+02, 6.0000e+00,\n",
       "        7.3500e+02, 8.3600e+02],\n",
       "       [3.5400e+02, 0.0000e+00, 0.0000e+00, 2.3400e+02, 6.0000e+00,\n",
       "        9.5900e+02, 6.9100e+02],\n",
       "       [3.7400e+02, 0.0000e+00, 0.0000e+00, 1.9000e+02, 7.0000e+00,\n",
       "        1.0130e+03, 7.3000e+02],\n",
       "       [1.5900e+02, 1.1600e+02, 1.4900e+02, 1.7500e+02, 1.5000e+01,\n",
       "        9.5300e+02, 7.2000e+02],\n",
       "       [1.5300e+02, 0.0000e+00, 2.3900e+02, 2.0000e+02, 6.0000e+00,\n",
       "        1.0020e+03, 6.8400e+02],\n",
       "       [2.9500e+02, 1.0600e+02, 1.3600e+02, 2.0600e+02, 1.1000e+01,\n",
       "        7.5000e+02, 7.6600e+02],\n",
       "       [3.1000e+02, 0.0000e+00, 1.4300e+02, 1.6800e+02, 1.0000e+01,\n",
       "        9.1400e+02, 8.0400e+02],\n",
       "       [2.9600e+02, 9.7000e+01, 0.0000e+00, 2.1900e+02, 9.0000e+00,\n",
       "        9.3200e+02, 6.8500e+02],\n",
       "       [3.0500e+02, 1.0000e+02, 0.0000e+00, 1.9600e+02, 1.0000e+01,\n",
       "        9.5900e+02, 7.0500e+02],\n",
       "       [3.1000e+02, 0.0000e+00, 1.4300e+02, 2.1800e+02, 1.0000e+01,\n",
       "        7.8700e+02, 8.0400e+02],\n",
       "       [1.4800e+02, 1.8000e+02, 0.0000e+00, 1.8300e+02, 1.1000e+01,\n",
       "        9.7200e+02, 7.5700e+02],\n",
       "       [1.4600e+02, 1.7800e+02, 0.0000e+00, 1.9200e+02, 1.1000e+01,\n",
       "        9.6100e+02, 7.4900e+02],\n",
       "       [1.4200e+02, 1.3000e+02, 1.6700e+02, 1.7400e+02, 1.1000e+01,\n",
       "        8.8300e+02, 7.8500e+02],\n",
       "       [1.4000e+02, 1.2800e+02, 1.6400e+02, 1.8300e+02, 1.2000e+01,\n",
       "        8.7100e+02, 7.7500e+02],\n",
       "       [3.0800e+02, 1.1100e+02, 1.4200e+02, 2.1700e+02, 1.0000e+01,\n",
       "        7.8300e+02, 6.8600e+02],\n",
       "       [2.9500e+02, 1.0600e+02, 1.3600e+02, 2.0800e+02, 6.0000e+00,\n",
       "        8.7100e+02, 6.5000e+02],\n",
       "       [2.9800e+02, 1.0700e+02, 1.3700e+02, 2.0100e+02, 6.0000e+00,\n",
       "        8.7800e+02, 6.5500e+02],\n",
       "       [3.1400e+02, 0.0000e+00, 1.6100e+02, 2.0700e+02, 6.0000e+00,\n",
       "        8.5100e+02, 7.5700e+02],\n",
       "       [3.2100e+02, 0.0000e+00, 1.6400e+02, 1.9000e+02, 5.0000e+00,\n",
       "        8.7000e+02, 7.7400e+02],\n",
       "       [3.4900e+02, 0.0000e+00, 1.7800e+02, 2.3000e+02, 6.0000e+00,\n",
       "        7.8500e+02, 7.2100e+02],\n",
       "       [3.6600e+02, 0.0000e+00, 1.8700e+02, 1.9100e+02, 7.0000e+00,\n",
       "        8.2400e+02, 7.5700e+02],\n",
       "       [2.7400e+02, 8.9000e+01, 1.1500e+02, 2.0200e+02, 9.0000e+00,\n",
       "        7.5900e+02, 8.2700e+02],\n",
       "       [1.3700e+02, 1.6700e+02, 2.1400e+02, 2.2600e+02, 6.0000e+00,\n",
       "        7.0800e+02, 7.5700e+02],\n",
       "       [2.7500e+02, 9.9000e+01, 1.2700e+02, 1.8400e+02, 1.3000e+01,\n",
       "        8.1000e+02, 7.9000e+02],\n",
       "       [2.5200e+02, 7.6000e+01, 9.7000e+01, 1.9400e+02, 8.0000e+00,\n",
       "        8.3500e+02, 8.2100e+02],\n",
       "       [1.6500e+02, 1.5000e+02, 0.0000e+00, 1.8200e+02, 1.2000e+01,\n",
       "        1.0230e+03, 7.2900e+02],\n",
       "       [1.5800e+02, 0.0000e+00, 2.4600e+02, 1.7400e+02, 7.0000e+00,\n",
       "        1.0350e+03, 7.0600e+02],\n",
       "       [1.5600e+02, 0.0000e+00, 2.4300e+02, 1.8000e+02, 1.1000e+01,\n",
       "        1.0220e+03, 6.9800e+02],\n",
       "       [1.4500e+02, 1.7700e+02, 2.2700e+02, 2.0900e+02, 1.1000e+01,\n",
       "        7.5200e+02, 7.1500e+02],\n",
       "       [1.5400e+02, 1.4100e+02, 1.8100e+02, 2.3400e+02, 1.1000e+01,\n",
       "        7.9700e+02, 6.8300e+02],\n",
       "       [1.6000e+02, 1.4600e+02, 1.8800e+02, 2.0300e+02, 1.1000e+01,\n",
       "        8.2900e+02, 7.1000e+02],\n",
       "       [2.9100e+02, 1.0500e+02, 0.0000e+00, 2.0500e+02, 6.0000e+00,\n",
       "        8.5900e+02, 7.9700e+02],\n",
       "       [2.9800e+02, 1.0700e+02, 0.0000e+00, 1.8600e+02, 6.0000e+00,\n",
       "        8.7900e+02, 8.1500e+02],\n",
       "       [3.1800e+02, 1.2600e+02, 0.0000e+00, 2.1000e+02, 6.0000e+00,\n",
       "        8.6100e+02, 7.3700e+02],\n",
       "       [2.8000e+02, 9.2000e+01, 1.1800e+02, 2.0700e+02, 9.0000e+00,\n",
       "        8.8300e+02, 6.7900e+02],\n",
       "       [2.8700e+02, 9.4000e+01, 1.2100e+02, 1.8800e+02, 9.0000e+00,\n",
       "        9.0400e+02, 6.9600e+02],\n",
       "       [3.3200e+02, 0.0000e+00, 1.7000e+02, 1.6000e+02, 6.0000e+00,\n",
       "        9.0000e+02, 8.0600e+02],\n",
       "       [3.2600e+02, 0.0000e+00, 1.6700e+02, 1.7400e+02, 6.0000e+00,\n",
       "        8.8400e+02, 7.9200e+02],\n",
       "       [3.2000e+02, 0.0000e+00, 1.6300e+02, 1.8800e+02, 9.0000e+00,\n",
       "        8.6600e+02, 7.7600e+02],\n",
       "       [3.4200e+02, 1.3600e+02, 0.0000e+00, 2.2500e+02, 1.1000e+01,\n",
       "        7.7000e+02, 7.4700e+02],\n",
       "       [3.5600e+02, 1.4200e+02, 0.0000e+00, 1.9300e+02, 1.1000e+01,\n",
       "        8.0100e+02, 7.7800e+02],\n",
       "       [3.0900e+02, 0.0000e+00, 1.4200e+02, 2.1800e+02, 1.0000e+01,\n",
       "        9.1200e+02, 6.8000e+02],\n",
       "       [3.2200e+02, 0.0000e+00, 1.4900e+02, 1.8600e+02, 8.0000e+00,\n",
       "        9.5100e+02, 7.0900e+02],\n",
       "       [1.5900e+02, 1.9300e+02, 0.0000e+00, 2.0800e+02, 1.2000e+01,\n",
       "        8.2100e+02, 8.1800e+02],\n",
       "       [3.0700e+02, 1.1000e+02, 0.0000e+00, 1.8900e+02, 1.0000e+01,\n",
       "        9.0400e+02, 7.6500e+02],\n",
       "       [3.1300e+02, 1.2400e+02, 0.0000e+00, 2.0500e+02, 1.1000e+01,\n",
       "        8.4600e+02, 7.5800e+02],\n",
       "       [1.4300e+02, 1.3100e+02, 1.6800e+02, 2.1700e+02, 6.0000e+00,\n",
       "        8.9100e+02, 6.7200e+02],\n",
       "       [1.4000e+02, 1.2800e+02, 1.6400e+02, 2.3700e+02, 6.0000e+00,\n",
       "        8.6900e+02, 6.5600e+02],\n",
       "       [2.7800e+02, 0.0000e+00, 1.1700e+02, 2.0500e+02, 9.0000e+00,\n",
       "        8.7500e+02, 7.9900e+02],\n",
       "       [2.8800e+02, 0.0000e+00, 1.2100e+02, 1.7700e+02, 7.0000e+00,\n",
       "        9.0800e+02, 8.2900e+02],\n",
       "       [2.9900e+02, 1.0700e+02, 0.0000e+00, 2.1000e+02, 1.0000e+01,\n",
       "        8.8100e+02, 7.4500e+02],\n",
       "       [2.9100e+02, 1.0400e+02, 0.0000e+00, 2.3100e+02, 9.0000e+00,\n",
       "        8.5700e+02, 7.2500e+02],\n",
       "       [2.6500e+02, 8.6000e+01, 1.1100e+02, 1.9500e+02, 6.0000e+00,\n",
       "        8.3300e+02, 7.9000e+02],\n",
       "       [1.5900e+02, 0.0000e+00, 2.4800e+02, 1.7500e+02, 1.2000e+01,\n",
       "        1.0410e+03, 6.8300e+02],\n",
       "       [1.6000e+02, 0.0000e+00, 2.5000e+02, 1.6800e+02, 1.2000e+01,\n",
       "        1.0490e+03, 6.8800e+02],\n",
       "       [1.6600e+02, 0.0000e+00, 2.6000e+02, 1.8300e+02, 1.3000e+01,\n",
       "        8.5900e+02, 8.2700e+02],\n",
       "       [3.2000e+02, 1.2700e+02, 1.6400e+02, 2.1100e+02, 6.0000e+00,\n",
       "        7.2100e+02, 7.2300e+02],\n",
       "       [3.3600e+02, 1.3400e+02, 0.0000e+00, 2.2200e+02, 6.0000e+00,\n",
       "        7.5600e+02, 7.8700e+02],\n",
       "       [2.7600e+02, 9.0000e+01, 1.1600e+02, 1.8000e+02, 9.0000e+00,\n",
       "        8.7000e+02, 7.6800e+02],\n",
       "       [3.1300e+02, 1.1200e+02, 0.0000e+00, 2.2000e+02, 1.0000e+01,\n",
       "        7.9400e+02, 7.8900e+02],\n",
       "       [3.2200e+02, 1.1600e+02, 0.0000e+00, 1.9600e+02, 1.0000e+01,\n",
       "        8.1800e+02, 8.1300e+02],\n",
       "       [2.9400e+02, 1.0600e+02, 1.3600e+02, 2.0700e+02, 6.0000e+00,\n",
       "        7.4700e+02, 7.7800e+02],\n",
       "       [1.4600e+02, 1.0600e+02, 1.3700e+02, 2.0900e+02, 6.0000e+00,\n",
       "        8.7500e+02, 7.6500e+02],\n",
       "       [1.4900e+02, 1.0900e+02, 1.3900e+02, 1.9300e+02, 6.0000e+00,\n",
       "        8.9200e+02, 7.8000e+02],\n",
       "       [1.5900e+02, 0.0000e+00, 1.8700e+02, 1.7600e+02, 1.1000e+01,\n",
       "        9.9000e+02, 7.8900e+02],\n",
       "       [2.6100e+02, 7.8000e+01, 1.0000e+02, 2.0100e+02, 9.0000e+00,\n",
       "        8.6400e+02, 7.6100e+02],\n",
       "       [1.4000e+02, 1.4000e+00, 1.9810e+02, 1.7490e+02, 4.4000e+00,\n",
       "        1.0499e+03, 7.8050e+02],\n",
       "       [1.4110e+02, 6.0000e-01, 2.0950e+02, 1.8880e+02, 4.6000e+00,\n",
       "        9.9610e+02, 7.8920e+02],\n",
       "       [1.4010e+02, 4.2000e+00, 2.1590e+02, 1.9390e+02, 4.7000e+00,\n",
       "        1.0495e+03, 7.1010e+02],\n",
       "       [1.4010e+02, 1.1800e+01, 2.2610e+02, 2.0780e+02, 4.9000e+00,\n",
       "        1.0209e+03, 6.8380e+02],\n",
       "       [1.6020e+02, 3.0000e-01, 2.4000e+02, 2.3350e+02, 9.2000e+00,\n",
       "        7.8100e+02, 8.4110e+02],\n",
       "       [1.4020e+02, 3.0500e+01, 2.3900e+02, 1.6940e+02, 5.3000e+00,\n",
       "        1.0284e+03, 7.4270e+02],\n",
       "       [1.4020e+02, 4.4800e+01, 2.3490e+02, 1.7130e+02, 5.5000e+00,\n",
       "        1.0476e+03, 7.0400e+02],\n",
       "       [1.4050e+02, 6.1100e+01, 2.3890e+02, 1.8250e+02, 5.7000e+00,\n",
       "        1.0177e+03, 6.8140e+02],\n",
       "       [1.4330e+02, 9.1800e+01, 2.3980e+02, 2.0080e+02, 6.2000e+00,\n",
       "        9.6480e+02, 6.4710e+02],\n",
       "       [1.9430e+02, 3.0000e-01, 2.4000e+02, 2.3420e+02, 8.9000e+00,\n",
       "        7.8060e+02, 8.1130e+02],\n",
       "       [1.5040e+02, 1.1090e+02, 2.3970e+02, 1.6810e+02, 6.5000e+00,\n",
       "        1.0002e+03, 6.6720e+02],\n",
       "       [1.5030e+02, 1.1140e+02, 2.3880e+02, 1.6730e+02, 6.5000e+00,\n",
       "        9.9950e+02, 6.7050e+02],\n",
       "       [1.5540e+02, 1.2210e+02, 2.4000e+02, 1.7990e+02, 6.7000e+00,\n",
       "        9.6680e+02, 6.5250e+02],\n",
       "       [1.6530e+02, 1.4320e+02, 2.3830e+02, 2.0040e+02, 7.1000e+00,\n",
       "        8.8320e+02, 6.5260e+02],\n",
       "       [3.0380e+02, 2.0000e-01, 2.3980e+02, 2.3640e+02, 8.3000e+00,\n",
       "        7.8010e+02, 7.1530e+02],\n",
       "       [1.7200e+02, 1.6210e+02, 2.3850e+02, 1.6600e+02, 7.4000e+00,\n",
       "        9.5330e+02, 6.4140e+02],\n",
       "       [1.7280e+02, 1.5830e+02, 2.3950e+02, 1.6640e+02, 7.4000e+00,\n",
       "        9.5260e+02, 6.4410e+02],\n",
       "       [1.8430e+02, 1.5340e+02, 2.3920e+02, 1.7900e+02, 7.5000e+00,\n",
       "        9.2020e+02, 6.4090e+02],\n",
       "       [2.1560e+02, 1.1290e+02, 2.3900e+02, 1.9870e+02, 7.4000e+00,\n",
       "        8.8400e+02, 6.4910e+02],\n",
       "       [2.9530e+02, 0.0000e+00, 2.3990e+02, 2.3620e+02, 8.3000e+00,\n",
       "        7.8030e+02, 7.2290e+02],\n",
       "       [2.4830e+02, 1.0100e+02, 2.3910e+02, 1.6890e+02, 7.7000e+00,\n",
       "        9.5420e+02, 6.4060e+02],\n",
       "       [2.4800e+02, 1.0100e+02, 2.3990e+02, 1.6910e+02, 7.7000e+00,\n",
       "        9.4990e+02, 6.4410e+02],\n",
       "       [2.5880e+02, 8.8000e+01, 2.3960e+02, 1.7530e+02, 7.6000e+00,\n",
       "        9.3890e+02, 6.4600e+02],\n",
       "       [2.9710e+02, 4.0900e+01, 2.3990e+02, 1.9400e+02, 7.5000e+00,\n",
       "        9.0890e+02, 6.5180e+02],\n",
       "       [3.4870e+02, 1.0000e-01, 2.2310e+02, 2.0850e+02, 9.6000e+00,\n",
       "        7.8620e+02, 7.5810e+02]])"
      ]
     },
     "execution_count": 60,
     "metadata": {},
     "output_type": "execute_result"
    }
   ],
   "source": [
    "X_array"
   ]
  },
  {
   "cell_type": "code",
   "execution_count": 61,
   "id": "6968bbaa",
   "metadata": {},
   "outputs": [
    {
     "data": {
      "text/plain": [
       "869     12\n",
       "48       9\n",
       "2730     8\n",
       "1541     7\n",
       "1943    11\n",
       "        ..\n",
       "149     15\n",
       "1787    10\n",
       "3058    11\n",
       "491     11\n",
       "3326    16\n",
       "Name: 15, Length: 627, dtype: int64"
      ]
     },
     "execution_count": 61,
     "metadata": {},
     "output_type": "execute_result"
    }
   ],
   "source": [
    "y_test"
   ]
  },
  {
   "cell_type": "code",
   "execution_count": 62,
   "id": "4338bfbc",
   "metadata": {},
   "outputs": [
    {
     "data": {
      "text/plain": [
       "0      34.99\n",
       "1      41.14\n",
       "2      41.81\n",
       "3      42.08\n",
       "4      26.82\n",
       "       ...  \n",
       "98     49.97\n",
       "99     50.23\n",
       "100    50.50\n",
       "101    49.17\n",
       "102    48.77\n",
       "Name: Compressive Strength (28-day)(Mpa), Length: 103, dtype: float64"
      ]
     },
     "execution_count": 62,
     "metadata": {},
     "output_type": "execute_result"
    }
   ],
   "source": [
    "y"
   ]
  },
  {
   "cell_type": "code",
   "execution_count": 63,
   "id": "dcb5c58f",
   "metadata": {},
   "outputs": [
    {
     "data": {
      "image/png": "[encoded data removed]",
      "text/plain": [
       "<Figure size 432x288 with 1 Axes>"
      ]
     },
     "metadata": {
      "needs_background": "light"
     },
     "output_type": "display_data"
    }
   ],
   "source": [
    "import matplotlib.pyplot as plt\n",
    "import numpy as np\n",
    "\n",
    "plt.scatter(y_test, y_pred_new, color = 'hotpink')\n",
    "\n",
    "plt.scatter(y_test, y_pred, color = '#88c999')\n",
    "\n",
    "plt.show()"
   ]
  },
  {
   "cell_type": "code",
   "execution_count": 64,
   "id": "83d5221d",
   "metadata": {},
   "outputs": [
    {
     "data": {
      "text/plain": [
       "<matplotlib.collections.PathCollection at 0x7ff5c2efc7f0>"
      ]
     },
     "execution_count": 64,
     "metadata": {},
     "output_type": "execute_result"
    },
    {
     "data": {
      "image/png": "[encoded data removed]",
      "text/plain": [
       "<Figure size 432x288 with 1 Axes>"
      ]
     },
     "metadata": {
      "needs_background": "light"
     },
     "output_type": "display_data"
    }
   ],
   "source": [
    "plt.scatter(y_pred, y_pred_new, color = 'cyan')"
   ]
  },
  {
   "cell_type": "code",
   "execution_count": 65,
   "id": "d1c18a6e",
   "metadata": {},
   "outputs": [
    {
     "data": {
      "text/plain": [
       "<matplotlib.collections.PathCollection at 0x7ff5c3edd8e0>"
      ]
     },
     "execution_count": 65,
     "metadata": {},
     "output_type": "execute_result"
    },
    {
     "data": {
      "image/png": "[encoded data removed]",
      "text/plain": [
       "<Figure size 432x288 with 1 Axes>"
      ]
     },
     "metadata": {
      "needs_background": "light"
     },
     "output_type": "display_data"
    }
   ],
   "source": [
    "plt.scatter(y_pred_new, y_pred, color = 'beige')"
   ]
  },
  {
   "cell_type": "code",
   "execution_count": null,
   "id": "074a1779",
   "metadata": {},
   "outputs": [],
   "source": []
  },
  {
   "cell_type": "code",
   "execution_count": null,
   "id": "72421552",
   "metadata": {},
   "outputs": [],
   "source": []
  }
 ],
 "metadata": {
  "kernelspec": {
   "display_name": "Python 3 (ipykernel)",
   "language": "python",
   "name": "python3"
  },
  "language_info": {
   "codemirror_mode": {
    "name": "ipython",
    "version": 3
   },
   "file_extension": ".py",
   "mimetype": "text/x-python",
   "name": "python",
   "nbconvert_exporter": "python",
   "pygments_lexer": "ipython3",
   "version": "3.9.7"
  }
 },
 "nbformat": 4,
 "nbformat_minor": 5
}
