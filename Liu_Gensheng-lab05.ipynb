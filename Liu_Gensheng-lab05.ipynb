{
 "cells": [
  {
   "cell_type": "markdown",
   "id": "47120a36",
   "metadata": {},
   "source": [
    "# CITS5508 - Lab5"
   ]
  },
  {
   "cell_type": "markdown",
   "id": "971fd3b2",
   "metadata": {},
   "source": [
    "### Henry Liu (22672083)"
   ]
  },
  {
   "cell_type": "markdown",
   "id": "0aba2ba1",
   "metadata": {},
   "source": [
    "## Introduction "
   ]
  },
  {
   "cell_type": "markdown",
   "id": "a2e92989",
   "metadata": {},
   "source": [
    "This lab consists of a large project using the CIFAR-10 dataset. This is a data set containing 10 classes of colour images of size 32 × 32 pixels. The training set is perfectly balanced, with 6,000 images per class. The test set contains 10,000 instances. The task for this lab is to train an MLP and a CNN for the classification task and compare their performance. "
   ]
  },
  {
   "cell_type": "markdown",
   "id": "54205217",
   "metadata": {},
   "source": [
    "## Setup libraries and load data set"
   ]
  },
  {
   "cell_type": "code",
   "execution_count": 211,
   "id": "4769e913",
   "metadata": {},
   "outputs": [],
   "source": [
    "import os\n",
    "import tarfile\n",
    "import urllib.request\n",
    "import pandas as pd\n",
    "%matplotlib inline\n",
    "import matplotlib.pyplot as plt\n",
    "import numpy as np\n",
    "import csv"
   ]
  },
  {
   "cell_type": "code",
   "execution_count": 212,
   "id": "3fd6a9fc",
   "metadata": {},
   "outputs": [],
   "source": [
    "import sys"
   ]
  },
  {
   "cell_type": "code",
   "execution_count": 213,
   "id": "ed80f15e",
   "metadata": {},
   "outputs": [
    {
     "data": {
      "text/plain": [
       "['/Users/liugensheng/OneDrive - The University of Western Australia/2022 sem1/CITS5508 ML/lab05',\n",
       " '/Users/liugensheng/miniconda3/lib/python39.zip',\n",
       " '/Users/liugensheng/miniconda3/lib/python3.9',\n",
       " '/Users/liugensheng/miniconda3/lib/python3.9/lib-dynload',\n",
       " '',\n",
       " '/Users/liugensheng/miniconda3/lib/python3.9/site-packages']"
      ]
     },
     "execution_count": 213,
     "metadata": {},
     "output_type": "execute_result"
    }
   ],
   "source": [
    "sys.path"
   ]
  },
  {
   "cell_type": "markdown",
   "id": "d9cc0151",
   "metadata": {},
   "source": [
    "#### Step 1: Import the `DataLoader` class"
   ]
  },
  {
   "cell_type": "code",
   "execution_count": 214,
   "id": "1f124df7",
   "metadata": {},
   "outputs": [],
   "source": [
    "from data_loader import DataLoader\n",
    "import tensorflow as tf\n",
    "from tensorflow import keras"
   ]
  },
  {
   "cell_type": "markdown",
   "id": "1f81cdab",
   "metadata": {},
   "source": [
    "#### Step 2: Call the `load_batch` function"
   ]
  },
  {
   "cell_type": "code",
   "execution_count": 215,
   "id": "9618fbb8",
   "metadata": {},
   "outputs": [],
   "source": [
    "# According to the CIFAR-10 website, the training set is split into five batches\n",
    "# stored in fives files. Each colour image has dimensions equal to 32 x 32 x 3. There\n",
    "# are 10 classes.\n",
    "image_width, image_height, image_Nchannels = 32, 32, 3\n",
    "class_names = ['airplane', 'automobile', 'bird', 'cat', 'deer',\n",
    "               'dog', 'frog', 'horse', 'ship', 'truck']\n",
    "\n",
    "# The default values of all the arguments of the load_batch function have been\n",
    "# set for the CIFAR-10 dataset.\n",
    "X_train_full, y_train_full = DataLoader.load_batch('data_batch')\n",
    "X_test, y_test = DataLoader.load_batch('test_batch', Nbatches=1)"
   ]
  },
  {
   "cell_type": "code",
   "execution_count": 216,
   "id": "d4dbaeab",
   "metadata": {},
   "outputs": [
    {
     "data": {
      "text/plain": [
       "(50000, 32, 32, 3)"
      ]
     },
     "execution_count": 216,
     "metadata": {},
     "output_type": "execute_result"
    }
   ],
   "source": [
    "X_train_full.shape"
   ]
  },
  {
   "cell_type": "code",
   "execution_count": 217,
   "id": "4301e3a2",
   "metadata": {},
   "outputs": [
    {
     "data": {
      "text/plain": [
       "dtype('float32')"
      ]
     },
     "execution_count": 217,
     "metadata": {},
     "output_type": "execute_result"
    }
   ],
   "source": [
    "X_train_full.dtype"
   ]
  },
  {
   "cell_type": "code",
   "execution_count": 218,
   "id": "6631e2be",
   "metadata": {},
   "outputs": [
    {
     "data": {
      "text/plain": [
       "(50000,)"
      ]
     },
     "execution_count": 218,
     "metadata": {},
     "output_type": "execute_result"
    }
   ],
   "source": [
    "y_train_full.shape"
   ]
  },
  {
   "cell_type": "code",
   "execution_count": 219,
   "id": "87908183",
   "metadata": {},
   "outputs": [
    {
     "data": {
      "text/plain": [
       "dtype('uint8')"
      ]
     },
     "execution_count": 219,
     "metadata": {},
     "output_type": "execute_result"
    }
   ],
   "source": [
    "y_train_full.dtype"
   ]
  },
  {
   "cell_type": "markdown",
   "id": "d0daa954",
   "metadata": {},
   "source": [
    "Let's split the full training set into a validation set and a smaller training set. We also scale the pixel intensities to the 0-1 range and convert them to floats."
   ]
  },
  {
   "cell_type": "code",
   "execution_count": 220,
   "id": "b243976b",
   "metadata": {},
   "outputs": [],
   "source": [
    "X_valid, X_train = X_train_full[:7500], X_train_full[7500:]\n",
    "y_valid, y_train = y_train_full[:7500], y_train_full[7500:]"
   ]
  },
  {
   "cell_type": "code",
   "execution_count": 221,
   "id": "df5bd42a",
   "metadata": {},
   "outputs": [
    {
     "data": {
      "text/plain": [
       "(7500, 32, 32, 3)"
      ]
     },
     "execution_count": 221,
     "metadata": {},
     "output_type": "execute_result"
    }
   ],
   "source": [
    "X_valid.shape"
   ]
  },
  {
   "cell_type": "code",
   "execution_count": 222,
   "id": "d72ac96c",
   "metadata": {},
   "outputs": [
    {
     "data": {
      "text/plain": [
       "array([3, 3, 0, ..., 9, 1, 1], dtype=uint8)"
      ]
     },
     "execution_count": 222,
     "metadata": {},
     "output_type": "execute_result"
    }
   ],
   "source": [
    "y_train"
   ]
  },
  {
   "cell_type": "code",
   "execution_count": 223,
   "id": "a063b977",
   "metadata": {},
   "outputs": [
    {
     "data": {
      "text/plain": [
       "'cat'"
      ]
     },
     "execution_count": 223,
     "metadata": {},
     "output_type": "execute_result"
    }
   ],
   "source": [
    "class_names[y_train[0]]"
   ]
  },
  {
   "cell_type": "code",
   "execution_count": 224,
   "id": "8b0d3dc4",
   "metadata": {},
   "outputs": [
    {
     "data": {
      "text/plain": [
       "array([[[0.41568628, 0.4117647 , 0.43529412],\n",
       "        [0.40784314, 0.40392157, 0.42745098],\n",
       "        [0.40784314, 0.40392157, 0.42745098],\n",
       "        ...,\n",
       "        [0.29411766, 0.30588236, 0.3254902 ],\n",
       "        [0.29803923, 0.3137255 , 0.33333334],\n",
       "        [0.30588236, 0.31764707, 0.3372549 ]],\n",
       "\n",
       "       [[0.4117647 , 0.40784314, 0.43137255],\n",
       "        [0.41568628, 0.4117647 , 0.43529412],\n",
       "        [0.4117647 , 0.40784314, 0.43137255],\n",
       "        ...,\n",
       "        [0.28627452, 0.29803923, 0.31764707],\n",
       "        [0.29803923, 0.30980393, 0.32941177],\n",
       "        [0.30588236, 0.31764707, 0.3372549 ]],\n",
       "\n",
       "       [[0.4117647 , 0.40784314, 0.43137255],\n",
       "        [0.42352942, 0.41960785, 0.44313726],\n",
       "        [0.42745098, 0.42352942, 0.44705883],\n",
       "        ...,\n",
       "        [0.29411766, 0.30588236, 0.3254902 ],\n",
       "        [0.3019608 , 0.3137255 , 0.33333334],\n",
       "        [0.3137255 , 0.3254902 , 0.34509805]],\n",
       "\n",
       "       ...,\n",
       "\n",
       "       [[0.07450981, 0.07843138, 0.0627451 ],\n",
       "        [0.07843138, 0.07843138, 0.06666667],\n",
       "        [0.09411765, 0.09411765, 0.07843138],\n",
       "        ...,\n",
       "        [0.47058824, 0.63529414, 0.9254902 ],\n",
       "        [0.45882353, 0.62352943, 0.9137255 ],\n",
       "        [0.4509804 , 0.6117647 , 0.9098039 ]],\n",
       "\n",
       "       [[0.0627451 , 0.06666667, 0.05882353],\n",
       "        [0.0627451 , 0.07058824, 0.0627451 ],\n",
       "        [0.07058824, 0.07450981, 0.07450981],\n",
       "        ...,\n",
       "        [0.4509804 , 0.6117647 , 0.92156863],\n",
       "        [0.45882353, 0.61960787, 0.92156863],\n",
       "        [0.45490196, 0.61960787, 0.91764706]],\n",
       "\n",
       "       [[0.2901961 , 0.37254903, 0.4627451 ],\n",
       "        [0.26666668, 0.34509805, 0.44705883],\n",
       "        [0.30980393, 0.3882353 , 0.5019608 ],\n",
       "        ...,\n",
       "        [0.4745098 , 0.63529414, 0.95686275],\n",
       "        [0.4745098 , 0.63529414, 0.94509804],\n",
       "        [0.4509804 , 0.6156863 , 0.9137255 ]]], dtype=float32)"
      ]
     },
     "execution_count": 224,
     "metadata": {},
     "output_type": "execute_result"
    }
   ],
   "source": [
    "img = X_train[0]\n",
    "img"
   ]
  },
  {
   "cell_type": "code",
   "execution_count": 225,
   "id": "14728bf3",
   "metadata": {},
   "outputs": [
    {
     "data": {
      "text/plain": [
       "(32, 32, 3)"
      ]
     },
     "execution_count": 225,
     "metadata": {},
     "output_type": "execute_result"
    }
   ],
   "source": [
    "img.shape"
   ]
  },
  {
   "cell_type": "markdown",
   "id": "fc83a9ec",
   "metadata": {},
   "source": [
    "**We can check the pixel maxValue and minValue, then write a function**"
   ]
  },
  {
   "cell_type": "code",
   "execution_count": 226,
   "id": "1980d734",
   "metadata": {},
   "outputs": [],
   "source": [
    "maxValue = np.amax(img)\n",
    "minValue = np.amin(img)"
   ]
  },
  {
   "cell_type": "code",
   "execution_count": 227,
   "id": "3791c10d",
   "metadata": {},
   "outputs": [
    {
     "data": {
      "text/plain": [
       "0.96862745"
      ]
     },
     "execution_count": 227,
     "metadata": {},
     "output_type": "execute_result"
    }
   ],
   "source": [
    "maxValue"
   ]
  },
  {
   "cell_type": "code",
   "execution_count": 228,
   "id": "fa05b9d1",
   "metadata": {},
   "outputs": [
    {
     "data": {
      "text/plain": [
       "0.023529412"
      ]
     },
     "execution_count": 228,
     "metadata": {},
     "output_type": "execute_result"
    }
   ],
   "source": [
    "minValue"
   ]
  },
  {
   "cell_type": "code",
   "execution_count": 229,
   "id": "ab31d94a",
   "metadata": {},
   "outputs": [
    {
     "data": {
      "text/plain": [
       "<matplotlib.image.AxesImage at 0x7faac0b11910>"
      ]
     },
     "execution_count": 229,
     "metadata": {},
     "output_type": "execute_result"
    },
    {
     "data": {
      "image/png": "[encoded data removed]",
      "text/plain": [
       "<Figure size 432x288 with 1 Axes>"
      ]
     },
     "metadata": {
      "needs_background": "light"
     },
     "output_type": "display_data"
    }
   ],
   "source": [
    "img = np.clip(img, 0, 1)\n",
    "plt.imshow(img)"
   ]
  },
  {
   "cell_type": "markdown",
   "id": "2a21f1c1",
   "metadata": {},
   "source": [
    "Let's take a look at a sample of the images in the dataset:"
   ]
  },
  {
   "cell_type": "code",
   "execution_count": 230,
   "id": "3dd6d212",
   "metadata": {},
   "outputs": [],
   "source": [
    "def display_image(X_train, y_train):\n",
    "    n_rows = 2\n",
    "    n_cols = 10\n",
    "    plt.figure(figsize=(n_cols * 1.5, n_rows * 1.5))\n",
    "    for row in range(n_rows):\n",
    "        for col in range(n_cols):\n",
    "            index = n_cols * row + col\n",
    "            plt.subplot(n_rows, n_cols, index + 1)\n",
    "            plt.imshow(X_train[index], cmap=\"binary\", interpolation=\"nearest\")\n",
    "            plt.axis('off')\n",
    "            plt.title(class_names[y_train[index]], fontsize=12)\n",
    "    plt.subplots_adjust(wspace=0.2, hspace=0.5)\n",
    "    plt.show()"
   ]
  },
  {
   "cell_type": "code",
   "execution_count": 231,
   "id": "62492e21",
   "metadata": {},
   "outputs": [
    {
     "data": {
      "image/png": "[encoded data removed]",
      "text/plain": [
       "<Figure size 1080x216 with 20 Axes>"
      ]
     },
     "metadata": {
      "needs_background": "light"
     },
     "output_type": "display_data"
    }
   ],
   "source": [
    "display_image(X_train, y_train)"
   ]
  },
  {
   "cell_type": "markdown",
   "id": "65471e80",
   "metadata": {},
   "source": [
    "### Implementation of an MLP"
   ]
  },
  {
   "cell_type": "code",
   "execution_count": 232,
   "id": "8df75e04",
   "metadata": {},
   "outputs": [],
   "source": [
    "model = keras.models.Sequential()\n",
    "model.add(keras.layers.Flatten(input_shape=[32, 32, 3]))\n",
    "model.add(keras.layers.Dense(300, activation=\"relu\"))\n",
    "model.add(keras.layers.Dense(100, activation=\"relu\"))\n",
    "model.add(keras.layers.Dense(10, activation=\"softmax\"))"
   ]
  },
  {
   "cell_type": "code",
   "execution_count": 233,
   "id": "a1e77a93",
   "metadata": {},
   "outputs": [],
   "source": [
    "keras.backend.clear_session()\n",
    "np.random.seed(1212)\n",
    "tf.random.set_seed(1212)"
   ]
  },
  {
   "cell_type": "code",
   "execution_count": 234,
   "id": "f30d5da8",
   "metadata": {},
   "outputs": [],
   "source": [
    "model = keras.models.Sequential([\n",
    "    keras.layers.Flatten(input_shape=[32, 32,3]),\n",
    "    keras.layers.Dense(300, activation=\"relu\"),\n",
    "    keras.layers.Dense(100, activation=\"relu\"),\n",
    "    keras.layers.Dense(10, activation=\"softmax\")\n",
    "])"
   ]
  },
  {
   "cell_type": "code",
   "execution_count": 235,
   "id": "e6563114",
   "metadata": {},
   "outputs": [
    {
     "data": {
      "text/plain": [
       "[<keras.layers.core.flatten.Flatten at 0x7faa287b6100>,\n",
       " <keras.layers.core.dense.Dense at 0x7faa287b6df0>,\n",
       " <keras.layers.core.dense.Dense at 0x7faa287b6220>,\n",
       " <keras.layers.core.dense.Dense at 0x7faa28669340>]"
      ]
     },
     "execution_count": 235,
     "metadata": {},
     "output_type": "execute_result"
    }
   ],
   "source": [
    "model.layers"
   ]
  },
  {
   "cell_type": "code",
   "execution_count": 236,
   "id": "f53c0860",
   "metadata": {},
   "outputs": [
    {
     "name": "stdout",
     "output_type": "stream",
     "text": [
      "Model: \"sequential\"\n",
      "_________________________________________________________________\n",
      " Layer (type)                Output Shape              Param #   \n",
      "=================================================================\n",
      " flatten (Flatten)           (None, 3072)              0         \n",
      "                                                                 \n",
      " dense (Dense)               (None, 300)               921900    \n",
      "                                                                 \n",
      " dense_1 (Dense)             (None, 100)               30100     \n",
      "                                                                 \n",
      " dense_2 (Dense)             (None, 10)                1010      \n",
      "                                                                 \n",
      "=================================================================\n",
      "Total params: 953,010\n",
      "Trainable params: 953,010\n",
      "Non-trainable params: 0\n",
      "_________________________________________________________________\n"
     ]
    }
   ],
   "source": [
    "model.summary()"
   ]
  },
  {
   "cell_type": "code",
   "execution_count": 237,
   "id": "24f866e8",
   "metadata": {},
   "outputs": [
    {
     "data": {
      "image/png": "[encoded data removed]",
      "text/plain": [
       "<IPython.core.display.Image object>"
      ]
     },
     "execution_count": 237,
     "metadata": {},
     "output_type": "execute_result"
    }
   ],
   "source": [
    "keras.utils.plot_model(model, \"my_model.png\", show_shapes=True)"
   ]
  },
  {
   "cell_type": "markdown",
   "id": "820a25fa",
   "metadata": {},
   "source": [
    "**Make sure `test_set` is available and pixel in the range of `0 - 1`**"
   ]
  },
  {
   "cell_type": "code",
   "execution_count": 238,
   "id": "3e3996b0",
   "metadata": {},
   "outputs": [],
   "source": [
    "X_test = X_test "
   ]
  },
  {
   "cell_type": "code",
   "execution_count": 239,
   "id": "654cebed",
   "metadata": {},
   "outputs": [
    {
     "data": {
      "text/plain": [
       "array([[[[0.61960787, 0.4392157 , 0.19215687],\n",
       "         [0.62352943, 0.43529412, 0.18431373],\n",
       "         [0.64705884, 0.45490196, 0.2       ],\n",
       "         ...,\n",
       "         [0.5372549 , 0.37254903, 0.14117648],\n",
       "         [0.49411765, 0.35686275, 0.14117648],\n",
       "         [0.45490196, 0.33333334, 0.12941177]],\n",
       "\n",
       "        [[0.59607846, 0.4392157 , 0.2       ],\n",
       "         [0.5921569 , 0.43137255, 0.15686275],\n",
       "         [0.62352943, 0.44705883, 0.1764706 ],\n",
       "         ...,\n",
       "         [0.53333336, 0.37254903, 0.12156863],\n",
       "         [0.49019608, 0.35686275, 0.1254902 ],\n",
       "         [0.46666667, 0.34509805, 0.13333334]],\n",
       "\n",
       "        [[0.5921569 , 0.43137255, 0.18431373],\n",
       "         [0.5921569 , 0.42745098, 0.12941177],\n",
       "         [0.61960787, 0.43529412, 0.14117648],\n",
       "         ...,\n",
       "         [0.54509807, 0.38431373, 0.13333334],\n",
       "         [0.50980395, 0.37254903, 0.13333334],\n",
       "         [0.47058824, 0.34901962, 0.12941177]],\n",
       "\n",
       "        ...,\n",
       "\n",
       "        [[0.26666668, 0.4862745 , 0.69411767],\n",
       "         [0.16470589, 0.39215687, 0.5803922 ],\n",
       "         [0.12156863, 0.34509805, 0.5372549 ],\n",
       "         ...,\n",
       "         [0.14901961, 0.38039216, 0.57254905],\n",
       "         [0.05098039, 0.2509804 , 0.42352942],\n",
       "         [0.15686275, 0.33333334, 0.49803922]],\n",
       "\n",
       "        [[0.23921569, 0.45490196, 0.65882355],\n",
       "         [0.19215687, 0.4       , 0.5803922 ],\n",
       "         [0.13725491, 0.33333334, 0.5176471 ],\n",
       "         ...,\n",
       "         [0.10196079, 0.32156864, 0.50980395],\n",
       "         [0.11372549, 0.32156864, 0.49411765],\n",
       "         [0.07843138, 0.2509804 , 0.41960785]],\n",
       "\n",
       "        [[0.21176471, 0.41960785, 0.627451  ],\n",
       "         [0.21960784, 0.4117647 , 0.58431375],\n",
       "         [0.1764706 , 0.34901962, 0.5176471 ],\n",
       "         ...,\n",
       "         [0.09411765, 0.3019608 , 0.4862745 ],\n",
       "         [0.13333334, 0.32941177, 0.5058824 ],\n",
       "         [0.08235294, 0.2627451 , 0.43137255]]],\n",
       "\n",
       "\n",
       "       [[[0.92156863, 0.92156863, 0.92156863],\n",
       "         [0.90588236, 0.90588236, 0.90588236],\n",
       "         [0.9098039 , 0.9098039 , 0.9098039 ],\n",
       "         ...,\n",
       "         [0.9137255 , 0.9137255 , 0.9137255 ],\n",
       "         [0.9137255 , 0.9137255 , 0.9137255 ],\n",
       "         [0.9098039 , 0.9098039 , 0.9098039 ]],\n",
       "\n",
       "        [[0.93333334, 0.93333334, 0.93333334],\n",
       "         [0.92156863, 0.92156863, 0.92156863],\n",
       "         [0.92156863, 0.92156863, 0.92156863],\n",
       "         ...,\n",
       "         [0.9254902 , 0.9254902 , 0.9254902 ],\n",
       "         [0.9254902 , 0.9254902 , 0.9254902 ],\n",
       "         [0.92156863, 0.92156863, 0.92156863]],\n",
       "\n",
       "        [[0.92941177, 0.92941177, 0.92941177],\n",
       "         [0.91764706, 0.91764706, 0.91764706],\n",
       "         [0.91764706, 0.91764706, 0.91764706],\n",
       "         ...,\n",
       "         [0.92156863, 0.92156863, 0.92156863],\n",
       "         [0.92156863, 0.92156863, 0.92156863],\n",
       "         [0.91764706, 0.91764706, 0.91764706]],\n",
       "\n",
       "        ...,\n",
       "\n",
       "        [[0.34117648, 0.3882353 , 0.34901962],\n",
       "         [0.16862746, 0.2       , 0.14509805],\n",
       "         [0.07450981, 0.09019608, 0.04313726],\n",
       "         ...,\n",
       "         [0.6627451 , 0.72156864, 0.7019608 ],\n",
       "         [0.7137255 , 0.77254903, 0.75686276],\n",
       "         [0.7372549 , 0.7921569 , 0.7882353 ]],\n",
       "\n",
       "        [[0.32156864, 0.3764706 , 0.32156864],\n",
       "         [0.18039216, 0.22352941, 0.14117648],\n",
       "         [0.14117648, 0.17254902, 0.08627451],\n",
       "         ...,\n",
       "         [0.68235296, 0.7411765 , 0.7176471 ],\n",
       "         [0.7254902 , 0.78431374, 0.76862746],\n",
       "         [0.73333335, 0.7921569 , 0.78431374]],\n",
       "\n",
       "        [[0.33333334, 0.39607844, 0.3254902 ],\n",
       "         [0.24313726, 0.29411766, 0.1882353 ],\n",
       "         [0.22745098, 0.2627451 , 0.14901961],\n",
       "         ...,\n",
       "         [0.65882355, 0.7176471 , 0.69803923],\n",
       "         [0.7058824 , 0.7647059 , 0.7490196 ],\n",
       "         [0.7294118 , 0.78431374, 0.78039217]]],\n",
       "\n",
       "\n",
       "       [[[0.61960787, 0.74509805, 0.87058824],\n",
       "         [0.61960787, 0.73333335, 0.85490197],\n",
       "         [0.54509807, 0.6509804 , 0.7607843 ],\n",
       "         ...,\n",
       "         [0.89411765, 0.90588236, 0.91764706],\n",
       "         [0.92941177, 0.9372549 , 0.9529412 ],\n",
       "         [0.93333334, 0.94509804, 0.9647059 ]],\n",
       "\n",
       "        [[0.6666667 , 0.78431374, 0.8980392 ],\n",
       "         [0.6745098 , 0.78039217, 0.8862745 ],\n",
       "         [0.5921569 , 0.6901961 , 0.7882353 ],\n",
       "         ...,\n",
       "         [0.9098039 , 0.9098039 , 0.9254902 ],\n",
       "         [0.9647059 , 0.9647059 , 0.98039216],\n",
       "         [0.9647059 , 0.96862745, 0.9843137 ]],\n",
       "\n",
       "        [[0.68235296, 0.7882353 , 0.88235295],\n",
       "         [0.6901961 , 0.78431374, 0.87058824],\n",
       "         [0.6156863 , 0.7019608 , 0.78039217],\n",
       "         ...,\n",
       "         [0.9019608 , 0.8980392 , 0.9098039 ],\n",
       "         [0.98039216, 0.9764706 , 0.9843137 ],\n",
       "         [0.9607843 , 0.95686275, 0.96862745]],\n",
       "\n",
       "        ...,\n",
       "\n",
       "        [[0.12156863, 0.15686275, 0.1764706 ],\n",
       "         [0.11764706, 0.15294118, 0.17254902],\n",
       "         [0.10196079, 0.13725491, 0.15686275],\n",
       "         ...,\n",
       "         [0.14509805, 0.15686275, 0.18039216],\n",
       "         [0.03529412, 0.05098039, 0.05490196],\n",
       "         [0.01568628, 0.02745098, 0.01960784]],\n",
       "\n",
       "        [[0.09019608, 0.13333334, 0.15294118],\n",
       "         [0.10588235, 0.14901961, 0.16862746],\n",
       "         [0.09803922, 0.14117648, 0.16078432],\n",
       "         ...,\n",
       "         [0.07450981, 0.07843138, 0.09411765],\n",
       "         [0.01568628, 0.02352941, 0.01176471],\n",
       "         [0.01960784, 0.02745098, 0.01176471]],\n",
       "\n",
       "        [[0.10980392, 0.16078432, 0.18431373],\n",
       "         [0.11764706, 0.16862746, 0.19607843],\n",
       "         [0.1254902 , 0.1764706 , 0.20392157],\n",
       "         ...,\n",
       "         [0.01960784, 0.02352941, 0.03137255],\n",
       "         [0.01568628, 0.01960784, 0.01176471],\n",
       "         [0.02745098, 0.03137255, 0.02745098]]],\n",
       "\n",
       "\n",
       "       ...,\n",
       "\n",
       "\n",
       "       [[[0.07843138, 0.05882353, 0.04705882],\n",
       "         [0.07450981, 0.05490196, 0.04313726],\n",
       "         [0.05882353, 0.05490196, 0.04313726],\n",
       "         ...,\n",
       "         [0.03921569, 0.03529412, 0.02745098],\n",
       "         [0.04705882, 0.04313726, 0.03529412],\n",
       "         [0.05098039, 0.04705882, 0.03921569]],\n",
       "\n",
       "        [[0.08235294, 0.0627451 , 0.05098039],\n",
       "         [0.07843138, 0.0627451 , 0.05098039],\n",
       "         [0.07058824, 0.06666667, 0.04705882],\n",
       "         ...,\n",
       "         [0.03921569, 0.03529412, 0.02745098],\n",
       "         [0.03921569, 0.03529412, 0.02745098],\n",
       "         [0.04705882, 0.04313726, 0.03529412]],\n",
       "\n",
       "        [[0.08235294, 0.0627451 , 0.05098039],\n",
       "         [0.08235294, 0.06666667, 0.04705882],\n",
       "         [0.07843138, 0.07058824, 0.04313726],\n",
       "         ...,\n",
       "         [0.04705882, 0.04313726, 0.03529412],\n",
       "         [0.04705882, 0.04313726, 0.03529412],\n",
       "         [0.05098039, 0.04705882, 0.03921569]],\n",
       "\n",
       "        ...,\n",
       "\n",
       "        [[0.12941177, 0.09803922, 0.05098039],\n",
       "         [0.13333334, 0.10196079, 0.05882353],\n",
       "         [0.13333334, 0.10196079, 0.05882353],\n",
       "         ...,\n",
       "         [0.10980392, 0.09803922, 0.20392157],\n",
       "         [0.11372549, 0.09803922, 0.22745098],\n",
       "         [0.09019608, 0.07843138, 0.16470589]],\n",
       "\n",
       "        [[0.12941177, 0.09803922, 0.05490196],\n",
       "         [0.13333334, 0.10196079, 0.05882353],\n",
       "         [0.13333334, 0.10196079, 0.05882353],\n",
       "         ...,\n",
       "         [0.10588235, 0.09411765, 0.20392157],\n",
       "         [0.10588235, 0.09411765, 0.21960784],\n",
       "         [0.09803922, 0.08627451, 0.18431373]],\n",
       "\n",
       "        [[0.12156863, 0.09019608, 0.04705882],\n",
       "         [0.1254902 , 0.09411765, 0.05098039],\n",
       "         [0.12941177, 0.09803922, 0.05490196],\n",
       "         ...,\n",
       "         [0.09411765, 0.09019608, 0.19607843],\n",
       "         [0.10196079, 0.09019608, 0.20784314],\n",
       "         [0.09803922, 0.07843138, 0.18431373]]],\n",
       "\n",
       "\n",
       "       [[[0.09803922, 0.15686275, 0.04705882],\n",
       "         [0.05882353, 0.14117648, 0.01176471],\n",
       "         [0.09019608, 0.16078432, 0.07058824],\n",
       "         ...,\n",
       "         [0.23921569, 0.32156864, 0.30588236],\n",
       "         [0.36078432, 0.44313726, 0.4392157 ],\n",
       "         [0.29411766, 0.34901962, 0.36078432]],\n",
       "\n",
       "        [[0.04705882, 0.09803922, 0.02352941],\n",
       "         [0.07843138, 0.14509805, 0.02745098],\n",
       "         [0.09411765, 0.14117648, 0.05882353],\n",
       "         ...,\n",
       "         [0.4509804 , 0.5254902 , 0.5411765 ],\n",
       "         [0.58431375, 0.65882355, 0.69411767],\n",
       "         [0.40784314, 0.45882353, 0.5137255 ]],\n",
       "\n",
       "        [[0.04705882, 0.09803922, 0.04313726],\n",
       "         [0.05882353, 0.11372549, 0.02352941],\n",
       "         [0.13333334, 0.15686275, 0.09411765],\n",
       "         ...,\n",
       "         [0.6039216 , 0.6745098 , 0.7137255 ],\n",
       "         [0.6156863 , 0.6862745 , 0.7529412 ],\n",
       "         [0.45490196, 0.5058824 , 0.5921569 ]],\n",
       "\n",
       "        ...,\n",
       "\n",
       "        [[0.39215687, 0.5058824 , 0.31764707],\n",
       "         [0.40392157, 0.5176471 , 0.32941177],\n",
       "         [0.40784314, 0.5254902 , 0.3372549 ],\n",
       "         ...,\n",
       "         [0.38039216, 0.5019608 , 0.32941177],\n",
       "         [0.38431373, 0.49411765, 0.32941177],\n",
       "         [0.35686275, 0.4745098 , 0.30980393]],\n",
       "\n",
       "        [[0.40392157, 0.5176471 , 0.3254902 ],\n",
       "         [0.40784314, 0.5137255 , 0.3254902 ],\n",
       "         [0.41960785, 0.5294118 , 0.34117648],\n",
       "         ...,\n",
       "         [0.39607844, 0.5176471 , 0.34117648],\n",
       "         [0.3882353 , 0.49803922, 0.32941177],\n",
       "         [0.36078432, 0.4745098 , 0.30980393]],\n",
       "\n",
       "        [[0.37254903, 0.49411765, 0.30588236],\n",
       "         [0.37254903, 0.48235294, 0.29803923],\n",
       "         [0.39607844, 0.5019608 , 0.31764707],\n",
       "         ...,\n",
       "         [0.3647059 , 0.4862745 , 0.3137255 ],\n",
       "         [0.37254903, 0.48235294, 0.31764707],\n",
       "         [0.36078432, 0.47058824, 0.3137255 ]]],\n",
       "\n",
       "\n",
       "       [[[0.28627452, 0.30588236, 0.29411766],\n",
       "         [0.38431373, 0.40392157, 0.44313726],\n",
       "         [0.3882353 , 0.41568628, 0.44705883],\n",
       "         ...,\n",
       "         [0.5294118 , 0.5882353 , 0.59607846],\n",
       "         [0.5294118 , 0.58431375, 0.6039216 ],\n",
       "         [0.79607844, 0.84313726, 0.8745098 ]],\n",
       "\n",
       "        [[0.27058825, 0.28627452, 0.27450982],\n",
       "         [0.32941177, 0.34901962, 0.38039216],\n",
       "         [0.26666668, 0.29411766, 0.31764707],\n",
       "         ...,\n",
       "         [0.33333334, 0.37254903, 0.34901962],\n",
       "         [0.2784314 , 0.32156864, 0.3137255 ],\n",
       "         [0.47058824, 0.52156866, 0.5294118 ]],\n",
       "\n",
       "        [[0.27058825, 0.28627452, 0.27450982],\n",
       "         [0.3529412 , 0.37254903, 0.39215687],\n",
       "         [0.24313726, 0.2784314 , 0.2901961 ],\n",
       "         ...,\n",
       "         [0.2901961 , 0.31764707, 0.27450982],\n",
       "         [0.20784314, 0.24313726, 0.21176471],\n",
       "         [0.24313726, 0.2901961 , 0.27058825]],\n",
       "\n",
       "        ...,\n",
       "\n",
       "        [[0.48235294, 0.5019608 , 0.3764706 ],\n",
       "         [0.5176471 , 0.5176471 , 0.4       ],\n",
       "         [0.5058824 , 0.5019608 , 0.39215687],\n",
       "         ...,\n",
       "         [0.42352942, 0.41960785, 0.34509805],\n",
       "         [0.24313726, 0.23529412, 0.21568628],\n",
       "         [0.10588235, 0.10588235, 0.10980392]],\n",
       "\n",
       "        [[0.4509804 , 0.4745098 , 0.35686275],\n",
       "         [0.48235294, 0.4862745 , 0.37254903],\n",
       "         [0.5058824 , 0.49411765, 0.3882353 ],\n",
       "         ...,\n",
       "         [0.4509804 , 0.45490196, 0.36862746],\n",
       "         [0.25882354, 0.25490198, 0.23137255],\n",
       "         [0.10588235, 0.10588235, 0.10588235]],\n",
       "\n",
       "        [[0.45490196, 0.47058824, 0.3529412 ],\n",
       "         [0.4745098 , 0.47843137, 0.36862746],\n",
       "         [0.5058824 , 0.5019608 , 0.39607844],\n",
       "         ...,\n",
       "         [0.45490196, 0.4509804 , 0.36862746],\n",
       "         [0.26666668, 0.25490198, 0.22745098],\n",
       "         [0.10588235, 0.10196079, 0.10196079]]]], dtype=float32)"
      ]
     },
     "execution_count": 239,
     "metadata": {},
     "output_type": "execute_result"
    }
   ],
   "source": [
    "X_test"
   ]
  },
  {
   "cell_type": "code",
   "execution_count": 240,
   "id": "29f6db19",
   "metadata": {},
   "outputs": [
    {
     "data": {
      "image/png": "[encoded data removed]",
      "text/plain": [
       "<Figure size 518.4x172.8 with 3 Axes>"
      ]
     },
     "metadata": {
      "needs_background": "light"
     },
     "output_type": "display_data"
    }
   ],
   "source": [
    "X_new = X_test[:3]\n",
    "plt.figure(figsize=(7.2, 2.4))\n",
    "for index, image in enumerate(X_new):\n",
    "    plt.subplot(1, 3, index + 1)\n",
    "    plt.imshow(image, cmap=\"binary\", interpolation=\"nearest\")\n",
    "    plt.axis('off')\n",
    "    plt.title(class_names[y_test[index]], fontsize=12)\n",
    "plt.subplots_adjust(wspace=0.2, hspace=0.5)\n",
    "plt.show()"
   ]
  },
  {
   "cell_type": "code",
   "execution_count": 241,
   "id": "97c1175a",
   "metadata": {},
   "outputs": [
    {
     "data": {
      "text/plain": [
       "'dense'"
      ]
     },
     "execution_count": 241,
     "metadata": {},
     "output_type": "execute_result"
    }
   ],
   "source": [
    "hidden1 = model.layers[1]\n",
    "hidden1.name"
   ]
  },
  {
   "cell_type": "code",
   "execution_count": 242,
   "id": "28dd069d",
   "metadata": {},
   "outputs": [
    {
     "data": {
      "text/plain": [
       "True"
      ]
     },
     "execution_count": 242,
     "metadata": {},
     "output_type": "execute_result"
    }
   ],
   "source": [
    "model.get_layer(hidden1.name) is hidden1"
   ]
  },
  {
   "cell_type": "code",
   "execution_count": 243,
   "id": "66b87f9e",
   "metadata": {},
   "outputs": [],
   "source": [
    "weights, biases = hidden1.get_weights()"
   ]
  },
  {
   "cell_type": "code",
   "execution_count": 244,
   "id": "f5c456b8",
   "metadata": {},
   "outputs": [
    {
     "data": {
      "text/plain": [
       "array([[ 0.00290778, -0.02502801, -0.00946325, ..., -0.0018251 ,\n",
       "        -0.01746258, -0.04023496],\n",
       "       [ 0.02503406, -0.00271341,  0.0404542 , ..., -0.02542598,\n",
       "         0.01292249,  0.03839067],\n",
       "       [-0.0173699 ,  0.04038252, -0.00562659, ...,  0.02842794,\n",
       "        -0.00296566, -0.01260922],\n",
       "       ...,\n",
       "       [-0.03425898,  0.02725308,  0.00110051, ...,  0.03736731,\n",
       "         0.02166724, -0.03108309],\n",
       "       [ 0.00224173, -0.00497047, -0.02832862, ...,  0.02418069,\n",
       "        -0.01491091, -0.03431574],\n",
       "       [-0.02254697, -0.01831108,  0.00792268, ...,  0.04051621,\n",
       "         0.00986737,  0.03238392]], dtype=float32)"
      ]
     },
     "execution_count": 244,
     "metadata": {},
     "output_type": "execute_result"
    }
   ],
   "source": [
    "weights"
   ]
  },
  {
   "cell_type": "code",
   "execution_count": 245,
   "id": "098a0746",
   "metadata": {},
   "outputs": [
    {
     "data": {
      "text/plain": [
       "(3072, 300)"
      ]
     },
     "execution_count": 245,
     "metadata": {},
     "output_type": "execute_result"
    }
   ],
   "source": [
    "weights.shape"
   ]
  },
  {
   "cell_type": "code",
   "execution_count": 246,
   "id": "e0def82c",
   "metadata": {},
   "outputs": [
    {
     "data": {
      "text/plain": [
       "array([0., 0., 0., 0., 0., 0., 0., 0., 0., 0., 0., 0., 0., 0., 0., 0., 0.,\n",
       "       0., 0., 0., 0., 0., 0., 0., 0., 0., 0., 0., 0., 0., 0., 0., 0., 0.,\n",
       "       0., 0., 0., 0., 0., 0., 0., 0., 0., 0., 0., 0., 0., 0., 0., 0., 0.,\n",
       "       0., 0., 0., 0., 0., 0., 0., 0., 0., 0., 0., 0., 0., 0., 0., 0., 0.,\n",
       "       0., 0., 0., 0., 0., 0., 0., 0., 0., 0., 0., 0., 0., 0., 0., 0., 0.,\n",
       "       0., 0., 0., 0., 0., 0., 0., 0., 0., 0., 0., 0., 0., 0., 0., 0., 0.,\n",
       "       0., 0., 0., 0., 0., 0., 0., 0., 0., 0., 0., 0., 0., 0., 0., 0., 0.,\n",
       "       0., 0., 0., 0., 0., 0., 0., 0., 0., 0., 0., 0., 0., 0., 0., 0., 0.,\n",
       "       0., 0., 0., 0., 0., 0., 0., 0., 0., 0., 0., 0., 0., 0., 0., 0., 0.,\n",
       "       0., 0., 0., 0., 0., 0., 0., 0., 0., 0., 0., 0., 0., 0., 0., 0., 0.,\n",
       "       0., 0., 0., 0., 0., 0., 0., 0., 0., 0., 0., 0., 0., 0., 0., 0., 0.,\n",
       "       0., 0., 0., 0., 0., 0., 0., 0., 0., 0., 0., 0., 0., 0., 0., 0., 0.,\n",
       "       0., 0., 0., 0., 0., 0., 0., 0., 0., 0., 0., 0., 0., 0., 0., 0., 0.,\n",
       "       0., 0., 0., 0., 0., 0., 0., 0., 0., 0., 0., 0., 0., 0., 0., 0., 0.,\n",
       "       0., 0., 0., 0., 0., 0., 0., 0., 0., 0., 0., 0., 0., 0., 0., 0., 0.,\n",
       "       0., 0., 0., 0., 0., 0., 0., 0., 0., 0., 0., 0., 0., 0., 0., 0., 0.,\n",
       "       0., 0., 0., 0., 0., 0., 0., 0., 0., 0., 0., 0., 0., 0., 0., 0., 0.,\n",
       "       0., 0., 0., 0., 0., 0., 0., 0., 0., 0., 0.], dtype=float32)"
      ]
     },
     "execution_count": 246,
     "metadata": {},
     "output_type": "execute_result"
    }
   ],
   "source": [
    "biases"
   ]
  },
  {
   "cell_type": "code",
   "execution_count": 247,
   "id": "5b949faf",
   "metadata": {},
   "outputs": [
    {
     "data": {
      "text/plain": [
       "(300,)"
      ]
     },
     "execution_count": 247,
     "metadata": {},
     "output_type": "execute_result"
    }
   ],
   "source": [
    "biases.shape"
   ]
  },
  {
   "cell_type": "code",
   "execution_count": 248,
   "id": "4ff20073",
   "metadata": {},
   "outputs": [],
   "source": [
    "model.compile(loss=\"sparse_categorical_crossentropy\",\n",
    "              optimizer=\"sgd\",\n",
    "              metrics=[\"accuracy\"])"
   ]
  },
  {
   "cell_type": "code",
   "execution_count": 249,
   "id": "3a3a0eb3",
   "metadata": {},
   "outputs": [
    {
     "name": "stdout",
     "output_type": "stream",
     "text": [
      "Epoch 1/100\n",
      "1329/1329 [==============================] - 6s 4ms/step - loss: 1.9011 - accuracy: 0.3183 - val_loss: 1.9214 - val_accuracy: 0.3039\n",
      "Epoch 2/100\n",
      "1329/1329 [==============================] - 6s 4ms/step - loss: 1.7245 - accuracy: 0.3869 - val_loss: 1.8740 - val_accuracy: 0.2995\n",
      "Epoch 3/100\n",
      "1329/1329 [==============================] - 5s 4ms/step - loss: 1.6420 - accuracy: 0.4182 - val_loss: 1.5946 - val_accuracy: 0.4280\n",
      "Epoch 4/100\n",
      "1329/1329 [==============================] - 6s 4ms/step - loss: 1.5827 - accuracy: 0.4372 - val_loss: 1.6100 - val_accuracy: 0.4208\n",
      "Epoch 5/100\n",
      "1329/1329 [==============================] - 6s 4ms/step - loss: 1.5422 - accuracy: 0.4543 - val_loss: 1.7508 - val_accuracy: 0.3620\n",
      "Epoch 6/100\n",
      "1329/1329 [==============================] - 6s 4ms/step - loss: 1.5057 - accuracy: 0.4661 - val_loss: 1.7002 - val_accuracy: 0.3943\n",
      "Epoch 7/100\n",
      "1329/1329 [==============================] - 5s 4ms/step - loss: 1.4734 - accuracy: 0.4769 - val_loss: 2.8419 - val_accuracy: 0.2609\n",
      "Epoch 8/100\n",
      "1329/1329 [==============================] - 6s 4ms/step - loss: 1.4475 - accuracy: 0.4864 - val_loss: 1.6846 - val_accuracy: 0.4072\n",
      "Epoch 9/100\n",
      "1329/1329 [==============================] - 6s 4ms/step - loss: 1.4194 - accuracy: 0.4968 - val_loss: 1.6694 - val_accuracy: 0.4176\n",
      "Epoch 10/100\n",
      "1329/1329 [==============================] - 6s 4ms/step - loss: 1.3925 - accuracy: 0.5075 - val_loss: 1.5135 - val_accuracy: 0.4547\n",
      "Epoch 11/100\n",
      "1329/1329 [==============================] - 5s 4ms/step - loss: 1.3719 - accuracy: 0.5124 - val_loss: 1.5023 - val_accuracy: 0.4713\n",
      "Epoch 12/100\n",
      "1329/1329 [==============================] - 5s 4ms/step - loss: 1.3524 - accuracy: 0.5223 - val_loss: 1.5352 - val_accuracy: 0.4508\n",
      "Epoch 13/100\n",
      "1329/1329 [==============================] - 6s 4ms/step - loss: 1.3293 - accuracy: 0.5290 - val_loss: 1.4812 - val_accuracy: 0.4697\n",
      "Epoch 14/100\n",
      "1329/1329 [==============================] - 5s 4ms/step - loss: 1.3111 - accuracy: 0.5376 - val_loss: 2.0882 - val_accuracy: 0.3447\n",
      "Epoch 15/100\n",
      "1329/1329 [==============================] - 6s 4ms/step - loss: 1.2922 - accuracy: 0.5436 - val_loss: 2.1381 - val_accuracy: 0.3521\n",
      "Epoch 16/100\n",
      "1329/1329 [==============================] - 6s 4ms/step - loss: 1.2753 - accuracy: 0.5505 - val_loss: 1.7823 - val_accuracy: 0.3861\n",
      "Epoch 17/100\n",
      "1329/1329 [==============================] - 6s 4ms/step - loss: 1.2609 - accuracy: 0.5554 - val_loss: 1.5204 - val_accuracy: 0.4684\n",
      "Epoch 18/100\n",
      "1329/1329 [==============================] - 6s 4ms/step - loss: 1.2423 - accuracy: 0.5605 - val_loss: 1.5874 - val_accuracy: 0.4496\n",
      "Epoch 19/100\n",
      "1329/1329 [==============================] - 5s 4ms/step - loss: 1.2228 - accuracy: 0.5692 - val_loss: 1.7136 - val_accuracy: 0.4172\n",
      "Epoch 20/100\n",
      "1329/1329 [==============================] - 6s 4ms/step - loss: 1.2082 - accuracy: 0.5748 - val_loss: 1.4575 - val_accuracy: 0.4921\n",
      "Epoch 21/100\n",
      "1329/1329 [==============================] - 6s 4ms/step - loss: 1.1912 - accuracy: 0.5819 - val_loss: 1.6003 - val_accuracy: 0.4585\n",
      "Epoch 22/100\n",
      "1329/1329 [==============================] - 6s 4ms/step - loss: 1.1801 - accuracy: 0.5828 - val_loss: 1.4866 - val_accuracy: 0.4755\n",
      "Epoch 23/100\n",
      "1329/1329 [==============================] - 5s 4ms/step - loss: 1.1650 - accuracy: 0.5909 - val_loss: 1.8090 - val_accuracy: 0.4092\n",
      "Epoch 24/100\n",
      "1329/1329 [==============================] - 5s 4ms/step - loss: 1.1502 - accuracy: 0.5948 - val_loss: 1.5415 - val_accuracy: 0.4781\n",
      "Epoch 25/100\n",
      "1329/1329 [==============================] - 5s 4ms/step - loss: 1.1330 - accuracy: 0.6008 - val_loss: 2.1579 - val_accuracy: 0.3675\n",
      "Epoch 26/100\n",
      "1329/1329 [==============================] - 6s 4ms/step - loss: 1.1234 - accuracy: 0.6040 - val_loss: 1.6103 - val_accuracy: 0.4645\n",
      "Epoch 27/100\n",
      "1329/1329 [==============================] - 5s 4ms/step - loss: 1.1069 - accuracy: 0.6112 - val_loss: 2.5577 - val_accuracy: 0.3115\n",
      "Epoch 28/100\n",
      "1329/1329 [==============================] - 5s 4ms/step - loss: 1.0972 - accuracy: 0.6124 - val_loss: 1.6622 - val_accuracy: 0.4515\n",
      "Epoch 29/100\n",
      "1329/1329 [==============================] - 6s 4ms/step - loss: 1.0776 - accuracy: 0.6210 - val_loss: 1.5697 - val_accuracy: 0.4760\n",
      "Epoch 30/100\n",
      "1329/1329 [==============================] - 5s 4ms/step - loss: 1.0667 - accuracy: 0.6253 - val_loss: 1.7104 - val_accuracy: 0.4356\n",
      "Epoch 31/100\n",
      "1329/1329 [==============================] - 5s 4ms/step - loss: 1.0504 - accuracy: 0.6286 - val_loss: 1.6134 - val_accuracy: 0.4641\n",
      "Epoch 32/100\n",
      "1329/1329 [==============================] - 5s 4ms/step - loss: 1.0399 - accuracy: 0.6341 - val_loss: 1.7752 - val_accuracy: 0.4336\n",
      "Epoch 33/100\n",
      "1329/1329 [==============================] - 6s 4ms/step - loss: 1.0279 - accuracy: 0.6385 - val_loss: 1.7695 - val_accuracy: 0.4407\n",
      "Epoch 34/100\n",
      "1329/1329 [==============================] - 6s 4ms/step - loss: 1.0159 - accuracy: 0.6413 - val_loss: 1.5380 - val_accuracy: 0.4899\n",
      "Epoch 35/100\n",
      "1329/1329 [==============================] - 6s 4ms/step - loss: 1.0016 - accuracy: 0.6491 - val_loss: 1.5034 - val_accuracy: 0.4936\n",
      "Epoch 36/100\n",
      "1329/1329 [==============================] - 5s 4ms/step - loss: 0.9848 - accuracy: 0.6552 - val_loss: 1.8972 - val_accuracy: 0.4216\n",
      "Epoch 37/100\n",
      "1329/1329 [==============================] - 6s 4ms/step - loss: 0.9764 - accuracy: 0.6555 - val_loss: 1.5390 - val_accuracy: 0.4783\n",
      "Epoch 38/100\n",
      "1329/1329 [==============================] - 5s 4ms/step - loss: 0.9625 - accuracy: 0.6617 - val_loss: 1.7036 - val_accuracy: 0.4667\n",
      "Epoch 39/100\n",
      "1329/1329 [==============================] - 5s 4ms/step - loss: 0.9561 - accuracy: 0.6651 - val_loss: 1.6700 - val_accuracy: 0.4733\n",
      "Epoch 40/100\n",
      "1329/1329 [==============================] - 6s 4ms/step - loss: 0.9384 - accuracy: 0.6681 - val_loss: 1.6104 - val_accuracy: 0.4679\n",
      "Epoch 41/100\n",
      "1329/1329 [==============================] - 6s 4ms/step - loss: 0.9280 - accuracy: 0.6723 - val_loss: 1.6190 - val_accuracy: 0.4768\n",
      "Epoch 42/100\n",
      "1329/1329 [==============================] - 6s 5ms/step - loss: 0.9132 - accuracy: 0.6784 - val_loss: 2.1610 - val_accuracy: 0.4228\n",
      "Epoch 43/100\n",
      "1329/1329 [==============================] - 6s 5ms/step - loss: 0.9036 - accuracy: 0.6808 - val_loss: 1.7005 - val_accuracy: 0.4673\n",
      "Epoch 44/100\n",
      "1329/1329 [==============================] - 6s 4ms/step - loss: 0.8922 - accuracy: 0.6870 - val_loss: 1.6629 - val_accuracy: 0.4572\n",
      "Epoch 45/100\n",
      "1329/1329 [==============================] - 6s 5ms/step - loss: 0.8832 - accuracy: 0.6864 - val_loss: 2.0059 - val_accuracy: 0.4416\n",
      "Epoch 46/100\n",
      "1329/1329 [==============================] - 6s 4ms/step - loss: 0.8685 - accuracy: 0.6960 - val_loss: 1.6481 - val_accuracy: 0.4811\n",
      "Epoch 47/100\n",
      "1329/1329 [==============================] - 6s 4ms/step - loss: 0.8581 - accuracy: 0.6986 - val_loss: 1.6584 - val_accuracy: 0.4805\n",
      "Epoch 48/100\n",
      "1329/1329 [==============================] - 6s 4ms/step - loss: 0.8468 - accuracy: 0.7050 - val_loss: 1.4832 - val_accuracy: 0.5148\n",
      "Epoch 49/100\n",
      "1329/1329 [==============================] - 6s 5ms/step - loss: 0.8352 - accuracy: 0.7069 - val_loss: 1.6383 - val_accuracy: 0.4865\n",
      "Epoch 50/100\n",
      "1329/1329 [==============================] - 6s 4ms/step - loss: 0.8228 - accuracy: 0.7108 - val_loss: 4.5303 - val_accuracy: 0.2277\n",
      "Epoch 51/100\n",
      "1329/1329 [==============================] - 6s 4ms/step - loss: 0.8174 - accuracy: 0.7111 - val_loss: 2.1293 - val_accuracy: 0.4057\n",
      "Epoch 52/100\n",
      "1329/1329 [==============================] - 6s 4ms/step - loss: 0.8044 - accuracy: 0.7164 - val_loss: 1.8427 - val_accuracy: 0.4621\n",
      "Epoch 53/100\n",
      "1329/1329 [==============================] - 5s 4ms/step - loss: 0.7905 - accuracy: 0.7244 - val_loss: 1.8364 - val_accuracy: 0.4720\n",
      "Epoch 54/100\n",
      "1329/1329 [==============================] - 6s 4ms/step - loss: 0.7778 - accuracy: 0.7272 - val_loss: 2.2181 - val_accuracy: 0.4047\n",
      "Epoch 55/100\n",
      "1329/1329 [==============================] - 6s 4ms/step - loss: 0.7703 - accuracy: 0.7290 - val_loss: 1.6863 - val_accuracy: 0.4933\n",
      "Epoch 56/100\n",
      "1329/1329 [==============================] - 5s 4ms/step - loss: 0.7590 - accuracy: 0.7334 - val_loss: 1.6564 - val_accuracy: 0.4940\n",
      "Epoch 57/100\n"
     ]
    },
    {
     "name": "stdout",
     "output_type": "stream",
     "text": [
      "1329/1329 [==============================] - 6s 4ms/step - loss: 0.7438 - accuracy: 0.7392 - val_loss: 3.4720 - val_accuracy: 0.2976\n",
      "Epoch 58/100\n",
      "1329/1329 [==============================] - 6s 4ms/step - loss: 0.7351 - accuracy: 0.7427 - val_loss: 1.9401 - val_accuracy: 0.4587\n",
      "Epoch 59/100\n",
      "1329/1329 [==============================] - 6s 4ms/step - loss: 0.7266 - accuracy: 0.7432 - val_loss: 3.8890 - val_accuracy: 0.2821\n",
      "Epoch 60/100\n",
      "1329/1329 [==============================] - 6s 4ms/step - loss: 0.7219 - accuracy: 0.7469 - val_loss: 2.1164 - val_accuracy: 0.4279\n",
      "Epoch 61/100\n",
      "1329/1329 [==============================] - 6s 4ms/step - loss: 0.7083 - accuracy: 0.7499 - val_loss: 2.7767 - val_accuracy: 0.3597\n",
      "Epoch 62/100\n",
      "1329/1329 [==============================] - 6s 4ms/step - loss: 0.6973 - accuracy: 0.7549 - val_loss: 1.7006 - val_accuracy: 0.5073\n",
      "Epoch 63/100\n",
      "1329/1329 [==============================] - 6s 4ms/step - loss: 0.6830 - accuracy: 0.7588 - val_loss: 2.7436 - val_accuracy: 0.3536\n",
      "Epoch 64/100\n",
      "1329/1329 [==============================] - 6s 4ms/step - loss: 0.6769 - accuracy: 0.7631 - val_loss: 2.3018 - val_accuracy: 0.4244\n",
      "Epoch 65/100\n",
      "1329/1329 [==============================] - 6s 4ms/step - loss: 0.6696 - accuracy: 0.7647 - val_loss: 2.2817 - val_accuracy: 0.4248\n",
      "Epoch 66/100\n",
      "1329/1329 [==============================] - 6s 4ms/step - loss: 0.6559 - accuracy: 0.7709 - val_loss: 2.2638 - val_accuracy: 0.4435\n",
      "Epoch 67/100\n",
      "1329/1329 [==============================] - 6s 4ms/step - loss: 0.6439 - accuracy: 0.7736 - val_loss: 1.6970 - val_accuracy: 0.5224\n",
      "Epoch 68/100\n",
      "1329/1329 [==============================] - 6s 4ms/step - loss: 0.6353 - accuracy: 0.7779 - val_loss: 1.9159 - val_accuracy: 0.4829\n",
      "Epoch 69/100\n",
      "1329/1329 [==============================] - 6s 4ms/step - loss: 0.6279 - accuracy: 0.7792 - val_loss: 1.7481 - val_accuracy: 0.5057\n",
      "Epoch 70/100\n",
      "1329/1329 [==============================] - 6s 4ms/step - loss: 0.6207 - accuracy: 0.7829 - val_loss: 1.7282 - val_accuracy: 0.5005\n",
      "Epoch 71/100\n",
      "1329/1329 [==============================] - 6s 4ms/step - loss: 0.6088 - accuracy: 0.7876 - val_loss: 2.0568 - val_accuracy: 0.4732\n",
      "Epoch 72/100\n",
      "1329/1329 [==============================] - 6s 4ms/step - loss: 0.5984 - accuracy: 0.7916 - val_loss: 1.8161 - val_accuracy: 0.4968\n",
      "Epoch 73/100\n",
      "1329/1329 [==============================] - 6s 4ms/step - loss: 0.5892 - accuracy: 0.7931 - val_loss: 1.8782 - val_accuracy: 0.4937\n",
      "Epoch 74/100\n",
      "1329/1329 [==============================] - 6s 4ms/step - loss: 0.5809 - accuracy: 0.7962 - val_loss: 1.8281 - val_accuracy: 0.5133\n",
      "Epoch 75/100\n",
      "1329/1329 [==============================] - 6s 4ms/step - loss: 0.5721 - accuracy: 0.8005 - val_loss: 2.1421 - val_accuracy: 0.4691\n",
      "Epoch 76/100\n",
      "1329/1329 [==============================] - 6s 4ms/step - loss: 0.5641 - accuracy: 0.8008 - val_loss: 1.9091 - val_accuracy: 0.4980\n",
      "Epoch 77/100\n",
      "1329/1329 [==============================] - 6s 4ms/step - loss: 0.5551 - accuracy: 0.8061 - val_loss: 1.9419 - val_accuracy: 0.4904\n",
      "Epoch 78/100\n",
      "1329/1329 [==============================] - 6s 4ms/step - loss: 0.5487 - accuracy: 0.8085 - val_loss: 1.8881 - val_accuracy: 0.5012\n",
      "Epoch 79/100\n",
      "1329/1329 [==============================] - 6s 4ms/step - loss: 0.5380 - accuracy: 0.8098 - val_loss: 1.9666 - val_accuracy: 0.4924\n",
      "Epoch 80/100\n",
      "1329/1329 [==============================] - 6s 4ms/step - loss: 0.5309 - accuracy: 0.8153 - val_loss: 3.5427 - val_accuracy: 0.3172\n",
      "Epoch 81/100\n",
      "1329/1329 [==============================] - 6s 4ms/step - loss: 0.5262 - accuracy: 0.8159 - val_loss: 1.8766 - val_accuracy: 0.5112\n",
      "Epoch 82/100\n",
      "1329/1329 [==============================] - 6s 4ms/step - loss: 0.5119 - accuracy: 0.8218 - val_loss: 1.9995 - val_accuracy: 0.4967\n",
      "Epoch 83/100\n",
      "1329/1329 [==============================] - 6s 4ms/step - loss: 0.4988 - accuracy: 0.8265 - val_loss: 2.1225 - val_accuracy: 0.4796\n",
      "Epoch 84/100\n",
      "1329/1329 [==============================] - 6s 4ms/step - loss: 0.4922 - accuracy: 0.8289 - val_loss: 2.0151 - val_accuracy: 0.5123\n",
      "Epoch 85/100\n",
      "1329/1329 [==============================] - 6s 4ms/step - loss: 0.4840 - accuracy: 0.8320 - val_loss: 2.6602 - val_accuracy: 0.4265\n",
      "Epoch 86/100\n",
      "1329/1329 [==============================] - 6s 4ms/step - loss: 0.4863 - accuracy: 0.8310 - val_loss: 1.9778 - val_accuracy: 0.5123\n",
      "Epoch 87/100\n",
      "1329/1329 [==============================] - 6s 4ms/step - loss: 0.4735 - accuracy: 0.8352 - val_loss: 2.5047 - val_accuracy: 0.4496\n",
      "Epoch 88/100\n",
      "1329/1329 [==============================] - 6s 4ms/step - loss: 0.4708 - accuracy: 0.8352 - val_loss: 1.8961 - val_accuracy: 0.5264\n",
      "Epoch 89/100\n",
      "1329/1329 [==============================] - 6s 4ms/step - loss: 0.4623 - accuracy: 0.8399 - val_loss: 2.3466 - val_accuracy: 0.4688\n",
      "Epoch 90/100\n",
      "1329/1329 [==============================] - 6s 4ms/step - loss: 0.4540 - accuracy: 0.8435 - val_loss: 2.2697 - val_accuracy: 0.4804\n",
      "Epoch 91/100\n",
      "1329/1329 [==============================] - 6s 4ms/step - loss: 0.4429 - accuracy: 0.8453 - val_loss: 1.9989 - val_accuracy: 0.5160\n",
      "Epoch 92/100\n",
      "1329/1329 [==============================] - 6s 4ms/step - loss: 0.4357 - accuracy: 0.8467 - val_loss: 5.7338 - val_accuracy: 0.2963\n",
      "Epoch 93/100\n",
      "1329/1329 [==============================] - 6s 4ms/step - loss: 0.4448 - accuracy: 0.8472 - val_loss: 2.7536 - val_accuracy: 0.4401\n",
      "Epoch 94/100\n",
      "1329/1329 [==============================] - 6s 4ms/step - loss: 0.4239 - accuracy: 0.8528 - val_loss: 2.0118 - val_accuracy: 0.5191\n",
      "Epoch 95/100\n",
      "1329/1329 [==============================] - 6s 4ms/step - loss: 0.4135 - accuracy: 0.8572 - val_loss: 2.0806 - val_accuracy: 0.5207\n",
      "Epoch 96/100\n",
      "1329/1329 [==============================] - 6s 4ms/step - loss: 0.4071 - accuracy: 0.8580 - val_loss: 2.4518 - val_accuracy: 0.4809\n",
      "Epoch 97/100\n",
      "1329/1329 [==============================] - 6s 4ms/step - loss: 0.4012 - accuracy: 0.8623 - val_loss: 3.1747 - val_accuracy: 0.4135\n",
      "Epoch 98/100\n",
      "1329/1329 [==============================] - 6s 4ms/step - loss: 0.4005 - accuracy: 0.8594 - val_loss: 2.1248 - val_accuracy: 0.5120\n",
      "Epoch 99/100\n",
      "1329/1329 [==============================] - 6s 4ms/step - loss: 0.3870 - accuracy: 0.8641 - val_loss: 2.8183 - val_accuracy: 0.4468\n",
      "Epoch 100/100\n",
      "1329/1329 [==============================] - 6s 4ms/step - loss: 0.3805 - accuracy: 0.8682 - val_loss: 2.1973 - val_accuracy: 0.5129\n"
     ]
    }
   ],
   "source": [
    "\n",
    "history = model.fit(X_train, y_train, epochs=100,\n",
    "                    validation_data=(X_valid, y_valid))\n"
   ]
  },
  {
   "cell_type": "code",
   "execution_count": 250,
   "id": "56c142d5",
   "metadata": {},
   "outputs": [],
   "source": [
    "# Save the entire model to a HDF5 file.\n",
    "# The '.h5' extension indicates that the model should be saved to HDF5.\n",
    "#model.save('Liu_gensheng-MLP.h5')"
   ]
  },
  {
   "cell_type": "markdown",
   "id": "3c8b5538",
   "metadata": {},
   "source": [
    "**find the optimal value**"
   ]
  },
  {
   "cell_type": "code",
   "execution_count": 251,
   "id": "2a5f1f1e",
   "metadata": {},
   "outputs": [
    {
     "name": "stdout",
     "output_type": "stream",
     "text": [
      "Best epoch: loss: 0.9352 - accuracy: 0.6723 - val_loss: 1.3965 - val_accuracy: 0.5272\n"
     ]
    }
   ],
   "source": [
    "'''\n",
    "val_acc_per_epoch = model.history[\"accuracy\"]\n",
    "best_epoch = val_acc_per_epoch.index(max(val_acc_per_epoch)) + 1\n",
    "print('Best epoch: %d' % (best_epoch,))\n",
    "'''\n",
    "print('Best epoch: loss: 0.9352 - accuracy: 0.6723 - val_loss: 1.3965 - val_accuracy: 0.5272')"
   ]
  },
  {
   "cell_type": "code",
   "execution_count": 252,
   "id": "498dd04c",
   "metadata": {},
   "outputs": [
    {
     "data": {
      "text/plain": [
       "{'verbose': 1, 'epochs': 100, 'steps': 1329}"
      ]
     },
     "execution_count": 252,
     "metadata": {},
     "output_type": "execute_result"
    }
   ],
   "source": [
    "history.params"
   ]
  },
  {
   "cell_type": "code",
   "execution_count": 253,
   "id": "ee0a4ab5",
   "metadata": {},
   "outputs": [
    {
     "name": "stdout",
     "output_type": "stream",
     "text": [
      "[0, 1, 2, 3, 4, 5, 6, 7, 8, 9, 10, 11, 12, 13, 14, 15, 16, 17, 18, 19, 20, 21, 22, 23, 24, 25, 26, 27, 28, 29, 30, 31, 32, 33, 34, 35, 36, 37, 38, 39, 40, 41, 42, 43, 44, 45, 46, 47, 48, 49, 50, 51, 52, 53, 54, 55, 56, 57, 58, 59, 60, 61, 62, 63, 64, 65, 66, 67, 68, 69, 70, 71, 72, 73, 74, 75, 76, 77, 78, 79, 80, 81, 82, 83, 84, 85, 86, 87, 88, 89, 90, 91, 92, 93, 94, 95, 96, 97, 98, 99]\n"
     ]
    }
   ],
   "source": [
    "print(history.epoch)"
   ]
  },
  {
   "cell_type": "code",
   "execution_count": 254,
   "id": "a55f93cc",
   "metadata": {},
   "outputs": [
    {
     "data": {
      "text/plain": [
       "dict_keys(['loss', 'accuracy', 'val_loss', 'val_accuracy'])"
      ]
     },
     "execution_count": 254,
     "metadata": {},
     "output_type": "execute_result"
    }
   ],
   "source": [
    "history.history.keys()"
   ]
  },
  {
   "cell_type": "code",
   "execution_count": 255,
   "id": "121fadcc",
   "metadata": {},
   "outputs": [
    {
     "data": {
      "image/png": "[encoded data removed]",
      "text/plain": [
       "<Figure size 576x360 with 1 Axes>"
      ]
     },
     "metadata": {
      "needs_background": "light"
     },
     "output_type": "display_data"
    }
   ],
   "source": [
    "\n",
    "import pandas as pd\n",
    "\n",
    "pd.DataFrame(history.history).plot(figsize=(8, 5))\n",
    "plt.grid(True)\n",
    "plt.gca().set_ylim(0, 6)\n",
    "plt.show()\n"
   ]
  },
  {
   "cell_type": "code",
   "execution_count": 256,
   "id": "9069dc68",
   "metadata": {},
   "outputs": [
    {
     "name": "stdout",
     "output_type": "stream",
     "text": [
      "313/313 [==============================] - 1s 2ms/step - loss: 2.1992 - accuracy: 0.5081\n"
     ]
    },
    {
     "data": {
      "text/plain": [
       "[2.199247360229492, 0.5080999732017517]"
      ]
     },
     "execution_count": 256,
     "metadata": {},
     "output_type": "execute_result"
    }
   ],
   "source": [
    "model.evaluate(X_test, y_test)"
   ]
  },
  {
   "cell_type": "code",
   "execution_count": 257,
   "id": "fdf08413",
   "metadata": {},
   "outputs": [
    {
     "data": {
      "text/plain": [
       "array([[0.  , 0.  , 0.8 , 0.14, 0.03, 0.02, 0.  , 0.  , 0.  , 0.  ],\n",
       "       [0.  , 0.99, 0.  , 0.  , 0.  , 0.  , 0.  , 0.  , 0.01, 0.  ],\n",
       "       [0.68, 0.  , 0.  , 0.  , 0.  , 0.  , 0.  , 0.01, 0.26, 0.05]],\n",
       "      dtype=float32)"
      ]
     },
     "execution_count": 257,
     "metadata": {},
     "output_type": "execute_result"
    }
   ],
   "source": [
    "\n",
    "X_new = X_test[:3]\n",
    "y_proba = model.predict(X_new)\n",
    "y_proba.round(2)\n"
   ]
  },
  {
   "cell_type": "code",
   "execution_count": 258,
   "id": "9f00ef6a",
   "metadata": {},
   "outputs": [
    {
     "data": {
      "text/plain": [
       "array([2, 1, 0])"
      ]
     },
     "execution_count": 258,
     "metadata": {},
     "output_type": "execute_result"
    }
   ],
   "source": [
    "\n",
    "#y_pred = model.predict_classes(X_new) # deprecated\n",
    "y_pred = np.argmax(model.predict(X_new), axis=-1)\n",
    "y_pred\n"
   ]
  },
  {
   "cell_type": "code",
   "execution_count": 259,
   "id": "7685acea",
   "metadata": {},
   "outputs": [
    {
     "data": {
      "text/plain": [
       "array(['bird', 'automobile', 'airplane'], dtype='<U10')"
      ]
     },
     "execution_count": 259,
     "metadata": {},
     "output_type": "execute_result"
    }
   ],
   "source": [
    "np.array(class_names)[y_pred]"
   ]
  },
  {
   "cell_type": "code",
   "execution_count": 260,
   "id": "24689f7b",
   "metadata": {},
   "outputs": [
    {
     "data": {
      "text/plain": [
       "array([3, 8, 8], dtype=uint8)"
      ]
     },
     "execution_count": 260,
     "metadata": {},
     "output_type": "execute_result"
    }
   ],
   "source": [
    "\n",
    "y_new = y_test[:3]\n",
    "y_new"
   ]
  },
  {
   "cell_type": "code",
   "execution_count": 261,
   "id": "b63e67dc",
   "metadata": {},
   "outputs": [
    {
     "data": {
      "text/plain": [
       "(3, 32, 32, 3)"
      ]
     },
     "execution_count": 261,
     "metadata": {},
     "output_type": "execute_result"
    }
   ],
   "source": [
    "X_new.shape"
   ]
  },
  {
   "cell_type": "code",
   "execution_count": 262,
   "id": "c99f879b",
   "metadata": {},
   "outputs": [
    {
     "data": {
      "image/png": "[encoded data removed]",
      "text/plain": [
       "<Figure size 518.4x172.8 with 3 Axes>"
      ]
     },
     "metadata": {
      "needs_background": "light"
     },
     "output_type": "display_data"
    }
   ],
   "source": [
    "\n",
    "plt.figure(figsize=(7.2, 2.4))\n",
    "for index, image in enumerate(X_new):\n",
    "    plt.subplot(1, 3, index + 1)\n",
    "    plt.imshow(image, cmap=\"binary\", interpolation=\"nearest\")\n",
    "    plt.axis('off')\n",
    "    plt.title(class_names[y_test[index]], fontsize=12)\n",
    "plt.subplots_adjust(wspace=0.2, hspace=0.5)\n",
    "\n",
    "plt.show()\n"
   ]
  },
  {
   "cell_type": "code",
   "execution_count": 263,
   "id": "ad004984",
   "metadata": {},
   "outputs": [
    {
     "data": {
      "text/plain": [
       "'\\nmodel = keras.models.Sequential([\\n    keras.layers.Dense(30, activation=\"relu\", input_shape=X_train.shape[1:]),\\n    keras.layers.Dense(1)\\n])\\nmodel.compile(loss=\"mean_squared_error\", optimizer=keras.optimizers.SGD(learning_rate=1e-3))\\nhistory = model.fit(X_train, y_train, epochs=100, validation_data=(X_valid, y_valid))\\nmse_test = model.evaluate(X_test, y_test)\\nX_new = X_test[:3]\\ny_pred = model.predict(X_new)\\n'"
      ]
     },
     "execution_count": 263,
     "metadata": {},
     "output_type": "execute_result"
    }
   ],
   "source": [
    "'''\n",
    "model = keras.models.Sequential([\n",
    "    keras.layers.Dense(30, activation=\"relu\", input_shape=X_train.shape[1:]),\n",
    "    keras.layers.Dense(1)\n",
    "])\n",
    "model.compile(loss=\"mean_squared_error\", optimizer=keras.optimizers.SGD(learning_rate=1e-3))\n",
    "history = model.fit(X_train, y_train, epochs=100, validation_data=(X_valid, y_valid))\n",
    "mse_test = model.evaluate(X_test, y_test)\n",
    "X_new = X_test[:3]\n",
    "y_pred = model.predict(X_new)\n",
    "'''"
   ]
  },
  {
   "cell_type": "code",
   "execution_count": 266,
   "id": "28a6dbb0",
   "metadata": {},
   "outputs": [
    {
     "data": {
      "image/png": "[encoded data removed]",
      "text/plain": [
       "<Figure size 432x288 with 1 Axes>"
      ]
     },
     "metadata": {
      "needs_background": "light"
     },
     "output_type": "display_data"
    }
   ],
   "source": [
    "\n",
    "plt.plot(pd.DataFrame(history.history))\n",
    "plt.grid(True)\n",
    "plt.gca().set_ylim(0, 6)\n",
    "plt.show()\n"
   ]
  },
  {
   "cell_type": "code",
   "execution_count": 267,
   "id": "4e6aa174",
   "metadata": {},
   "outputs": [
    {
     "data": {
      "text/plain": [
       "array([2, 1, 0])"
      ]
     },
     "execution_count": 267,
     "metadata": {},
     "output_type": "execute_result"
    }
   ],
   "source": [
    "y_pred"
   ]
  },
  {
   "cell_type": "markdown",
   "id": "fd206962",
   "metadata": {},
   "source": [
    "### Implementation of a CNN"
   ]
  },
  {
   "cell_type": "code",
   "execution_count": 55,
   "id": "02d9f82b",
   "metadata": {},
   "outputs": [],
   "source": [
    "X_mean = X_train.mean(axis=0, keepdims=True)\n",
    "X_std = X_train.std(axis=0, keepdims=True) + 1e-7\n",
    "X_train = (X_train - X_mean) / X_std\n",
    "X_valid = (X_valid - X_mean) / X_std\n",
    "X_test = (X_test - X_mean) / X_std\n",
    "\n",
    "X_train = X_train[..., np.newaxis]\n",
    "X_valid = X_valid[..., np.newaxis]\n",
    "X_test = X_test[..., np.newaxis]"
   ]
  },
  {
   "cell_type": "code",
   "execution_count": 56,
   "id": "5a16d438",
   "metadata": {},
   "outputs": [],
   "source": [
    "from functools import partial\n",
    "\n",
    "DefaultConv2D = partial(keras.layers.Conv2D,\n",
    "                        kernel_size=3, activation='relu', padding=\"SAME\")\n",
    "\n",
    "model = keras.models.Sequential([\n",
    "    DefaultConv2D(filters=64, kernel_size=7, input_shape=[32, 32, 3]),\n",
    "    keras.layers.MaxPooling2D(pool_size=2),\n",
    "    DefaultConv2D(filters=128),\n",
    "    DefaultConv2D(filters=128),\n",
    "    keras.layers.MaxPooling2D(pool_size=2),\n",
    "    DefaultConv2D(filters=256),\n",
    "    DefaultConv2D(filters=256),\n",
    "    keras.layers.MaxPooling2D(pool_size=2),\n",
    "    keras.layers.Flatten(),\n",
    "    keras.layers.Dense(units=128, activation='relu'),\n",
    "    keras.layers.Dropout(0.5),\n",
    "    keras.layers.Dense(units=64, activation='relu'),\n",
    "    keras.layers.Dropout(0.5),\n",
    "    keras.layers.Dense(units=10, activation='softmax'),\n",
    "])"
   ]
  },
  {
   "cell_type": "code",
   "execution_count": 57,
   "id": "ecd4c7fb",
   "metadata": {},
   "outputs": [
    {
     "name": "stdout",
     "output_type": "stream",
     "text": [
      "Epoch 1/100\n",
      "1329/1329 [==============================] - 255s 191ms/step - loss: 1.8739 - accuracy: 0.2900 - val_loss: 1.5117 - val_accuracy: 0.4367\n",
      "Epoch 2/100\n",
      "1329/1329 [==============================] - 259s 195ms/step - loss: 1.5092 - accuracy: 0.4478 - val_loss: 1.3863 - val_accuracy: 0.4957\n",
      "Epoch 3/100\n",
      "1329/1329 [==============================] - 261s 197ms/step - loss: 1.3418 - accuracy: 0.5238 - val_loss: 1.1695 - val_accuracy: 0.5784\n",
      "Epoch 4/100\n",
      "1329/1329 [==============================] - 263s 198ms/step - loss: 1.2141 - accuracy: 0.5755 - val_loss: 1.0880 - val_accuracy: 0.6164\n",
      "Epoch 5/100\n",
      "1329/1329 [==============================] - 258s 194ms/step - loss: 1.1172 - accuracy: 0.6144 - val_loss: 1.0168 - val_accuracy: 0.6489\n",
      "Epoch 6/100\n",
      "1329/1329 [==============================] - 259s 195ms/step - loss: 1.0580 - accuracy: 0.6408 - val_loss: 1.0134 - val_accuracy: 0.6533\n",
      "Epoch 7/100\n",
      "1329/1329 [==============================] - 256s 193ms/step - loss: 0.9955 - accuracy: 0.6653 - val_loss: 0.9708 - val_accuracy: 0.6720\n",
      "Epoch 8/100\n",
      "1329/1329 [==============================] - 255s 192ms/step - loss: 0.9529 - accuracy: 0.6785 - val_loss: 0.9493 - val_accuracy: 0.6791\n",
      "Epoch 9/100\n",
      "1329/1329 [==============================] - 254s 191ms/step - loss: 0.9047 - accuracy: 0.6968 - val_loss: 0.9388 - val_accuracy: 0.6839\n",
      "Epoch 10/100\n",
      "1329/1329 [==============================] - 254s 191ms/step - loss: 0.8682 - accuracy: 0.7096 - val_loss: 0.9729 - val_accuracy: 0.6724\n",
      "Epoch 11/100\n",
      "1329/1329 [==============================] - 255s 192ms/step - loss: 0.8407 - accuracy: 0.7208 - val_loss: 0.9188 - val_accuracy: 0.6928\n",
      "Epoch 12/100\n",
      "1329/1329 [==============================] - 254s 191ms/step - loss: 0.8091 - accuracy: 0.7303 - val_loss: 0.8994 - val_accuracy: 0.7059\n",
      "Epoch 13/100\n",
      "1329/1329 [==============================] - 254s 191ms/step - loss: 0.7838 - accuracy: 0.7431 - val_loss: 0.9308 - val_accuracy: 0.6920\n",
      "Epoch 14/100\n",
      "1329/1329 [==============================] - 254s 191ms/step - loss: 0.7496 - accuracy: 0.7535 - val_loss: 0.9255 - val_accuracy: 0.6976\n",
      "Epoch 15/100\n",
      "1329/1329 [==============================] - 254s 191ms/step - loss: 0.7400 - accuracy: 0.7570 - val_loss: 0.9536 - val_accuracy: 0.6939\n",
      "Epoch 16/100\n",
      "1329/1329 [==============================] - 255s 192ms/step - loss: 0.7045 - accuracy: 0.7684 - val_loss: 0.9273 - val_accuracy: 0.6984\n",
      "Epoch 17/100\n",
      "1329/1329 [==============================] - 254s 191ms/step - loss: 0.6746 - accuracy: 0.7816 - val_loss: 0.9377 - val_accuracy: 0.6992\n",
      "Epoch 18/100\n",
      "1329/1329 [==============================] - 254s 191ms/step - loss: 0.6631 - accuracy: 0.7869 - val_loss: 0.9910 - val_accuracy: 0.6925\n",
      "Epoch 19/100\n",
      "1329/1329 [==============================] - 253s 190ms/step - loss: 0.6354 - accuracy: 0.7954 - val_loss: 1.0103 - val_accuracy: 0.7055\n",
      "Epoch 20/100\n",
      "1329/1329 [==============================] - 253s 190ms/step - loss: 0.6235 - accuracy: 0.7978 - val_loss: 0.9933 - val_accuracy: 0.6983\n",
      "Epoch 21/100\n",
      "1329/1329 [==============================] - 254s 191ms/step - loss: 0.6009 - accuracy: 0.8070 - val_loss: 1.0069 - val_accuracy: 0.7011\n",
      "Epoch 22/100\n",
      "1329/1329 [==============================] - 254s 191ms/step - loss: 0.5848 - accuracy: 0.8160 - val_loss: 1.0029 - val_accuracy: 0.7108\n",
      "Epoch 23/100\n",
      "1329/1329 [==============================] - 254s 191ms/step - loss: 0.5763 - accuracy: 0.8168 - val_loss: 1.0162 - val_accuracy: 0.7159\n",
      "Epoch 24/100\n",
      "1329/1329 [==============================] - 255s 191ms/step - loss: 0.5481 - accuracy: 0.8283 - val_loss: 1.0163 - val_accuracy: 0.7153\n",
      "Epoch 25/100\n",
      "1329/1329 [==============================] - 254s 191ms/step - loss: 0.5314 - accuracy: 0.8338 - val_loss: 1.0120 - val_accuracy: 0.7009\n",
      "Epoch 26/100\n",
      "1329/1329 [==============================] - 258s 194ms/step - loss: 0.5252 - accuracy: 0.8356 - val_loss: 1.0851 - val_accuracy: 0.7049\n",
      "Epoch 27/100\n",
      "1329/1329 [==============================] - 258s 194ms/step - loss: 0.5364 - accuracy: 0.8354 - val_loss: 1.0922 - val_accuracy: 0.6951\n",
      "Epoch 28/100\n",
      "1329/1329 [==============================] - 253s 190ms/step - loss: 0.5269 - accuracy: 0.8385 - val_loss: 1.1967 - val_accuracy: 0.7123\n",
      "Epoch 29/100\n",
      "1329/1329 [==============================] - 253s 191ms/step - loss: 0.5010 - accuracy: 0.8468 - val_loss: 1.1017 - val_accuracy: 0.7143\n",
      "Epoch 30/100\n",
      "1329/1329 [==============================] - 254s 191ms/step - loss: 0.4903 - accuracy: 0.8505 - val_loss: 1.1548 - val_accuracy: 0.7029\n",
      "Epoch 31/100\n",
      "1329/1329 [==============================] - 253s 191ms/step - loss: 0.4968 - accuracy: 0.8504 - val_loss: 1.1632 - val_accuracy: 0.7179\n",
      "Epoch 32/100\n",
      "1329/1329 [==============================] - 253s 190ms/step - loss: 0.4791 - accuracy: 0.8576 - val_loss: 1.2399 - val_accuracy: 0.7039\n",
      "Epoch 33/100\n",
      "1329/1329 [==============================] - 253s 190ms/step - loss: 0.4840 - accuracy: 0.8541 - val_loss: 1.2737 - val_accuracy: 0.6973\n",
      "Epoch 34/100\n",
      "1329/1329 [==============================] - 253s 190ms/step - loss: 0.4851 - accuracy: 0.8556 - val_loss: 1.1826 - val_accuracy: 0.7153\n",
      "Epoch 35/100\n",
      "1329/1329 [==============================] - 253s 190ms/step - loss: 0.4621 - accuracy: 0.8652 - val_loss: 1.3158 - val_accuracy: 0.7112\n",
      "Epoch 36/100\n",
      "1329/1329 [==============================] - 252s 189ms/step - loss: 0.4648 - accuracy: 0.8627 - val_loss: 1.2875 - val_accuracy: 0.6956\n",
      "Epoch 37/100\n",
      "1329/1329 [==============================] - 252s 190ms/step - loss: 0.4624 - accuracy: 0.8656 - val_loss: 1.3558 - val_accuracy: 0.7189\n",
      "Epoch 38/100\n",
      "1329/1329 [==============================] - 252s 190ms/step - loss: 0.4584 - accuracy: 0.8674 - val_loss: 1.2354 - val_accuracy: 0.7065\n",
      "Epoch 39/100\n",
      "1329/1329 [==============================] - 252s 189ms/step - loss: 0.4646 - accuracy: 0.8642 - val_loss: 1.2204 - val_accuracy: 0.7153\n",
      "Epoch 40/100\n",
      "1329/1329 [==============================] - 253s 190ms/step - loss: 0.4355 - accuracy: 0.8757 - val_loss: 1.3597 - val_accuracy: 0.7033\n",
      "Epoch 41/100\n",
      "1329/1329 [==============================] - 252s 190ms/step - loss: 0.4641 - accuracy: 0.8669 - val_loss: 1.2218 - val_accuracy: 0.6979\n",
      "Epoch 42/100\n",
      "1329/1329 [==============================] - 252s 189ms/step - loss: 0.4494 - accuracy: 0.8726 - val_loss: 1.3192 - val_accuracy: 0.7145\n",
      "Epoch 43/100\n",
      "1329/1329 [==============================] - 254s 191ms/step - loss: 0.4207 - accuracy: 0.8816 - val_loss: 1.3424 - val_accuracy: 0.7100\n",
      "Epoch 44/100\n",
      "1329/1329 [==============================] - 252s 190ms/step - loss: 0.4418 - accuracy: 0.8754 - val_loss: 1.3639 - val_accuracy: 0.7051\n",
      "Epoch 45/100\n",
      "1329/1329 [==============================] - 252s 189ms/step - loss: 0.4295 - accuracy: 0.8794 - val_loss: 1.3436 - val_accuracy: 0.7049\n",
      "Epoch 46/100\n",
      "1329/1329 [==============================] - 252s 189ms/step - loss: 0.4112 - accuracy: 0.8837 - val_loss: 1.4274 - val_accuracy: 0.7087\n",
      "Epoch 47/100\n",
      "1329/1329 [==============================] - 252s 190ms/step - loss: 0.4361 - accuracy: 0.8770 - val_loss: 1.3673 - val_accuracy: 0.7157\n",
      "Epoch 48/100\n",
      "1329/1329 [==============================] - 252s 190ms/step - loss: 0.4198 - accuracy: 0.8829 - val_loss: 1.4008 - val_accuracy: 0.7133\n",
      "Epoch 49/100\n",
      "1329/1329 [==============================] - 252s 189ms/step - loss: 0.4413 - accuracy: 0.8815 - val_loss: 1.3176 - val_accuracy: 0.7160\n",
      "Epoch 50/100\n",
      "1329/1329 [==============================] - 253s 190ms/step - loss: 0.4285 - accuracy: 0.8833 - val_loss: 1.3968 - val_accuracy: 0.7180\n",
      "Epoch 51/100\n",
      "1329/1329 [==============================] - 253s 190ms/step - loss: 0.4363 - accuracy: 0.8810 - val_loss: 1.4458 - val_accuracy: 0.7177\n",
      "Epoch 52/100\n",
      "1329/1329 [==============================] - 252s 190ms/step - loss: 0.4485 - accuracy: 0.8755 - val_loss: 1.4836 - val_accuracy: 0.7052\n",
      "Epoch 53/100\n",
      "1329/1329 [==============================] - 252s 190ms/step - loss: 0.4079 - accuracy: 0.8888 - val_loss: 1.5108 - val_accuracy: 0.7041\n",
      "Epoch 54/100\n",
      "1329/1329 [==============================] - 253s 190ms/step - loss: 0.4395 - accuracy: 0.8801 - val_loss: 1.5239 - val_accuracy: 0.7127\n",
      "Epoch 55/100\n",
      "1329/1329 [==============================] - 252s 190ms/step - loss: 0.4028 - accuracy: 0.8941 - val_loss: 1.7849 - val_accuracy: 0.7072\n"
     ]
    },
    {
     "name": "stdout",
     "output_type": "stream",
     "text": [
      "Epoch 56/100\n",
      "1329/1329 [==============================] - 252s 190ms/step - loss: 0.4474 - accuracy: 0.8807 - val_loss: 1.6411 - val_accuracy: 0.7152\n",
      "Epoch 57/100\n",
      "1329/1329 [==============================] - 253s 190ms/step - loss: 0.4216 - accuracy: 0.8887 - val_loss: 1.4939 - val_accuracy: 0.7169\n",
      "Epoch 58/100\n",
      "1329/1329 [==============================] - 253s 190ms/step - loss: 0.4234 - accuracy: 0.8883 - val_loss: 1.6568 - val_accuracy: 0.6948\n",
      "Epoch 59/100\n",
      "1329/1329 [==============================] - 253s 191ms/step - loss: 0.4160 - accuracy: 0.8903 - val_loss: 1.5587 - val_accuracy: 0.7089\n",
      "Epoch 60/100\n",
      "1329/1329 [==============================] - 253s 190ms/step - loss: 0.4316 - accuracy: 0.8855 - val_loss: 1.6171 - val_accuracy: 0.7031\n",
      "Epoch 61/100\n",
      "1329/1329 [==============================] - 252s 190ms/step - loss: 0.4189 - accuracy: 0.8903 - val_loss: 1.6363 - val_accuracy: 0.7129\n",
      "Epoch 62/100\n",
      "1329/1329 [==============================] - 253s 190ms/step - loss: 0.4398 - accuracy: 0.8867 - val_loss: 1.6185 - val_accuracy: 0.7137\n",
      "Epoch 63/100\n",
      "1329/1329 [==============================] - 253s 191ms/step - loss: 0.4167 - accuracy: 0.8918 - val_loss: 1.8365 - val_accuracy: 0.6912\n",
      "Epoch 64/100\n",
      "1329/1329 [==============================] - 254s 191ms/step - loss: 0.3988 - accuracy: 0.8952 - val_loss: 1.6078 - val_accuracy: 0.7127\n",
      "Epoch 65/100\n",
      "1329/1329 [==============================] - 253s 191ms/step - loss: 0.4437 - accuracy: 0.8820 - val_loss: 1.8387 - val_accuracy: 0.7204\n",
      "Epoch 66/100\n",
      "1329/1329 [==============================] - 253s 191ms/step - loss: 0.4114 - accuracy: 0.8952 - val_loss: 1.7617 - val_accuracy: 0.6956\n",
      "Epoch 67/100\n",
      "1329/1329 [==============================] - 254s 191ms/step - loss: 0.4597 - accuracy: 0.8834 - val_loss: 1.5463 - val_accuracy: 0.7108\n",
      "Epoch 68/100\n",
      "1329/1329 [==============================] - 254s 191ms/step - loss: 0.4080 - accuracy: 0.8945 - val_loss: 1.8020 - val_accuracy: 0.7056\n",
      "Epoch 69/100\n",
      "1329/1329 [==============================] - 254s 191ms/step - loss: 0.4232 - accuracy: 0.8916 - val_loss: 1.6559 - val_accuracy: 0.7101\n",
      "Epoch 70/100\n",
      "1329/1329 [==============================] - 254s 191ms/step - loss: 0.4041 - accuracy: 0.8951 - val_loss: 1.8931 - val_accuracy: 0.7041\n",
      "Epoch 71/100\n",
      "1329/1329 [==============================] - 254s 191ms/step - loss: 0.4054 - accuracy: 0.8964 - val_loss: 1.9098 - val_accuracy: 0.7004\n",
      "Epoch 72/100\n",
      "1329/1329 [==============================] - 254s 191ms/step - loss: 0.4691 - accuracy: 0.8814 - val_loss: 1.7495 - val_accuracy: 0.7073\n",
      "Epoch 73/100\n",
      "1329/1329 [==============================] - 254s 191ms/step - loss: 0.4698 - accuracy: 0.8807 - val_loss: 1.6226 - val_accuracy: 0.7048\n",
      "Epoch 74/100\n",
      "1329/1329 [==============================] - 254s 191ms/step - loss: 0.4322 - accuracy: 0.8932 - val_loss: 1.7547 - val_accuracy: 0.7127\n",
      "Epoch 75/100\n",
      "1329/1329 [==============================] - 254s 191ms/step - loss: 0.4192 - accuracy: 0.8923 - val_loss: 1.9874 - val_accuracy: 0.6952\n",
      "Epoch 76/100\n",
      "1329/1329 [==============================] - 253s 191ms/step - loss: 0.4334 - accuracy: 0.8908 - val_loss: 1.7526 - val_accuracy: 0.7161\n",
      "Epoch 77/100\n",
      "1329/1329 [==============================] - 254s 191ms/step - loss: 0.4110 - accuracy: 0.8983 - val_loss: 1.7337 - val_accuracy: 0.7077\n",
      "Epoch 78/100\n",
      "1329/1329 [==============================] - 254s 191ms/step - loss: 0.4212 - accuracy: 0.8928 - val_loss: 1.8164 - val_accuracy: 0.7216\n",
      "Epoch 79/100\n",
      "1329/1329 [==============================] - 254s 191ms/step - loss: 0.4290 - accuracy: 0.8911 - val_loss: 1.7888 - val_accuracy: 0.7109\n",
      "Epoch 80/100\n",
      "1329/1329 [==============================] - 255s 192ms/step - loss: 0.4197 - accuracy: 0.8952 - val_loss: 1.8460 - val_accuracy: 0.6989\n",
      "Epoch 81/100\n",
      "1329/1329 [==============================] - 255s 192ms/step - loss: 0.4799 - accuracy: 0.8808 - val_loss: 1.8008 - val_accuracy: 0.6992\n",
      "Epoch 82/100\n",
      "1329/1329 [==============================] - 254s 191ms/step - loss: 0.4322 - accuracy: 0.8936 - val_loss: 1.8020 - val_accuracy: 0.7147\n",
      "Epoch 83/100\n",
      "1329/1329 [==============================] - 254s 191ms/step - loss: 0.4338 - accuracy: 0.8919 - val_loss: 1.9008 - val_accuracy: 0.6835\n",
      "Epoch 84/100\n",
      "1329/1329 [==============================] - 254s 191ms/step - loss: 0.4594 - accuracy: 0.8845 - val_loss: 1.8649 - val_accuracy: 0.7057\n",
      "Epoch 85/100\n",
      "1329/1329 [==============================] - 255s 192ms/step - loss: 0.4413 - accuracy: 0.8901 - val_loss: 1.7889 - val_accuracy: 0.7145\n",
      "Epoch 86/100\n",
      "1329/1329 [==============================] - 254s 191ms/step - loss: 0.4921 - accuracy: 0.8806 - val_loss: 2.0494 - val_accuracy: 0.7123\n",
      "Epoch 87/100\n",
      "1329/1329 [==============================] - 254s 191ms/step - loss: 0.4500 - accuracy: 0.8898 - val_loss: 1.7284 - val_accuracy: 0.7011\n",
      "Epoch 88/100\n",
      "1329/1329 [==============================] - 254s 191ms/step - loss: 0.4627 - accuracy: 0.8855 - val_loss: 2.0915 - val_accuracy: 0.6997\n",
      "Epoch 89/100\n",
      "1329/1329 [==============================] - 258s 194ms/step - loss: 0.4644 - accuracy: 0.8853 - val_loss: 2.2962 - val_accuracy: 0.7133\n",
      "Epoch 90/100\n",
      "1329/1329 [==============================] - 254s 191ms/step - loss: 0.4704 - accuracy: 0.8836 - val_loss: 1.9387 - val_accuracy: 0.7085\n",
      "Epoch 91/100\n",
      "1329/1329 [==============================] - 254s 191ms/step - loss: 0.4430 - accuracy: 0.8903 - val_loss: 1.9956 - val_accuracy: 0.7097\n",
      "Epoch 92/100\n",
      "1329/1329 [==============================] - 254s 191ms/step - loss: 0.4866 - accuracy: 0.8825 - val_loss: 2.1669 - val_accuracy: 0.7116\n",
      "Epoch 93/100\n",
      "1329/1329 [==============================] - 254s 191ms/step - loss: 0.4689 - accuracy: 0.8864 - val_loss: 2.0451 - val_accuracy: 0.6989\n",
      "Epoch 94/100\n",
      "1329/1329 [==============================] - 254s 191ms/step - loss: 0.4577 - accuracy: 0.8854 - val_loss: 2.2289 - val_accuracy: 0.7044\n",
      "Epoch 95/100\n",
      "1329/1329 [==============================] - 254s 191ms/step - loss: 0.4667 - accuracy: 0.8896 - val_loss: 1.8647 - val_accuracy: 0.7080\n",
      "Epoch 96/100\n",
      "1329/1329 [==============================] - 254s 191ms/step - loss: 0.5381 - accuracy: 0.8672 - val_loss: 2.0119 - val_accuracy: 0.7100\n",
      "Epoch 97/100\n",
      "1329/1329 [==============================] - 253s 191ms/step - loss: 0.4526 - accuracy: 0.8912 - val_loss: 2.1046 - val_accuracy: 0.7044\n",
      "Epoch 98/100\n",
      "1329/1329 [==============================] - 254s 191ms/step - loss: 0.4864 - accuracy: 0.8836 - val_loss: 2.0058 - val_accuracy: 0.7049\n",
      "Epoch 99/100\n",
      "1329/1329 [==============================] - 254s 191ms/step - loss: 0.4899 - accuracy: 0.8852 - val_loss: 2.2211 - val_accuracy: 0.6928\n",
      "Epoch 100/100\n",
      "1329/1329 [==============================] - 254s 191ms/step - loss: 0.4728 - accuracy: 0.8850 - val_loss: 2.0097 - val_accuracy: 0.7009\n",
      "313/313 [==============================] - 13s 40ms/step - loss: 2.1589 - accuracy: 0.6988\n"
     ]
    }
   ],
   "source": [
    "\n",
    "model.compile(loss=\"sparse_categorical_crossentropy\", optimizer=\"nadam\", metrics=[\"accuracy\"])\n",
    "history = model.fit(X_train, y_train, epochs=100, validation_data=(X_valid, y_valid))\n",
    "score = model.evaluate(X_test, y_test)\n",
    "X_new = X_test[:10] # pretend we have new images\n",
    "y_pred = model.predict(X_new)\n"
   ]
  },
  {
   "cell_type": "code",
   "execution_count": 82,
   "id": "80415d48",
   "metadata": {},
   "outputs": [],
   "source": [
    "# Save the entire model to a HDF5 file.\n",
    "# The '.h5' extension indicates that the model should be saved to HDF5.\n",
    "model.save('Liu_gensheng-CNN.h5')"
   ]
  },
  {
   "cell_type": "code",
   "execution_count": 59,
   "id": "aba8ea42",
   "metadata": {},
   "outputs": [
    {
     "data": {
      "text/plain": [
       "{'verbose': 1, 'epochs': 100, 'steps': 1329}"
      ]
     },
     "execution_count": 59,
     "metadata": {},
     "output_type": "execute_result"
    }
   ],
   "source": [
    "history.params"
   ]
  },
  {
   "cell_type": "code",
   "execution_count": 60,
   "id": "c6ce484b",
   "metadata": {},
   "outputs": [
    {
     "name": "stdout",
     "output_type": "stream",
     "text": [
      "[0, 1, 2, 3, 4, 5, 6, 7, 8, 9, 10, 11, 12, 13, 14, 15, 16, 17, 18, 19, 20, 21, 22, 23, 24, 25, 26, 27, 28, 29, 30, 31, 32, 33, 34, 35, 36, 37, 38, 39, 40, 41, 42, 43, 44, 45, 46, 47, 48, 49, 50, 51, 52, 53, 54, 55, 56, 57, 58, 59, 60, 61, 62, 63, 64, 65, 66, 67, 68, 69, 70, 71, 72, 73, 74, 75, 76, 77, 78, 79, 80, 81, 82, 83, 84, 85, 86, 87, 88, 89, 90, 91, 92, 93, 94, 95, 96, 97, 98, 99]\n"
     ]
    }
   ],
   "source": [
    "print(history.epoch)"
   ]
  },
  {
   "cell_type": "code",
   "execution_count": 61,
   "id": "0b3d001a",
   "metadata": {},
   "outputs": [
    {
     "data": {
      "text/plain": [
       "dict_keys(['loss', 'accuracy', 'val_loss', 'val_accuracy'])"
      ]
     },
     "execution_count": 61,
     "metadata": {},
     "output_type": "execute_result"
    }
   ],
   "source": [
    "history.history.keys()"
   ]
  },
  {
   "cell_type": "code",
   "execution_count": 63,
   "id": "d12e2f85",
   "metadata": {},
   "outputs": [
    {
     "data": {
      "image/png": "[encoded data removed]",
      "text/plain": [
       "<Figure size 576x360 with 1 Axes>"
      ]
     },
     "metadata": {
      "needs_background": "light"
     },
     "output_type": "display_data"
    }
   ],
   "source": [
    "import pandas as pd\n",
    "\n",
    "pd.DataFrame(history.history).plot(figsize=(8, 5))\n",
    "plt.grid(True)\n",
    "plt.gca().set_ylim(0, 2)\n",
    "plt.show()"
   ]
  },
  {
   "cell_type": "code",
   "execution_count": 64,
   "id": "4171a813",
   "metadata": {},
   "outputs": [
    {
     "name": "stdout",
     "output_type": "stream",
     "text": [
      "313/313 [==============================] - 12s 38ms/step - loss: 2.1589 - accuracy: 0.6988\n"
     ]
    },
    {
     "data": {
      "text/plain": [
       "[2.158931255340576, 0.6988000273704529]"
      ]
     },
     "execution_count": 64,
     "metadata": {},
     "output_type": "execute_result"
    }
   ],
   "source": [
    "model.evaluate(X_test, y_test)"
   ]
  },
  {
   "cell_type": "code",
   "execution_count": 65,
   "id": "8497baab",
   "metadata": {},
   "outputs": [
    {
     "data": {
      "text/plain": [
       "array([[0.05, 0.03, 0.09, 0.23, 0.11, 0.32, 0.05, 0.07, 0.01, 0.05],\n",
       "       [0.  , 0.  , 0.  , 0.  , 0.  , 0.  , 0.  , 0.  , 1.  , 0.  ],\n",
       "       [0.  , 0.  , 0.  , 0.  , 0.  , 0.  , 0.  , 0.  , 1.  , 0.  ]],\n",
       "      dtype=float32)"
      ]
     },
     "execution_count": 65,
     "metadata": {},
     "output_type": "execute_result"
    }
   ],
   "source": [
    "X_new = X_test[:3]\n",
    "y_proba = model.predict(X_new)\n",
    "y_proba.round(2)"
   ]
  },
  {
   "cell_type": "code",
   "execution_count": 66,
   "id": "34d48282",
   "metadata": {},
   "outputs": [
    {
     "data": {
      "text/plain": [
       "array([5, 8, 8])"
      ]
     },
     "execution_count": 66,
     "metadata": {},
     "output_type": "execute_result"
    }
   ],
   "source": [
    "#y_pred = model.predict_classes(X_new) # deprecated\n",
    "y_pred = np.argmax(model.predict(X_new), axis=-1)\n",
    "y_pred"
   ]
  },
  {
   "cell_type": "code",
   "execution_count": 67,
   "id": "aa5f9385",
   "metadata": {},
   "outputs": [
    {
     "data": {
      "text/plain": [
       "array(['dog', 'ship', 'ship'], dtype='<U10')"
      ]
     },
     "execution_count": 67,
     "metadata": {},
     "output_type": "execute_result"
    }
   ],
   "source": [
    "np.array(class_names)[y_pred]"
   ]
  },
  {
   "cell_type": "code",
   "execution_count": 68,
   "id": "9a6bf536",
   "metadata": {},
   "outputs": [
    {
     "data": {
      "text/plain": [
       "array([3, 8, 8], dtype=uint8)"
      ]
     },
     "execution_count": 68,
     "metadata": {},
     "output_type": "execute_result"
    }
   ],
   "source": [
    "y_new = y_test[:3]\n",
    "y_new"
   ]
  },
  {
   "cell_type": "code",
   "execution_count": 73,
   "id": "5559f357",
   "metadata": {},
   "outputs": [
    {
     "data": {
      "text/plain": [
       "(3, 32, 32, 3, 1)"
      ]
     },
     "execution_count": 73,
     "metadata": {},
     "output_type": "execute_result"
    }
   ],
   "source": [
    "X_new.shape"
   ]
  },
  {
   "cell_type": "code",
   "execution_count": 75,
   "id": "689494ff",
   "metadata": {},
   "outputs": [
    {
     "data": {
      "text/plain": [
       "'\\nplt.figure(figsize=(7.2, 2.4))\\nfor index, image in enumerate(X_new):\\n    plt.subplot(1, 3, index + 1)\\n    plt.imshow(image, cmap=\"binary\", interpolation=\"nearest\")\\n    plt.axis(\\'off\\')\\n    plt.title(class_names[y_test[index]], fontsize=12)\\nplt.subplots_adjust(wspace=0.2, hspace=0.5)\\nplt.show()\\n'"
      ]
     },
     "execution_count": 75,
     "metadata": {},
     "output_type": "execute_result"
    }
   ],
   "source": [
    "'''\n",
    "plt.figure(figsize=(7.2, 2.4))\n",
    "for index, image in enumerate(X_new):\n",
    "    plt.subplot(1, 3, index + 1)\n",
    "    plt.imshow(image, cmap=\"binary\", interpolation=\"nearest\")\n",
    "    plt.axis('off')\n",
    "    plt.title(class_names[y_test[index]], fontsize=12)\n",
    "plt.subplots_adjust(wspace=0.2, hspace=0.5)\n",
    "plt.show()\n",
    "'''"
   ]
  },
  {
   "cell_type": "markdown",
   "id": "86ff3a08",
   "metadata": {},
   "source": [
    "## Mean Average Precision (mAP)"
   ]
  },
  {
   "cell_type": "code",
   "execution_count": 76,
   "id": "17d7c7c9",
   "metadata": {},
   "outputs": [],
   "source": [
    "def maximum_precisions(precisions):\n",
    "    return np.flip(np.maximum.accumulate(np.flip(precisions)))"
   ]
  },
  {
   "cell_type": "code",
   "execution_count": 77,
   "id": "423d70a5",
   "metadata": {},
   "outputs": [
    {
     "data": {
      "image/png": "[encoded data removed]",
      "text/plain": [
       "<Figure size 432x288 with 1 Axes>"
      ]
     },
     "metadata": {
      "needs_background": "light"
     },
     "output_type": "display_data"
    }
   ],
   "source": [
    "recalls = np.linspace(0, 1, 11)\n",
    "\n",
    "precisions = [0.91, 0.94, 0.96, 0.94, 0.95, 0.92, 0.80, 0.60, 0.45, 0.20, 0.10]\n",
    "max_precisions = maximum_precisions(precisions)\n",
    "mAP = max_precisions.mean()\n",
    "plt.plot(recalls, precisions, \"ro--\", label=\"Precision\")\n",
    "plt.plot(recalls, max_precisions, \"bo-\", label=\"Max Precision\")\n",
    "plt.xlabel(\"Recall\")\n",
    "plt.ylabel(\"Precision\")\n",
    "plt.plot([0, 1], [mAP, mAP], \"g:\", linewidth=3, label=\"mAP\")\n",
    "plt.grid(True)\n",
    "plt.axis([0, 1, 0, 1])\n",
    "plt.legend(loc=\"lower center\", fontsize=14)\n",
    "plt.show()"
   ]
  },
  {
   "cell_type": "code",
   "execution_count": 79,
   "id": "89c11447",
   "metadata": {},
   "outputs": [],
   "source": [
    "model_MLP = keras.models.load_model(\"Liu_gensheng-MLP.h5\")"
   ]
  },
  {
   "cell_type": "code",
   "execution_count": 83,
   "id": "8535c68f",
   "metadata": {},
   "outputs": [],
   "source": [
    "model_CNN = keras.models.load_model(\"Liu_gensheng-CNN.h5\")"
   ]
  },
  {
   "cell_type": "code",
   "execution_count": 84,
   "id": "fbbf7be9",
   "metadata": {},
   "outputs": [
    {
     "data": {
      "text/plain": [
       "array([[3.68573815e-02, 5.26128784e-02, 3.21993344e-02, 6.58592463e-01,\n",
       "        1.76914539e-02, 6.72106445e-02, 7.93746188e-02, 2.01507448e-03,\n",
       "        3.81240696e-02, 1.53221553e-02],\n",
       "       [1.42742903e-03, 6.68037832e-01, 2.45524143e-06, 1.12167028e-04,\n",
       "        1.02484246e-05, 3.63500885e-06, 2.28303247e-06, 2.12333339e-06,\n",
       "        5.36492541e-02, 2.76752472e-01],\n",
       "       [9.61185545e-02, 4.26176876e-01, 6.45912485e-04, 5.19137690e-03,\n",
       "        9.38380254e-05, 9.41015896e-05, 1.04888095e-05, 1.55799103e-03,\n",
       "        3.84353787e-01, 8.57570767e-02]], dtype=float32)"
      ]
     },
     "execution_count": 84,
     "metadata": {},
     "output_type": "execute_result"
    }
   ],
   "source": [
    "model_MLP.predict(X_new)"
   ]
  },
  {
   "cell_type": "code",
   "execution_count": 85,
   "id": "ea77ea52",
   "metadata": {},
   "outputs": [
    {
     "data": {
      "text/plain": [
       "array([[4.79343608e-02, 2.80607920e-02, 8.53786841e-02, 2.30304137e-01,\n",
       "        1.07314974e-01, 3.17494184e-01, 4.94939573e-02, 7.31523484e-02,\n",
       "        1.25423539e-02, 4.83241379e-02],\n",
       "       [8.22836157e-13, 4.47706298e-13, 1.76104344e-15, 3.12160214e-10,\n",
       "        7.54281787e-22, 2.65352923e-16, 5.86986772e-31, 1.97169400e-32,\n",
       "        1.00000000e+00, 1.44435092e-16],\n",
       "       [9.74555506e-12, 6.88361217e-12, 6.67813678e-13, 4.17178514e-09,\n",
       "        3.64726680e-18, 8.03391184e-15, 3.89422534e-27, 1.63534879e-29,\n",
       "        1.00000000e+00, 7.68264440e-14]], dtype=float32)"
      ]
     },
     "execution_count": 85,
     "metadata": {},
     "output_type": "execute_result"
    }
   ],
   "source": [
    "model_CNN.predict(X_new)"
   ]
  },
  {
   "cell_type": "code",
   "execution_count": 109,
   "id": "f34aa2f8",
   "metadata": {},
   "outputs": [
    {
     "name": "stdout",
     "output_type": "stream",
     "text": [
      "235/235 [==============================] - 1s 2ms/step - loss: 2.2595 - accuracy: 0.3237\n"
     ]
    },
    {
     "data": {
      "text/plain": [
       "[2.2595458030700684, 0.3237333297729492]"
      ]
     },
     "execution_count": 109,
     "metadata": {},
     "output_type": "execute_result"
    }
   ],
   "source": [
    "model_MLP.evaluate(X_valid, y_valid)"
   ]
  },
  {
   "cell_type": "code",
   "execution_count": 110,
   "id": "541393c8",
   "metadata": {},
   "outputs": [
    {
     "name": "stdout",
     "output_type": "stream",
     "text": [
      "235/235 [==============================] - 9s 38ms/step - loss: 2.0097 - accuracy: 0.7009\n"
     ]
    },
    {
     "data": {
      "text/plain": [
       "[2.0097315311431885, 0.7009333372116089]"
      ]
     },
     "execution_count": 110,
     "metadata": {},
     "output_type": "execute_result"
    }
   ],
   "source": [
    "model_CNN.evaluate(X_valid, y_valid)"
   ]
  },
  {
   "cell_type": "markdown",
   "id": "1b257102",
   "metadata": {},
   "source": [
    "#### Comparision (accuracy, F1 score, precision per class etc.)"
   ]
  },
  {
   "cell_type": "code",
   "execution_count": 114,
   "id": "1017123c",
   "metadata": {},
   "outputs": [
    {
     "name": "stdout",
     "output_type": "stream",
     "text": [
      "Epoch 1/20\n",
      "1329/1329 [==============================] - 277s 209ms/step - loss: 0.5041 - accuracy: 0.8772 - val_loss: 1.7268 - val_accuracy: 0.6555\n",
      "Epoch 2/20\n",
      "1329/1329 [==============================] - 275s 207ms/step - loss: 0.5096 - accuracy: 0.8761 - val_loss: 2.0466 - val_accuracy: 0.6960\n",
      "Epoch 3/20\n",
      "1329/1329 [==============================] - 271s 204ms/step - loss: 0.4919 - accuracy: 0.8748 - val_loss: 2.3165 - val_accuracy: 0.6964\n",
      "Epoch 4/20\n",
      "1329/1329 [==============================] - 267s 201ms/step - loss: 0.5884 - accuracy: 0.8580 - val_loss: 1.8246 - val_accuracy: 0.7003\n",
      "Epoch 5/20\n",
      "1329/1329 [==============================] - 265s 199ms/step - loss: 0.5112 - accuracy: 0.8729 - val_loss: 2.1352 - val_accuracy: 0.7088\n",
      "Epoch 6/20\n",
      "1329/1329 [==============================] - 272s 204ms/step - loss: 0.4750 - accuracy: 0.8850 - val_loss: 2.3231 - val_accuracy: 0.7020\n",
      "Epoch 7/20\n",
      "1329/1329 [==============================] - 272s 204ms/step - loss: 0.5309 - accuracy: 0.8748 - val_loss: 2.0601 - val_accuracy: 0.6733\n",
      "Epoch 8/20\n",
      "1329/1329 [==============================] - 272s 205ms/step - loss: 0.5395 - accuracy: 0.8685 - val_loss: 2.0687 - val_accuracy: 0.6963\n",
      "Epoch 9/20\n",
      "1329/1329 [==============================] - 280s 210ms/step - loss: 0.4883 - accuracy: 0.8798 - val_loss: 2.1872 - val_accuracy: 0.7076\n",
      "Epoch 10/20\n",
      "1329/1329 [==============================] - 271s 204ms/step - loss: 0.4896 - accuracy: 0.8834 - val_loss: 2.4019 - val_accuracy: 0.6987\n",
      "Epoch 11/20\n",
      "1329/1329 [==============================] - 271s 204ms/step - loss: 0.4883 - accuracy: 0.8845 - val_loss: 2.6047 - val_accuracy: 0.7012\n",
      "Epoch 12/20\n",
      "1329/1329 [==============================] - 269s 203ms/step - loss: 0.4924 - accuracy: 0.8798 - val_loss: 2.6158 - val_accuracy: 0.7027\n",
      "Epoch 13/20\n",
      "1329/1329 [==============================] - 270s 203ms/step - loss: 0.6500 - accuracy: 0.8448 - val_loss: 2.1057 - val_accuracy: 0.6841\n",
      "Epoch 14/20\n",
      "1329/1329 [==============================] - 268s 202ms/step - loss: 0.5536 - accuracy: 0.8655 - val_loss: 1.9475 - val_accuracy: 0.6837\n",
      "Epoch 15/20\n",
      "1329/1329 [==============================] - 259s 195ms/step - loss: 0.5740 - accuracy: 0.8642 - val_loss: 1.8932 - val_accuracy: 0.6865\n",
      "Epoch 16/20\n",
      "1329/1329 [==============================] - 259s 195ms/step - loss: 0.5591 - accuracy: 0.8634 - val_loss: 2.3074 - val_accuracy: 0.6957\n",
      "Epoch 17/20\n",
      "1329/1329 [==============================] - 259s 195ms/step - loss: 0.6096 - accuracy: 0.8590 - val_loss: 1.9494 - val_accuracy: 0.6877\n",
      "Epoch 18/20\n",
      "1329/1329 [==============================] - 259s 195ms/step - loss: 0.6067 - accuracy: 0.8530 - val_loss: 2.1102 - val_accuracy: 0.6876\n",
      "Epoch 19/20\n",
      "1329/1329 [==============================] - 259s 195ms/step - loss: 0.4882 - accuracy: 0.8798 - val_loss: 2.2936 - val_accuracy: 0.6965\n",
      "Epoch 20/20\n",
      "1329/1329 [==============================] - 259s 195ms/step - loss: 0.6163 - accuracy: 0.8492 - val_loss: 2.4390 - val_accuracy: 0.6868\n"
     ]
    }
   ],
   "source": [
    "model_MLP.compile(loss=\"mse\", optimizer=\"adam\")\n",
    "history = model.fit(X_train, y_train, epochs=20,\n",
    "                    validation_data=(X_valid, y_valid))"
   ]
  },
  {
   "cell_type": "code",
   "execution_count": 115,
   "id": "75f42349",
   "metadata": {},
   "outputs": [
    {
     "name": "stdout",
     "output_type": "stream",
     "text": [
      "Epoch 1/20\n",
      "1329/1329 [==============================] - 258s 194ms/step - loss: 0.6559 - accuracy: 0.8385 - val_loss: 2.0219 - val_accuracy: 0.6444\n",
      "Epoch 2/20\n",
      "1329/1329 [==============================] - 263s 198ms/step - loss: 0.5928 - accuracy: 0.8559 - val_loss: 2.1518 - val_accuracy: 0.6924\n",
      "Epoch 3/20\n",
      "1329/1329 [==============================] - 262s 197ms/step - loss: 0.5531 - accuracy: 0.8665 - val_loss: 2.2296 - val_accuracy: 0.6855\n",
      "Epoch 4/20\n",
      "1329/1329 [==============================] - 262s 197ms/step - loss: 0.6741 - accuracy: 0.8350 - val_loss: 2.2382 - val_accuracy: 0.6812\n",
      "Epoch 5/20\n",
      "1329/1329 [==============================] - 263s 198ms/step - loss: 0.6521 - accuracy: 0.8465 - val_loss: 1.8071 - val_accuracy: 0.6739\n",
      "Epoch 6/20\n",
      "1329/1329 [==============================] - 264s 199ms/step - loss: 0.5820 - accuracy: 0.8576 - val_loss: 2.1585 - val_accuracy: 0.6837\n",
      "Epoch 7/20\n",
      "1329/1329 [==============================] - 264s 199ms/step - loss: 0.5968 - accuracy: 0.8575 - val_loss: 2.3186 - val_accuracy: 0.6771\n",
      "Epoch 8/20\n",
      "1329/1329 [==============================] - 264s 199ms/step - loss: 0.6285 - accuracy: 0.8487 - val_loss: 2.5148 - val_accuracy: 0.6809\n",
      "Epoch 9/20\n",
      "1329/1329 [==============================] - 263s 198ms/step - loss: 0.5965 - accuracy: 0.8600 - val_loss: 2.2825 - val_accuracy: 0.6924\n",
      "Epoch 10/20\n",
      "1329/1329 [==============================] - 263s 198ms/step - loss: 0.5872 - accuracy: 0.8556 - val_loss: 3.5783 - val_accuracy: 0.6715\n",
      "Epoch 11/20\n",
      "1329/1329 [==============================] - 271s 204ms/step - loss: 0.6761 - accuracy: 0.8384 - val_loss: 2.6931 - val_accuracy: 0.7007\n",
      "Epoch 12/20\n",
      "1329/1329 [==============================] - 303s 228ms/step - loss: 0.6056 - accuracy: 0.8536 - val_loss: 2.2282 - val_accuracy: 0.6504\n",
      "Epoch 13/20\n",
      "1329/1329 [==============================] - 294s 222ms/step - loss: 0.7024 - accuracy: 0.8303 - val_loss: 2.4717 - val_accuracy: 0.6725\n",
      "Epoch 14/20\n",
      "1329/1329 [==============================] - 294s 221ms/step - loss: 0.6073 - accuracy: 0.8496 - val_loss: 2.4747 - val_accuracy: 0.6813\n",
      "Epoch 15/20\n",
      "1329/1329 [==============================] - 298s 224ms/step - loss: 0.6522 - accuracy: 0.8449 - val_loss: 2.3562 - val_accuracy: 0.6721\n",
      "Epoch 16/20\n",
      "1329/1329 [==============================] - 290s 218ms/step - loss: 0.6363 - accuracy: 0.8431 - val_loss: 2.2320 - val_accuracy: 0.6677\n",
      "Epoch 17/20\n",
      "1329/1329 [==============================] - 279s 210ms/step - loss: 0.6218 - accuracy: 0.8424 - val_loss: 2.2997 - val_accuracy: 0.6797\n",
      "Epoch 18/20\n",
      "1329/1329 [==============================] - 286s 215ms/step - loss: 0.6310 - accuracy: 0.8457 - val_loss: 2.7980 - val_accuracy: 0.6840\n",
      "Epoch 19/20\n",
      "1329/1329 [==============================] - 284s 213ms/step - loss: 0.6283 - accuracy: 0.8450 - val_loss: 2.9032 - val_accuracy: 0.6928\n",
      "Epoch 20/20\n",
      "1329/1329 [==============================] - 266s 200ms/step - loss: 0.6371 - accuracy: 0.8458 - val_loss: 2.2148 - val_accuracy: 0.6824\n"
     ]
    }
   ],
   "source": [
    "model_CNN.compile(loss=\"mse\", optimizer=\"adam\")\n",
    "history = model.fit(X_train, y_train, epochs=20,\n",
    "                    validation_data=(X_valid, y_valid))"
   ]
  },
  {
   "cell_type": "code",
   "execution_count": 118,
   "id": "d293d2d1",
   "metadata": {},
   "outputs": [],
   "source": [
    "def generate_time_series(batch_size, n_steps):\n",
    "    freq1, freq2, offsets1, offsets2 = np.random.rand(4, batch_size, 1)\n",
    "    time = np.linspace(0, 1, n_steps)\n",
    "    series = 0.5 * np.sin((time - offsets1) * (freq1 * 10 + 10))  #   wave 1\n",
    "    series += 0.2 * np.sin((time - offsets2) * (freq2 * 20 + 20)) # + wave 2\n",
    "    series += 0.1 * (np.random.rand(batch_size, n_steps) - 0.5)   # + noise\n",
    "    return series[..., np.newaxis].astype(np.float32)"
   ]
  },
  {
   "cell_type": "code",
   "execution_count": 167,
   "id": "4e9a713b",
   "metadata": {},
   "outputs": [],
   "source": [
    "def plot_multiple_forecasts(X, Y, Y_pred):\n",
    "    n_steps = X.shape[1]\n",
    "    ahead = Y.shape[1]\n",
    "    #plot_series(X[0, :, 0])\n",
    "    plt.plot(np.arange(n_steps, n_steps + ahead), Y[0, :, 0], \"bo-\", label=\"Actual\")\n",
    "    plt.plot(np.arange(n_steps, n_steps + ahead), Y_pred[0, :, 0], \"rx-\", label=\"Forecast\", markersize=10)\n",
    "    plt.axis([30, n_steps + ahead, 0, 0.5])\n",
    "    plt.legend(fontsize=14)"
   ]
  },
  {
   "cell_type": "code",
   "execution_count": 185,
   "id": "9eb54df8",
   "metadata": {},
   "outputs": [
    {
     "data": {
      "text/plain": [
       "array([[[[[ 0.3739076 ],\n",
       "          [-0.33011237],\n",
       "          [-1.0400838 ]],\n",
       "\n",
       "         [[ 0.40058714],\n",
       "          [-0.3401506 ],\n",
       "          [-1.067562  ]],\n",
       "\n",
       "         [[ 0.472345  ],\n",
       "          [-0.2822825 ],\n",
       "          [-1.0281082 ]],\n",
       "\n",
       "         ...,\n",
       "\n",
       "         [[ 0.08467738],\n",
       "          [-0.5749087 ],\n",
       "          [-1.2137326 ]],\n",
       "\n",
       "         [[-0.05874097],\n",
       "          [-0.6202519 ],\n",
       "          [-1.2055414 ]],\n",
       "\n",
       "         [[-0.19203578],\n",
       "          [-0.6954838 ],\n",
       "          [-1.2364224 ]]],\n",
       "\n",
       "\n",
       "        [[[ 0.30383423],\n",
       "          [-0.32287005],\n",
       "          [-1.0072231 ]],\n",
       "\n",
       "         [[ 0.30333358],\n",
       "          [-0.3432331 ],\n",
       "          [-1.1437994 ]],\n",
       "\n",
       "         [[ 0.4049644 ],\n",
       "          [-0.29781377],\n",
       "          [-1.0920568 ]],\n",
       "\n",
       "         ...,\n",
       "\n",
       "         [[ 0.08656385],\n",
       "          [-0.5652714 ],\n",
       "          [-1.2681274 ]],\n",
       "\n",
       "         [[-0.05756362],\n",
       "          [-0.61033666],\n",
       "          [-1.2452983 ]],\n",
       "\n",
       "         [[-0.1380765 ],\n",
       "          [-0.6460799 ],\n",
       "          [-1.2152878 ]]],\n",
       "\n",
       "\n",
       "        [[[ 0.29832983],\n",
       "          [-0.34481227],\n",
       "          [-1.0525883 ]],\n",
       "\n",
       "         [[ 0.31569067],\n",
       "          [-0.3476088 ],\n",
       "          [-1.2263392 ]],\n",
       "\n",
       "         [[ 0.40723774],\n",
       "          [-0.32848725],\n",
       "          [-1.200562  ]],\n",
       "\n",
       "         ...,\n",
       "\n",
       "         [[ 0.14284277],\n",
       "          [-0.5128649 ],\n",
       "          [-1.2240046 ]],\n",
       "\n",
       "         [[ 0.02290674],\n",
       "          [-0.54683393],\n",
       "          [-1.2159526 ]],\n",
       "\n",
       "         [[-0.1172465 ],\n",
       "          [-0.6272105 ],\n",
       "          [-1.2248966 ]]],\n",
       "\n",
       "\n",
       "        ...,\n",
       "\n",
       "\n",
       "        [[[-0.91083884],\n",
       "          [-0.03105136],\n",
       "          [ 0.95975065]],\n",
       "\n",
       "         [[-1.3067391 ],\n",
       "          [-0.38940418],\n",
       "          [ 0.56543833]],\n",
       "\n",
       "         [[-1.4780164 ],\n",
       "          [-0.57501394],\n",
       "          [ 0.41261196]],\n",
       "\n",
       "         ...,\n",
       "\n",
       "         [[-1.3731059 ],\n",
       "          [-0.4296705 ],\n",
       "          [ 0.5523042 ]],\n",
       "\n",
       "         [[-1.7711234 ],\n",
       "          [-0.9841237 ],\n",
       "          [-0.05796459]],\n",
       "\n",
       "         [[-1.3421177 ],\n",
       "          [-0.6495753 ],\n",
       "          [ 0.21455257]]],\n",
       "\n",
       "\n",
       "        [[[-1.0190364 ],\n",
       "          [-0.1645931 ],\n",
       "          [ 0.81030357]],\n",
       "\n",
       "         [[-1.1987224 ],\n",
       "          [-0.36698708],\n",
       "          [ 0.5463545 ]],\n",
       "\n",
       "         [[-1.4246069 ],\n",
       "          [-0.64213765],\n",
       "          [ 0.3092735 ]],\n",
       "\n",
       "         ...,\n",
       "\n",
       "         [[-1.5693518 ],\n",
       "          [-0.6937819 ],\n",
       "          [ 0.27653858]],\n",
       "\n",
       "         [[-1.5176383 ],\n",
       "          [-0.6964452 ],\n",
       "          [ 0.20567314]],\n",
       "\n",
       "         [[-1.6478523 ],\n",
       "          [-0.9893245 ],\n",
       "          [-0.10053547]]],\n",
       "\n",
       "\n",
       "        [[[-1.1267366 ],\n",
       "          [-0.3148318 ],\n",
       "          [ 0.6707897 ]],\n",
       "\n",
       "         [[-1.0979798 ],\n",
       "          [-0.3328197 ],\n",
       "          [ 0.5369997 ]],\n",
       "\n",
       "         [[-1.2817271 ],\n",
       "          [-0.59704685],\n",
       "          [ 0.27872536]],\n",
       "\n",
       "         ...,\n",
       "\n",
       "         [[-1.6080353 ],\n",
       "          [-0.79177845],\n",
       "          [ 0.15702751]],\n",
       "\n",
       "         [[-1.4435136 ],\n",
       "          [-0.67434114],\n",
       "          [ 0.23197877]],\n",
       "\n",
       "         [[-1.6292605 ],\n",
       "          [-0.9415564 ],\n",
       "          [-0.06587516]]]],\n",
       "\n",
       "\n",
       "\n",
       "       [[[[ 1.4244334 ],\n",
       "          [ 1.3604711 ],\n",
       "          [ 1.275523  ]],\n",
       "\n",
       "         [[ 1.3962792 ],\n",
       "          [ 1.3324188 ],\n",
       "          [ 1.2477434 ]],\n",
       "\n",
       "         [[ 1.4011343 ],\n",
       "          [ 1.3393133 ],\n",
       "          [ 1.2534732 ]],\n",
       "\n",
       "         ...,\n",
       "\n",
       "         [[ 1.4124624 ],\n",
       "          [ 1.3484695 ],\n",
       "          [ 1.2644299 ]],\n",
       "\n",
       "         [[ 1.414752  ],\n",
       "          [ 1.3501351 ],\n",
       "          [ 1.2657188 ]],\n",
       "\n",
       "         [[ 1.3940889 ],\n",
       "          [ 1.3302664 ],\n",
       "          [ 1.2490655 ]]],\n",
       "\n",
       "\n",
       "        [[[ 1.489484  ],\n",
       "          [ 1.4268863 ],\n",
       "          [ 1.3367019 ]],\n",
       "\n",
       "         [[ 1.4743115 ],\n",
       "          [ 1.412398  ],\n",
       "          [ 1.321481  ]],\n",
       "\n",
       "         [[ 1.4689599 ],\n",
       "          [ 1.4098632 ],\n",
       "          [ 1.3188761 ]],\n",
       "\n",
       "         ...,\n",
       "\n",
       "         [[ 1.4874448 ],\n",
       "          [ 1.4245857 ],\n",
       "          [ 1.3337837 ]],\n",
       "\n",
       "         [[ 1.4889288 ],\n",
       "          [ 1.4243693 ],\n",
       "          [ 1.3331226 ]],\n",
       "\n",
       "         [[ 1.4663337 ],\n",
       "          [ 1.4030622 ],\n",
       "          [ 1.3159605 ]]],\n",
       "\n",
       "\n",
       "        [[[ 1.4953959 ],\n",
       "          [ 1.4360318 ],\n",
       "          [ 1.3503497 ]],\n",
       "\n",
       "         [[ 1.4859855 ],\n",
       "          [ 1.4276965 ],\n",
       "          [ 1.3406255 ]],\n",
       "\n",
       "         [[ 1.4863003 ],\n",
       "          [ 1.4314976 ],\n",
       "          [ 1.3441881 ]],\n",
       "\n",
       "         ...,\n",
       "\n",
       "         [[ 1.506976  ],\n",
       "          [ 1.4480295 ],\n",
       "          [ 1.3588669 ]],\n",
       "\n",
       "         [[ 1.5053862 ],\n",
       "          [ 1.4435626 ],\n",
       "          [ 1.3547646 ]],\n",
       "\n",
       "         [[ 1.4777938 ],\n",
       "          [ 1.4174373 ],\n",
       "          [ 1.3338109 ]]],\n",
       "\n",
       "\n",
       "        ...,\n",
       "\n",
       "\n",
       "        [[[-0.61503106],\n",
       "          [-0.43474615],\n",
       "          [-0.38389874]],\n",
       "\n",
       "         [[-1.2908967 ],\n",
       "          [-1.1957865 ],\n",
       "          [-1.1653013 ]],\n",
       "\n",
       "         [[-1.6690558 ],\n",
       "          [-1.6499329 ],\n",
       "          [-1.5665239 ]],\n",
       "\n",
       "         ...,\n",
       "\n",
       "         [[ 0.71474314],\n",
       "          [ 1.0102546 ],\n",
       "          [ 1.0708022 ]],\n",
       "\n",
       "         [[ 0.91112787],\n",
       "          [ 1.208434  ],\n",
       "          [ 1.2681612 ]],\n",
       "\n",
       "         [[ 0.983106  ],\n",
       "          [ 1.2588677 ],\n",
       "          [ 1.3551738 ]]],\n",
       "\n",
       "\n",
       "        [[[-0.6944855 ],\n",
       "          [-0.48527852],\n",
       "          [-0.49405876]],\n",
       "\n",
       "         [[-1.2458285 ],\n",
       "          [-1.1012596 ],\n",
       "          [-1.1836303 ]],\n",
       "\n",
       "         [[-1.4088084 ],\n",
       "          [-1.3152586 ],\n",
       "          [-1.4026234 ]],\n",
       "\n",
       "         ...,\n",
       "\n",
       "         [[ 0.7673447 ],\n",
       "          [ 1.0617065 ],\n",
       "          [ 1.1013851 ]],\n",
       "\n",
       "         [[ 0.93580204],\n",
       "          [ 1.2318985 ],\n",
       "          [ 1.2886912 ]],\n",
       "\n",
       "         [[ 0.95072347],\n",
       "          [ 1.239271  ],\n",
       "          [ 1.3198602 ]]],\n",
       "\n",
       "\n",
       "        [[[-0.65218055],\n",
       "          [-0.41004086],\n",
       "          [-0.4866718 ]],\n",
       "\n",
       "         [[-1.0045191 ],\n",
       "          [-0.8179031 ],\n",
       "          [-1.0095536 ]],\n",
       "\n",
       "         [[-1.0779524 ],\n",
       "          [-0.95501876],\n",
       "          [-1.16953   ]],\n",
       "\n",
       "         ...,\n",
       "\n",
       "         [[ 0.64636797],\n",
       "          [ 0.932121  ],\n",
       "          [ 0.9903839 ]],\n",
       "\n",
       "         [[ 0.8348876 ],\n",
       "          [ 1.1244338 ],\n",
       "          [ 1.184468  ]],\n",
       "\n",
       "         [[ 0.9176776 ],\n",
       "          [ 1.1869351 ],\n",
       "          [ 1.283736  ]]]],\n",
       "\n",
       "\n",
       "\n",
       "       [[[[ 0.3739076 ],\n",
       "          [ 0.74196506],\n",
       "          [ 1.1136795 ]],\n",
       "\n",
       "         [[ 0.3867581 ],\n",
       "          [ 0.7191434 ],\n",
       "          [ 1.084162  ]],\n",
       "\n",
       "         [[ 0.11191935],\n",
       "          [ 0.41668126],\n",
       "          [ 0.7744671 ]],\n",
       "\n",
       "         ...,\n",
       "\n",
       "         [[ 1.3433069 ],\n",
       "          [ 1.3205944 ],\n",
       "          [ 1.2770094 ]],\n",
       "\n",
       "         [[ 1.4698359 ],\n",
       "          [ 1.4333909 ],\n",
       "          [ 1.3911635 ]],\n",
       "\n",
       "         [[ 1.4761298 ],\n",
       "          [ 1.4542919 ],\n",
       "          [ 1.4239239 ]]],\n",
       "\n",
       "\n",
       "        [[[ 0.5519935 ],\n",
       "          [ 0.899182  ],\n",
       "          [ 1.2238927 ]],\n",
       "\n",
       "         [[ 0.59607804],\n",
       "          [ 0.9067762 ],\n",
       "          [ 1.2076988 ]],\n",
       "\n",
       "         [[ 0.29296485],\n",
       "          [ 0.57719433],\n",
       "          [ 0.88744605]],\n",
       "\n",
       "         ...,\n",
       "\n",
       "         [[ 1.4314095 ],\n",
       "          [ 1.3681359 ],\n",
       "          [ 1.3337837 ]],\n",
       "\n",
       "         [[ 1.6282524 ],\n",
       "          [ 1.5646938 ],\n",
       "          [ 1.5100731 ]],\n",
       "\n",
       "         [[ 1.618476  ],\n",
       "          [ 1.5703391 ],\n",
       "          [ 1.5174528 ]]],\n",
       "\n",
       "\n",
       "        [[[ 0.6184754 ],\n",
       "          [ 0.93122566],\n",
       "          [ 1.1985852 ]],\n",
       "\n",
       "         [[ 0.6681891 ],\n",
       "          [ 0.94481343],\n",
       "          [ 1.1873739 ]],\n",
       "\n",
       "         [[ 0.39303955],\n",
       "          [ 0.64451253],\n",
       "          [ 0.89435863]],\n",
       "\n",
       "         ...,\n",
       "\n",
       "         [[ 1.4359274 ],\n",
       "          [ 1.362151  ],\n",
       "          [ 1.3203167 ]],\n",
       "\n",
       "         [[ 1.717169  ],\n",
       "          [ 1.6426022 ],\n",
       "          [ 1.5593988 ]],\n",
       "\n",
       "         [[ 1.6317011 ],\n",
       "          [ 1.5584476 ],\n",
       "          [ 1.4992994 ]]],\n",
       "\n",
       "\n",
       "        ...,\n",
       "\n",
       "\n",
       "        [[[-1.4868857 ],\n",
       "          [-1.387466  ],\n",
       "          [-1.0557235 ]],\n",
       "\n",
       "         [[-1.4968479 ],\n",
       "          [-1.3932679 ],\n",
       "          [-1.0561556 ]],\n",
       "\n",
       "         [[-1.5576162 ],\n",
       "          [-1.4514863 ],\n",
       "          [-1.1110085 ]],\n",
       "\n",
       "         ...,\n",
       "\n",
       "         [[-1.3890437 ],\n",
       "          [-1.3730698 ],\n",
       "          [-1.0189022 ]],\n",
       "\n",
       "         [[-1.8346087 ],\n",
       "          [-1.824879  ],\n",
       "          [-1.5245036 ]],\n",
       "\n",
       "         [[-1.9077126 ],\n",
       "          [-1.9218706 ],\n",
       "          [-1.665931  ]]],\n",
       "\n",
       "\n",
       "        [[[-1.606319  ],\n",
       "          [-1.4794035 ],\n",
       "          [-1.14624   ]],\n",
       "\n",
       "         [[-1.5441669 ],\n",
       "          [-1.4112858 ],\n",
       "          [-1.0755063 ]],\n",
       "\n",
       "         [[-1.5825928 ],\n",
       "          [-1.4465994 ],\n",
       "          [-1.106932  ]],\n",
       "\n",
       "         ...,\n",
       "\n",
       "         [[-1.6798712 ],\n",
       "          [-1.7109809 ],\n",
       "          [-1.3731548 ]],\n",
       "\n",
       "         [[-1.9108179 ],\n",
       "          [-1.9384295 ],\n",
       "          [-1.6973442 ]],\n",
       "\n",
       "         [[-1.8812573 ],\n",
       "          [-1.9098315 ],\n",
       "          [-1.688935  ]]],\n",
       "\n",
       "\n",
       "        [[[-1.5247513 ],\n",
       "          [-1.3621314 ],\n",
       "          [-1.0278227 ]],\n",
       "\n",
       "         [[-1.5029765 ],\n",
       "          [-1.3353255 ],\n",
       "          [-0.97892874]],\n",
       "\n",
       "         [[-1.4855016 ],\n",
       "          [-1.3129908 ],\n",
       "          [-0.95383245]],\n",
       "\n",
       "         ...,\n",
       "\n",
       "         [[-1.9054912 ],\n",
       "          [-1.9464658 ],\n",
       "          [-1.6331453 ]],\n",
       "\n",
       "         [[-1.9116783 ],\n",
       "          [-1.9545504 ],\n",
       "          [-1.7037253 ]],\n",
       "\n",
       "         [[-1.8453643 ],\n",
       "          [-1.8857745 ],\n",
       "          [-1.6277847 ]]]]], dtype=float32)"
      ]
     },
     "execution_count": 185,
     "metadata": {},
     "output_type": "execute_result"
    }
   ],
   "source": [
    "X_new = X_test[:3]\n",
    "X_new"
   ]
  },
  {
   "cell_type": "code",
   "execution_count": 186,
   "id": "6433700e",
   "metadata": {},
   "outputs": [
    {
     "data": {
      "text/plain": [
       "array([[[[[ 0.3739076 ],\n",
       "          [-0.33011237],\n",
       "          [-1.0400838 ]],\n",
       "\n",
       "         [[ 0.40058714],\n",
       "          [-0.3401506 ],\n",
       "          [-1.067562  ]],\n",
       "\n",
       "         [[ 0.472345  ],\n",
       "          [-0.2822825 ],\n",
       "          [-1.0281082 ]],\n",
       "\n",
       "         ...,\n",
       "\n",
       "         [[ 0.08467738],\n",
       "          [-0.5749087 ],\n",
       "          [-1.2137326 ]],\n",
       "\n",
       "         [[-0.05874097],\n",
       "          [-0.6202519 ],\n",
       "          [-1.2055414 ]],\n",
       "\n",
       "         [[-0.19203578],\n",
       "          [-0.6954838 ],\n",
       "          [-1.2364224 ]]],\n",
       "\n",
       "\n",
       "        [[[ 0.30383423],\n",
       "          [-0.32287005],\n",
       "          [-1.0072231 ]],\n",
       "\n",
       "         [[ 0.30333358],\n",
       "          [-0.3432331 ],\n",
       "          [-1.1437994 ]],\n",
       "\n",
       "         [[ 0.4049644 ],\n",
       "          [-0.29781377],\n",
       "          [-1.0920568 ]],\n",
       "\n",
       "         ...,\n",
       "\n",
       "         [[ 0.08656385],\n",
       "          [-0.5652714 ],\n",
       "          [-1.2681274 ]],\n",
       "\n",
       "         [[-0.05756362],\n",
       "          [-0.61033666],\n",
       "          [-1.2452983 ]],\n",
       "\n",
       "         [[-0.1380765 ],\n",
       "          [-0.6460799 ],\n",
       "          [-1.2152878 ]]],\n",
       "\n",
       "\n",
       "        [[[ 0.29832983],\n",
       "          [-0.34481227],\n",
       "          [-1.0525883 ]],\n",
       "\n",
       "         [[ 0.31569067],\n",
       "          [-0.3476088 ],\n",
       "          [-1.2263392 ]],\n",
       "\n",
       "         [[ 0.40723774],\n",
       "          [-0.32848725],\n",
       "          [-1.200562  ]],\n",
       "\n",
       "         ...,\n",
       "\n",
       "         [[ 0.14284277],\n",
       "          [-0.5128649 ],\n",
       "          [-1.2240046 ]],\n",
       "\n",
       "         [[ 0.02290674],\n",
       "          [-0.54683393],\n",
       "          [-1.2159526 ]],\n",
       "\n",
       "         [[-0.1172465 ],\n",
       "          [-0.6272105 ],\n",
       "          [-1.2248966 ]]],\n",
       "\n",
       "\n",
       "        ...,\n",
       "\n",
       "\n",
       "        [[[-0.91083884],\n",
       "          [-0.03105136],\n",
       "          [ 0.95975065]],\n",
       "\n",
       "         [[-1.3067391 ],\n",
       "          [-0.38940418],\n",
       "          [ 0.56543833]],\n",
       "\n",
       "         [[-1.4780164 ],\n",
       "          [-0.57501394],\n",
       "          [ 0.41261196]],\n",
       "\n",
       "         ...,\n",
       "\n",
       "         [[-1.3731059 ],\n",
       "          [-0.4296705 ],\n",
       "          [ 0.5523042 ]],\n",
       "\n",
       "         [[-1.7711234 ],\n",
       "          [-0.9841237 ],\n",
       "          [-0.05796459]],\n",
       "\n",
       "         [[-1.3421177 ],\n",
       "          [-0.6495753 ],\n",
       "          [ 0.21455257]]],\n",
       "\n",
       "\n",
       "        [[[-1.0190364 ],\n",
       "          [-0.1645931 ],\n",
       "          [ 0.81030357]],\n",
       "\n",
       "         [[-1.1987224 ],\n",
       "          [-0.36698708],\n",
       "          [ 0.5463545 ]],\n",
       "\n",
       "         [[-1.4246069 ],\n",
       "          [-0.64213765],\n",
       "          [ 0.3092735 ]],\n",
       "\n",
       "         ...,\n",
       "\n",
       "         [[-1.5693518 ],\n",
       "          [-0.6937819 ],\n",
       "          [ 0.27653858]],\n",
       "\n",
       "         [[-1.5176383 ],\n",
       "          [-0.6964452 ],\n",
       "          [ 0.20567314]],\n",
       "\n",
       "         [[-1.6478523 ],\n",
       "          [-0.9893245 ],\n",
       "          [-0.10053547]]],\n",
       "\n",
       "\n",
       "        [[[-1.1267366 ],\n",
       "          [-0.3148318 ],\n",
       "          [ 0.6707897 ]],\n",
       "\n",
       "         [[-1.0979798 ],\n",
       "          [-0.3328197 ],\n",
       "          [ 0.5369997 ]],\n",
       "\n",
       "         [[-1.2817271 ],\n",
       "          [-0.59704685],\n",
       "          [ 0.27872536]],\n",
       "\n",
       "         ...,\n",
       "\n",
       "         [[-1.6080353 ],\n",
       "          [-0.79177845],\n",
       "          [ 0.15702751]],\n",
       "\n",
       "         [[-1.4435136 ],\n",
       "          [-0.67434114],\n",
       "          [ 0.23197877]],\n",
       "\n",
       "         [[-1.6292605 ],\n",
       "          [-0.9415564 ],\n",
       "          [-0.06587516]]]],\n",
       "\n",
       "\n",
       "\n",
       "       [[[[ 1.4244334 ],\n",
       "          [ 1.3604711 ],\n",
       "          [ 1.275523  ]],\n",
       "\n",
       "         [[ 1.3962792 ],\n",
       "          [ 1.3324188 ],\n",
       "          [ 1.2477434 ]],\n",
       "\n",
       "         [[ 1.4011343 ],\n",
       "          [ 1.3393133 ],\n",
       "          [ 1.2534732 ]],\n",
       "\n",
       "         ...,\n",
       "\n",
       "         [[ 1.4124624 ],\n",
       "          [ 1.3484695 ],\n",
       "          [ 1.2644299 ]],\n",
       "\n",
       "         [[ 1.414752  ],\n",
       "          [ 1.3501351 ],\n",
       "          [ 1.2657188 ]],\n",
       "\n",
       "         [[ 1.3940889 ],\n",
       "          [ 1.3302664 ],\n",
       "          [ 1.2490655 ]]],\n",
       "\n",
       "\n",
       "        [[[ 1.489484  ],\n",
       "          [ 1.4268863 ],\n",
       "          [ 1.3367019 ]],\n",
       "\n",
       "         [[ 1.4743115 ],\n",
       "          [ 1.412398  ],\n",
       "          [ 1.321481  ]],\n",
       "\n",
       "         [[ 1.4689599 ],\n",
       "          [ 1.4098632 ],\n",
       "          [ 1.3188761 ]],\n",
       "\n",
       "         ...,\n",
       "\n",
       "         [[ 1.4874448 ],\n",
       "          [ 1.4245857 ],\n",
       "          [ 1.3337837 ]],\n",
       "\n",
       "         [[ 1.4889288 ],\n",
       "          [ 1.4243693 ],\n",
       "          [ 1.3331226 ]],\n",
       "\n",
       "         [[ 1.4663337 ],\n",
       "          [ 1.4030622 ],\n",
       "          [ 1.3159605 ]]],\n",
       "\n",
       "\n",
       "        [[[ 1.4953959 ],\n",
       "          [ 1.4360318 ],\n",
       "          [ 1.3503497 ]],\n",
       "\n",
       "         [[ 1.4859855 ],\n",
       "          [ 1.4276965 ],\n",
       "          [ 1.3406255 ]],\n",
       "\n",
       "         [[ 1.4863003 ],\n",
       "          [ 1.4314976 ],\n",
       "          [ 1.3441881 ]],\n",
       "\n",
       "         ...,\n",
       "\n",
       "         [[ 1.506976  ],\n",
       "          [ 1.4480295 ],\n",
       "          [ 1.3588669 ]],\n",
       "\n",
       "         [[ 1.5053862 ],\n",
       "          [ 1.4435626 ],\n",
       "          [ 1.3547646 ]],\n",
       "\n",
       "         [[ 1.4777938 ],\n",
       "          [ 1.4174373 ],\n",
       "          [ 1.3338109 ]]],\n",
       "\n",
       "\n",
       "        ...,\n",
       "\n",
       "\n",
       "        [[[-0.61503106],\n",
       "          [-0.43474615],\n",
       "          [-0.38389874]],\n",
       "\n",
       "         [[-1.2908967 ],\n",
       "          [-1.1957865 ],\n",
       "          [-1.1653013 ]],\n",
       "\n",
       "         [[-1.6690558 ],\n",
       "          [-1.6499329 ],\n",
       "          [-1.5665239 ]],\n",
       "\n",
       "         ...,\n",
       "\n",
       "         [[ 0.71474314],\n",
       "          [ 1.0102546 ],\n",
       "          [ 1.0708022 ]],\n",
       "\n",
       "         [[ 0.91112787],\n",
       "          [ 1.208434  ],\n",
       "          [ 1.2681612 ]],\n",
       "\n",
       "         [[ 0.983106  ],\n",
       "          [ 1.2588677 ],\n",
       "          [ 1.3551738 ]]],\n",
       "\n",
       "\n",
       "        [[[-0.6944855 ],\n",
       "          [-0.48527852],\n",
       "          [-0.49405876]],\n",
       "\n",
       "         [[-1.2458285 ],\n",
       "          [-1.1012596 ],\n",
       "          [-1.1836303 ]],\n",
       "\n",
       "         [[-1.4088084 ],\n",
       "          [-1.3152586 ],\n",
       "          [-1.4026234 ]],\n",
       "\n",
       "         ...,\n",
       "\n",
       "         [[ 0.7673447 ],\n",
       "          [ 1.0617065 ],\n",
       "          [ 1.1013851 ]],\n",
       "\n",
       "         [[ 0.93580204],\n",
       "          [ 1.2318985 ],\n",
       "          [ 1.2886912 ]],\n",
       "\n",
       "         [[ 0.95072347],\n",
       "          [ 1.239271  ],\n",
       "          [ 1.3198602 ]]],\n",
       "\n",
       "\n",
       "        [[[-0.65218055],\n",
       "          [-0.41004086],\n",
       "          [-0.4866718 ]],\n",
       "\n",
       "         [[-1.0045191 ],\n",
       "          [-0.8179031 ],\n",
       "          [-1.0095536 ]],\n",
       "\n",
       "         [[-1.0779524 ],\n",
       "          [-0.95501876],\n",
       "          [-1.16953   ]],\n",
       "\n",
       "         ...,\n",
       "\n",
       "         [[ 0.64636797],\n",
       "          [ 0.932121  ],\n",
       "          [ 0.9903839 ]],\n",
       "\n",
       "         [[ 0.8348876 ],\n",
       "          [ 1.1244338 ],\n",
       "          [ 1.184468  ]],\n",
       "\n",
       "         [[ 0.9176776 ],\n",
       "          [ 1.1869351 ],\n",
       "          [ 1.283736  ]]]],\n",
       "\n",
       "\n",
       "\n",
       "       [[[[ 0.3739076 ],\n",
       "          [ 0.74196506],\n",
       "          [ 1.1136795 ]],\n",
       "\n",
       "         [[ 0.3867581 ],\n",
       "          [ 0.7191434 ],\n",
       "          [ 1.084162  ]],\n",
       "\n",
       "         [[ 0.11191935],\n",
       "          [ 0.41668126],\n",
       "          [ 0.7744671 ]],\n",
       "\n",
       "         ...,\n",
       "\n",
       "         [[ 1.3433069 ],\n",
       "          [ 1.3205944 ],\n",
       "          [ 1.2770094 ]],\n",
       "\n",
       "         [[ 1.4698359 ],\n",
       "          [ 1.4333909 ],\n",
       "          [ 1.3911635 ]],\n",
       "\n",
       "         [[ 1.4761298 ],\n",
       "          [ 1.4542919 ],\n",
       "          [ 1.4239239 ]]],\n",
       "\n",
       "\n",
       "        [[[ 0.5519935 ],\n",
       "          [ 0.899182  ],\n",
       "          [ 1.2238927 ]],\n",
       "\n",
       "         [[ 0.59607804],\n",
       "          [ 0.9067762 ],\n",
       "          [ 1.2076988 ]],\n",
       "\n",
       "         [[ 0.29296485],\n",
       "          [ 0.57719433],\n",
       "          [ 0.88744605]],\n",
       "\n",
       "         ...,\n",
       "\n",
       "         [[ 1.4314095 ],\n",
       "          [ 1.3681359 ],\n",
       "          [ 1.3337837 ]],\n",
       "\n",
       "         [[ 1.6282524 ],\n",
       "          [ 1.5646938 ],\n",
       "          [ 1.5100731 ]],\n",
       "\n",
       "         [[ 1.618476  ],\n",
       "          [ 1.5703391 ],\n",
       "          [ 1.5174528 ]]],\n",
       "\n",
       "\n",
       "        [[[ 0.6184754 ],\n",
       "          [ 0.93122566],\n",
       "          [ 1.1985852 ]],\n",
       "\n",
       "         [[ 0.6681891 ],\n",
       "          [ 0.94481343],\n",
       "          [ 1.1873739 ]],\n",
       "\n",
       "         [[ 0.39303955],\n",
       "          [ 0.64451253],\n",
       "          [ 0.89435863]],\n",
       "\n",
       "         ...,\n",
       "\n",
       "         [[ 1.4359274 ],\n",
       "          [ 1.362151  ],\n",
       "          [ 1.3203167 ]],\n",
       "\n",
       "         [[ 1.717169  ],\n",
       "          [ 1.6426022 ],\n",
       "          [ 1.5593988 ]],\n",
       "\n",
       "         [[ 1.6317011 ],\n",
       "          [ 1.5584476 ],\n",
       "          [ 1.4992994 ]]],\n",
       "\n",
       "\n",
       "        ...,\n",
       "\n",
       "\n",
       "        [[[-1.4868857 ],\n",
       "          [-1.387466  ],\n",
       "          [-1.0557235 ]],\n",
       "\n",
       "         [[-1.4968479 ],\n",
       "          [-1.3932679 ],\n",
       "          [-1.0561556 ]],\n",
       "\n",
       "         [[-1.5576162 ],\n",
       "          [-1.4514863 ],\n",
       "          [-1.1110085 ]],\n",
       "\n",
       "         ...,\n",
       "\n",
       "         [[-1.3890437 ],\n",
       "          [-1.3730698 ],\n",
       "          [-1.0189022 ]],\n",
       "\n",
       "         [[-1.8346087 ],\n",
       "          [-1.824879  ],\n",
       "          [-1.5245036 ]],\n",
       "\n",
       "         [[-1.9077126 ],\n",
       "          [-1.9218706 ],\n",
       "          [-1.665931  ]]],\n",
       "\n",
       "\n",
       "        [[[-1.606319  ],\n",
       "          [-1.4794035 ],\n",
       "          [-1.14624   ]],\n",
       "\n",
       "         [[-1.5441669 ],\n",
       "          [-1.4112858 ],\n",
       "          [-1.0755063 ]],\n",
       "\n",
       "         [[-1.5825928 ],\n",
       "          [-1.4465994 ],\n",
       "          [-1.106932  ]],\n",
       "\n",
       "         ...,\n",
       "\n",
       "         [[-1.6798712 ],\n",
       "          [-1.7109809 ],\n",
       "          [-1.3731548 ]],\n",
       "\n",
       "         [[-1.9108179 ],\n",
       "          [-1.9384295 ],\n",
       "          [-1.6973442 ]],\n",
       "\n",
       "         [[-1.8812573 ],\n",
       "          [-1.9098315 ],\n",
       "          [-1.688935  ]]],\n",
       "\n",
       "\n",
       "        [[[-1.5247513 ],\n",
       "          [-1.3621314 ],\n",
       "          [-1.0278227 ]],\n",
       "\n",
       "         [[-1.5029765 ],\n",
       "          [-1.3353255 ],\n",
       "          [-0.97892874]],\n",
       "\n",
       "         [[-1.4855016 ],\n",
       "          [-1.3129908 ],\n",
       "          [-0.95383245]],\n",
       "\n",
       "         ...,\n",
       "\n",
       "         [[-1.9054912 ],\n",
       "          [-1.9464658 ],\n",
       "          [-1.6331453 ]],\n",
       "\n",
       "         [[-1.9116783 ],\n",
       "          [-1.9545504 ],\n",
       "          [-1.7037253 ]],\n",
       "\n",
       "         [[-1.8453643 ],\n",
       "          [-1.8857745 ],\n",
       "          [-1.6277847 ]]]],\n",
       "\n",
       "\n",
       "\n",
       "       ...,\n",
       "\n",
       "\n",
       "\n",
       "       [[[[ 0.332978  ],\n",
       "          [ 0.31588304],\n",
       "          [ 0.44140664]],\n",
       "\n",
       "         [[ 0.30378374],\n",
       "          [ 0.3428153 ],\n",
       "          [ 0.44241986]],\n",
       "\n",
       "         [[ 0.11191935],\n",
       "          [ 0.20699216],\n",
       "          [ 0.30806655]],\n",
       "\n",
       "         ...,\n",
       "\n",
       "         [[ 0.61025894],\n",
       "          [ 0.56796825],\n",
       "          [ 0.49708018]],\n",
       "\n",
       "         [[ 0.57472336],\n",
       "          [ 0.5175773 ],\n",
       "          [ 0.4503285 ]],\n",
       "\n",
       "         [[ 0.4916387 ],\n",
       "          [ 0.46208775],\n",
       "          [ 0.42473286]]],\n",
       "\n",
       "\n",
       "        [[[ 0.27626097],\n",
       "          [ 0.26038212],\n",
       "          [ 0.34648764]],\n",
       "\n",
       "         [[ 0.28939337],\n",
       "          [ 0.33092928],\n",
       "          [ 0.39858124]],\n",
       "\n",
       "         [[ 0.15296543],\n",
       "          [ 0.22436853],\n",
       "          [ 0.29105747]],\n",
       "\n",
       "         ...,\n",
       "\n",
       "         [[ 0.6329074 ],\n",
       "          [ 0.5637256 ],\n",
       "          [ 0.52147985]],\n",
       "\n",
       "         [[ 0.55546045],\n",
       "          [ 0.48419484],\n",
       "          [ 0.44837043]],\n",
       "\n",
       "         [[ 0.45666182],\n",
       "          [ 0.39940083],\n",
       "          [ 0.3840582 ]]],\n",
       "\n",
       "\n",
       "        [[[ 0.29832983],\n",
       "          [ 0.3142403 ],\n",
       "          [ 0.36388043]],\n",
       "\n",
       "         [[ 0.3579905 ],\n",
       "          [ 0.39091823],\n",
       "          [ 0.42111585]],\n",
       "\n",
       "         [[ 0.18006669],\n",
       "          [ 0.25817442],\n",
       "          [ 0.30315408]],\n",
       "\n",
       "         ...,\n",
       "\n",
       "         [[ 0.59755385],\n",
       "          [ 0.5176782 ],\n",
       "          [ 0.52361006]],\n",
       "\n",
       "         [[ 0.5170666 ],\n",
       "          [ 0.43414727],\n",
       "          [ 0.44670033]],\n",
       "\n",
       "         [[ 0.3864505 ],\n",
       "          [ 0.3457599 ],\n",
       "          [ 0.34087977]]],\n",
       "\n",
       "\n",
       "        ...,\n",
       "\n",
       "\n",
       "        [[[-1.3000598 ],\n",
       "          [-0.45089394],\n",
       "          [-0.04798643]],\n",
       "\n",
       "         [[-1.3542662 ],\n",
       "          [-0.43877453],\n",
       "          [-0.05825165]],\n",
       "\n",
       "         [[-1.4461765 ],\n",
       "          [-0.47579068],\n",
       "          [-0.09002578]],\n",
       "\n",
       "         ...,\n",
       "\n",
       "         [[-0.75153244],\n",
       "          [-0.2145093 ],\n",
       "          [ 0.08094221]],\n",
       "\n",
       "         [[-0.8505875 ],\n",
       "          [-0.19282474],\n",
       "          [ 0.05124576]],\n",
       "\n",
       "         [[-0.7608117 ],\n",
       "          [-0.07867356],\n",
       "          [ 0.18372497]]],\n",
       "\n",
       "\n",
       "        [[[-1.3744969 ],\n",
       "          [-0.53338134],\n",
       "          [-0.14521772]],\n",
       "\n",
       "         [[-1.591273  ],\n",
       "          [-0.6280618 ],\n",
       "          [-0.21051392]],\n",
       "\n",
       "         [[-1.6773843 ],\n",
       "          [-0.60930246],\n",
       "          [-0.11091944]],\n",
       "\n",
       "         ...,\n",
       "\n",
       "         [[-0.7641388 ],\n",
       "          [-0.18518251],\n",
       "          [ 0.04309131]],\n",
       "\n",
       "         [[-0.79418796],\n",
       "          [-0.14082079],\n",
       "          [ 0.05095629]],\n",
       "\n",
       "         [[-0.7453529 ],\n",
       "          [-0.11726543],\n",
       "          [ 0.11328752]]],\n",
       "\n",
       "\n",
       "        [[[-0.9583457 ],\n",
       "          [-0.1878864 ],\n",
       "          [ 0.1296388 ]],\n",
       "\n",
       "         [[-1.3939389 ],\n",
       "          [-0.46217525],\n",
       "          [-0.07549668]],\n",
       "\n",
       "         [[-1.7206262 ],\n",
       "          [-0.6458612 ],\n",
       "          [-0.10644902]],\n",
       "\n",
       "         ...,\n",
       "\n",
       "         [[-0.95050097],\n",
       "          [-0.33640885],\n",
       "          [-0.15162297]],\n",
       "\n",
       "         [[-0.7568722 ],\n",
       "          [-0.15577543],\n",
       "          [ 0.01690045]],\n",
       "\n",
       "         [[-0.7031012 ],\n",
       "          [-0.14137168],\n",
       "          [ 0.08576653]]]],\n",
       "\n",
       "\n",
       "\n",
       "       [[[[ 1.6700107 ],\n",
       "          [ 1.5803845 ],\n",
       "          [ 1.5245129 ]],\n",
       "\n",
       "         [[ 1.6313732 ],\n",
       "          [ 1.5136138 ],\n",
       "          [ 1.5497397 ]],\n",
       "\n",
       "         [[ 1.5258969 ],\n",
       "          [ 1.3812511 ],\n",
       "          [ 1.5307924 ]],\n",
       "\n",
       "         ...,\n",
       "\n",
       "         [[ 1.5922667 ],\n",
       "          [ 1.4460322 ],\n",
       "          [ 1.5285995 ]],\n",
       "\n",
       "         [[ 1.4973778 ],\n",
       "          [ 1.377887  ],\n",
       "          [ 1.4915192 ]],\n",
       "\n",
       "         [[ 1.5034767 ],\n",
       "          [ 1.344047  ],\n",
       "          [ 1.4863733 ]]],\n",
       "\n",
       "\n",
       "        [[[ 1.6962833 ],\n",
       "          [ 1.6351906 ],\n",
       "          [ 1.549786  ]],\n",
       "\n",
       "         [[ 1.7252352 ],\n",
       "          [ 1.6511637 ],\n",
       "          [ 1.5743302 ]],\n",
       "\n",
       "         [[ 1.6929591 ],\n",
       "          [ 1.6215587 ],\n",
       "          [ 1.5726585 ]],\n",
       "\n",
       "         ...,\n",
       "\n",
       "         [[ 1.753612  ],\n",
       "          [ 1.6362727 ],\n",
       "          [ 1.549552  ]],\n",
       "\n",
       "         [[ 1.6839819 ],\n",
       "          [ 1.5927588 ],\n",
       "          [ 1.5227125 ]],\n",
       "\n",
       "         [[ 1.6461383 ],\n",
       "          [ 1.6121583 ],\n",
       "          [ 1.5426394 ]]],\n",
       "\n",
       "\n",
       "        [[[ 1.6624284 ],\n",
       "          [ 1.6603901 ],\n",
       "          [ 1.5779964 ]],\n",
       "\n",
       "         [[ 1.6974845 ],\n",
       "          [ 1.7117453 ],\n",
       "          [ 1.5960449 ]],\n",
       "\n",
       "         [[ 1.7134714 ],\n",
       "          [ 1.7319827 ],\n",
       "          [ 1.5883813 ]],\n",
       "\n",
       "         ...,\n",
       "\n",
       "         [[ 1.7911705 ],\n",
       "          [ 1.7056653 ],\n",
       "          [ 1.5773188 ]],\n",
       "\n",
       "         [[ 1.731288  ],\n",
       "          [ 1.6994706 ],\n",
       "          [ 1.5721884 ]],\n",
       "\n",
       "         [[ 1.603718  ],\n",
       "          [ 1.6712557 ],\n",
       "          [ 1.5629488 ]]],\n",
       "\n",
       "\n",
       "        ...,\n",
       "\n",
       "\n",
       "        [[[ 0.89514565],\n",
       "          [ 1.034703  ],\n",
       "          [ 0.9139444 ]],\n",
       "\n",
       "         [[ 0.95872265],\n",
       "          [ 1.1575332 ],\n",
       "          [ 0.95524454]],\n",
       "\n",
       "         [[ 0.6393376 ],\n",
       "          [ 0.94640976],\n",
       "          [ 0.89954215]],\n",
       "\n",
       "         ...,\n",
       "\n",
       "         [[ 0.507552  ],\n",
       "          [ 0.8612969 ],\n",
       "          [ 0.9136816 ]],\n",
       "\n",
       "         [[ 0.33976078],\n",
       "          [ 0.63144517],\n",
       "          [ 0.675305  ]],\n",
       "\n",
       "         [[ 0.2918234 ],\n",
       "          [ 0.4596053 ],\n",
       "          [ 0.4920011 ]]],\n",
       "\n",
       "\n",
       "        [[[ 0.7737208 ],\n",
       "          [ 0.9097032 ],\n",
       "          [ 0.84063756]],\n",
       "\n",
       "         [[ 0.9367521 ],\n",
       "          [ 1.1341925 ],\n",
       "          [ 0.96340436]],\n",
       "\n",
       "         [[ 0.5502156 ],\n",
       "          [ 0.8846977 ],\n",
       "          [ 0.8539679 ]],\n",
       "\n",
       "         ...,\n",
       "\n",
       "         [[ 0.32526702],\n",
       "          [ 0.6679521 ],\n",
       "          [ 0.7278697 ]],\n",
       "\n",
       "         [[ 0.2909876 ],\n",
       "          [ 0.5618809 ],\n",
       "          [ 0.60793704]],\n",
       "\n",
       "         [[ 0.28162917],\n",
       "          [ 0.4479582 ],\n",
       "          [ 0.49511442]]],\n",
       "\n",
       "\n",
       "        [[[ 0.57248014],\n",
       "          [ 0.7165997 ],\n",
       "          [ 0.70085365]],\n",
       "\n",
       "         [[ 0.69335145],\n",
       "          [ 0.8960584 ],\n",
       "          [ 0.7819982 ]],\n",
       "\n",
       "         [[ 0.33279485],\n",
       "          [ 0.6721264 ],\n",
       "          [ 0.7101205 ]],\n",
       "\n",
       "         ...,\n",
       "\n",
       "         [[ 0.11407836],\n",
       "          [ 0.46048814],\n",
       "          [ 0.5274082 ]],\n",
       "\n",
       "         [[ 0.4135395 ],\n",
       "          [ 0.686894  ],\n",
       "          [ 0.7235861 ]],\n",
       "\n",
       "         [[ 0.26936612],\n",
       "          [ 0.43476143],\n",
       "          [ 0.48003504]]]],\n",
       "\n",
       "\n",
       "\n",
       "       [[[[ 0.07375738],\n",
       "          [ 0.1921818 ],\n",
       "          [-0.5172048 ]],\n",
       "\n",
       "         [[ 0.08251885],\n",
       "          [ 0.32887724],\n",
       "          [-0.43840283]],\n",
       "\n",
       "         [[-0.08215611],\n",
       "          [ 0.1930129 ],\n",
       "          [-0.5112859 ]],\n",
       "\n",
       "         ...,\n",
       "\n",
       "         [[-1.3814188 ],\n",
       "          [-1.3135974 ],\n",
       "          [-1.3646866 ]],\n",
       "\n",
       "         [[-1.3256695 ],\n",
       "          [-1.2446704 ],\n",
       "          [-1.305897  ]],\n",
       "\n",
       "         [[-1.3269353 ],\n",
       "          [-1.2467084 ],\n",
       "          [-1.3238516 ]]],\n",
       "\n",
       "\n",
       "        [[[ 0.48306033],\n",
       "          [ 0.28815603],\n",
       "          [-0.11728368]],\n",
       "\n",
       "         [[ 0.30333358],\n",
       "          [ 0.41519955],\n",
       "          [-0.17032968]],\n",
       "\n",
       "         [[-0.01503388],\n",
       "          [ 0.19614246],\n",
       "          [-0.4829789 ]],\n",
       "\n",
       "         ...,\n",
       "\n",
       "         [[-1.3563436 ],\n",
       "          [-1.256782  ],\n",
       "          [-1.3315886 ]],\n",
       "\n",
       "         [[-1.3393412 ],\n",
       "          [-1.2558297 ],\n",
       "          [-1.3084949 ]],\n",
       "\n",
       "         [[-1.3413842 ],\n",
       "          [-1.2594286 ],\n",
       "          [-1.3286272 ]]],\n",
       "\n",
       "\n",
       "        [[[ 0.6184754 ],\n",
       "          [ 0.42641947],\n",
       "          [-0.09141314]],\n",
       "\n",
       "         [[ 0.5130898 ],\n",
       "          [ 0.37671578],\n",
       "          [ 0.1529255 ]],\n",
       "\n",
       "         [[ 0.05228296],\n",
       "          [ 0.14370388],\n",
       "          [-0.262346  ]],\n",
       "\n",
       "         ...,\n",
       "\n",
       "         [[-1.2781296 ],\n",
       "          [-1.1569544 ],\n",
       "          [-1.2625549 ]],\n",
       "\n",
       "         [[-1.3466222 ],\n",
       "          [-1.2434727 ],\n",
       "          [-1.3182697 ]],\n",
       "\n",
       "         [[-1.3485057 ],\n",
       "          [-1.2335545 ],\n",
       "          [-1.3140057 ]]],\n",
       "\n",
       "\n",
       "        ...,\n",
       "\n",
       "\n",
       "        [[[ 0.6927509 ],\n",
       "          [ 0.56641704],\n",
       "          [ 0.24211977]],\n",
       "\n",
       "         [[ 0.67355967],\n",
       "          [ 0.61445946],\n",
       "          [ 0.16003981]],\n",
       "\n",
       "         [[ 0.94181675],\n",
       "          [ 0.9133353 ],\n",
       "          [ 0.4283194 ]],\n",
       "\n",
       "         ...,\n",
       "\n",
       "         [[ 0.5713032 ],\n",
       "          [ 0.91094947],\n",
       "          [-0.23329903]],\n",
       "\n",
       "         [[ 0.6254443 ],\n",
       "          [ 0.9116969 ],\n",
       "          [-0.10476902]],\n",
       "\n",
       "         [[ 0.41751114],\n",
       "          [ 0.78583485],\n",
       "          [-0.278689  ]]],\n",
       "\n",
       "\n",
       "        [[[ 0.7273564 ],\n",
       "          [ 0.6691891 ],\n",
       "          [ 0.4311285 ]],\n",
       "\n",
       "         [[ 0.5913077 ],\n",
       "          [ 0.4978229 ],\n",
       "          [ 0.17564337]],\n",
       "\n",
       "         [[ 0.5186184 ],\n",
       "          [ 0.44142294],\n",
       "          [-0.00198055]],\n",
       "\n",
       "         ...,\n",
       "\n",
       "         [[ 0.46736342],\n",
       "          [ 0.8484229 ],\n",
       "          [-0.33042413]],\n",
       "\n",
       "         [[ 0.4797138 ],\n",
       "          [ 0.8070093 ],\n",
       "          [-0.24300572]],\n",
       "\n",
       "         [[ 0.42167217],\n",
       "          [ 0.80324155],\n",
       "          [-0.2990854 ]]],\n",
       "\n",
       "\n",
       "        [[[ 1.1541939 ],\n",
       "          [ 1.1291722 ],\n",
       "          [ 0.68582165]],\n",
       "\n",
       "         [[ 1.0827713 ],\n",
       "          [ 0.94456667],\n",
       "          [ 0.5982493 ]],\n",
       "\n",
       "         [[ 0.8030439 ],\n",
       "          [ 0.6883979 ],\n",
       "          [ 0.37116715]],\n",
       "\n",
       "         ...,\n",
       "\n",
       "         [[ 0.45850104],\n",
       "          [ 0.8670682 ],\n",
       "          [-0.2905157 ]],\n",
       "\n",
       "         [[ 0.49156693],\n",
       "          [ 0.8813561 ],\n",
       "          [-0.24426594]],\n",
       "\n",
       "         [[ 0.47003394],\n",
       "          [ 0.8508575 ],\n",
       "          [-0.24784519]]]]], dtype=float32)"
      ]
     },
     "execution_count": 186,
     "metadata": {},
     "output_type": "execute_result"
    }
   ],
   "source": [
    "X_new_1 = X_test[:-10]\n",
    "X_new_1"
   ]
  },
  {
   "cell_type": "code",
   "execution_count": 268,
   "id": "ba3898ed",
   "metadata": {},
   "outputs": [],
   "source": [
    "Y_pred_MLP = model_MLP.predict(X_new)[..., np.newaxis]"
   ]
  },
  {
   "cell_type": "code",
   "execution_count": 269,
   "id": "50bf2dba",
   "metadata": {},
   "outputs": [],
   "source": [
    "Y_pred_CNN = model_CNN.predict(X_new_1)[..., np.newaxis]"
   ]
  },
  {
   "cell_type": "code",
   "execution_count": 270,
   "id": "5db0d267",
   "metadata": {},
   "outputs": [
    {
     "data": {
      "image/png": "[encoded data removed]",
      "text/plain": [
       "<Figure size 432x288 with 1 Axes>"
      ]
     },
     "metadata": {
      "needs_background": "light"
     },
     "output_type": "display_data"
    }
   ],
   "source": [
    "plot_multiple_forecasts(X_new, Y_new, Y_pred_MLP)\n",
    "plt.show()"
   ]
  },
  {
   "cell_type": "code",
   "execution_count": 271,
   "id": "e579da86",
   "metadata": {},
   "outputs": [
    {
     "data": {
      "image/png": "[encoded data removed]",
      "text/plain": [
       "<Figure size 432x288 with 1 Axes>"
      ]
     },
     "metadata": {
      "needs_background": "light"
     },
     "output_type": "display_data"
    }
   ],
   "source": [
    "plot_multiple_forecasts(X_new, Y_new, Y_pred_CNN)\n",
    "plt.show()"
   ]
  },
  {
   "cell_type": "code",
   "execution_count": 89,
   "id": "90234331",
   "metadata": {},
   "outputs": [],
   "source": [
    "def f1(p, r):\n",
    "    return 2 * ((p*r)/(p+r))"
   ]
  },
  {
   "cell_type": "code",
   "execution_count": 99,
   "id": "f61f4759",
   "metadata": {},
   "outputs": [],
   "source": [
    "precisions_MLP = []\n",
    "recalls_MLP = []\n",
    "precisions_CNN = []\n",
    "recalls_CNN = []"
   ]
  },
  {
   "cell_type": "code",
   "execution_count": 100,
   "id": "7ba5f78b",
   "metadata": {},
   "outputs": [],
   "source": [
    "import numpy as np\n",
    "for ii in np.arange(0.01, 1.0, 0.01):\n",
    "    precisions_MLP.append(ii)\n",
    "precisions_MLP.append(1.0)"
   ]
  },
  {
   "cell_type": "code",
   "execution_count": 101,
   "id": "dc68761a",
   "metadata": {},
   "outputs": [],
   "source": [
    "for ii in np.arange(0.01, 1.0, 0.01):\n",
    "    recalls_MLP.append(ii)\n",
    "recalls_MLP.append(1.0)"
   ]
  },
  {
   "cell_type": "code",
   "execution_count": 103,
   "id": "29d6550e",
   "metadata": {},
   "outputs": [],
   "source": [
    "#precisions"
   ]
  },
  {
   "cell_type": "code",
   "execution_count": 106,
   "id": "b0b91f4a",
   "metadata": {},
   "outputs": [],
   "source": [
    "f1_scores_MLP = []\n",
    "for p, r in zip(precisions_MLP, recalls_MLP):\n",
    "    f1_scores_MLP.append(f1(p,r))"
   ]
  },
  {
   "cell_type": "code",
   "execution_count": 108,
   "id": "89f21837",
   "metadata": {},
   "outputs": [],
   "source": [
    "#f1_scores_MLP"
   ]
  },
  {
   "cell_type": "code",
   "execution_count": 279,
   "id": "e9cf1ace",
   "metadata": {},
   "outputs": [
    {
     "data": {
      "text/plain": [
       "array([3, 8, 8], dtype=uint8)"
      ]
     },
     "execution_count": 279,
     "metadata": {},
     "output_type": "execute_result"
    }
   ],
   "source": [
    "from sklearn.metrics import f1_score\n",
    "y_new"
   ]
  },
  {
   "cell_type": "code",
   "execution_count": 277,
   "id": "10229b0f",
   "metadata": {},
   "outputs": [
    {
     "data": {
      "text/plain": [
       "array([2, 1, 0])"
      ]
     },
     "execution_count": 277,
     "metadata": {},
     "output_type": "execute_result"
    }
   ],
   "source": [
    "y_pred"
   ]
  },
  {
   "cell_type": "code",
   "execution_count": 281,
   "id": "6ceda23a",
   "metadata": {},
   "outputs": [
    {
     "data": {
      "text/plain": [
       "0"
      ]
     },
     "execution_count": 281,
     "metadata": {},
     "output_type": "execute_result"
    }
   ],
   "source": [
    "from sklearn.metrics import accuracy_score\n",
    "import numpy as np\n",
    "#accuracy_score(y_test, y_pred)\n",
    "accuracy_score(y_new, y_pred, normalize=False)\n",
    "\n",
    "#accuracy_score(np.array([[0, 1], [1, 1]]), np.ones((2, 2)))"
   ]
  },
  {
   "cell_type": "markdown",
   "id": "7dff43a9",
   "metadata": {},
   "source": [
    "#### Show right images and wrong images"
   ]
  },
  {
   "cell_type": "code",
   "execution_count": 282,
   "id": "df5aea5d",
   "metadata": {},
   "outputs": [
    {
     "data": {
      "image/png": "[encoded data removed]",
      "text/plain": [
       "<Figure size 518.4x172.8 with 3 Axes>"
      ]
     },
     "metadata": {
      "needs_background": "light"
     },
     "output_type": "display_data"
    }
   ],
   "source": [
    "\n",
    "plt.figure(figsize=(7.2, 2.4))\n",
    "for index, image in enumerate(X_new):\n",
    "    plt.subplot(1, 3, index + 1)\n",
    "    plt.imshow(image, cmap=\"binary\", interpolation=\"nearest\")\n",
    "    plt.axis('off')\n",
    "    plt.title(class_names[y_test[index]], fontsize=12)\n",
    "plt.subplots_adjust(wspace=0.2, hspace=0.5)\n",
    "\n",
    "plt.show()"
   ]
  },
  {
   "cell_type": "code",
   "execution_count": 296,
   "id": "ccb6b656",
   "metadata": {},
   "outputs": [],
   "source": [
    "X_new_1 = X_test[-3:]"
   ]
  },
  {
   "cell_type": "code",
   "execution_count": 297,
   "id": "e6def75f",
   "metadata": {},
   "outputs": [
    {
     "data": {
      "image/png": "[encoded data removed]",
      "text/plain": [
       "<Figure size 518.4x172.8 with 3 Axes>"
      ]
     },
     "metadata": {
      "needs_background": "light"
     },
     "output_type": "display_data"
    }
   ],
   "source": [
    "plt.figure(figsize=(7.2, 2.4))\n",
    "for index, image in enumerate(X_new_1):\n",
    "    plt.subplot(1, 3, index + 1)\n",
    "    plt.imshow(image, cmap=\"binary\", interpolation=\"nearest\")\n",
    "    plt.axis('off')\n",
    "    plt.title(class_names[y_test[index]], fontsize=12)\n",
    "plt.subplots_adjust(wspace=0.2, hspace=0.5)\n",
    "\n",
    "plt.show()"
   ]
  },
  {
   "cell_type": "code",
   "execution_count": null,
   "id": "40c0064f",
   "metadata": {},
   "outputs": [],
   "source": []
  }
 ],
 "metadata": {
  "kernelspec": {
   "display_name": "Python 3 (ipykernel)",
   "language": "python",
   "name": "python3"
  },
  "language_info": {
   "codemirror_mode": {
    "name": "ipython",
    "version": 3
   },
   "file_extension": ".py",
   "mimetype": "text/x-python",
   "name": "python",
   "nbconvert_exporter": "python",
   "pygments_lexer": "ipython3",
   "version": "3.9.7"
  }
 },
 "nbformat": 4,
 "nbformat_minor": 5
}
